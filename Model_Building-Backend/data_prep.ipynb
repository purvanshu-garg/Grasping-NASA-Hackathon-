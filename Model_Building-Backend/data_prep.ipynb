{
 "cells": [
  {
   "cell_type": "code",
   "execution_count": 1,
   "id": "518ff46c",
   "metadata": {},
   "outputs": [],
   "source": [
    "import pandas as pd\n",
    "import numpy as np\n",
    "import seaborn as sns\n",
    "import matplotlib.pyplot as plt\n",
    "from sklearn.model_selection import train_test_split"
   ]
  },
  {
   "cell_type": "code",
   "execution_count": 3,
   "id": "c8cfde1e",
   "metadata": {},
   "outputs": [],
   "source": [
    "Kepler_dataset = pd.read_csv('Original Dataset\\Kepler_dataset.csv')\n",
    "TESS_dataset=pd.read_csv('Original Dataset\\TESS_dataset.csv')"
   ]
  },
  {
   "cell_type": "code",
   "execution_count": 4,
   "id": "418ca24b",
   "metadata": {},
   "outputs": [
    {
     "data": {
      "application/vnd.microsoft.datawrangler.viewer.v0+json": {
       "columns": [
        {
         "name": "index",
         "rawType": "int64",
         "type": "integer"
        },
        {
         "name": "koi_disposition",
         "rawType": "object",
         "type": "string"
        },
        {
         "name": "koi_pdisposition",
         "rawType": "object",
         "type": "string"
        },
        {
         "name": "koi_fpflag_nt",
         "rawType": "int64",
         "type": "integer"
        },
        {
         "name": "koi_fpflag_ss",
         "rawType": "int64",
         "type": "integer"
        },
        {
         "name": "koi_fpflag_co",
         "rawType": "int64",
         "type": "integer"
        },
        {
         "name": "koi_fpflag_ec",
         "rawType": "int64",
         "type": "integer"
        },
        {
         "name": "koi_period",
         "rawType": "float64",
         "type": "float"
        },
        {
         "name": "koi_time0bk",
         "rawType": "float64",
         "type": "float"
        },
        {
         "name": "koi_impact",
         "rawType": "float64",
         "type": "float"
        },
        {
         "name": "koi_duration",
         "rawType": "float64",
         "type": "float"
        },
        {
         "name": "koi_depth",
         "rawType": "float64",
         "type": "float"
        },
        {
         "name": "koi_prad",
         "rawType": "float64",
         "type": "float"
        },
        {
         "name": "koi_teq",
         "rawType": "float64",
         "type": "float"
        },
        {
         "name": "koi_insol",
         "rawType": "float64",
         "type": "float"
        },
        {
         "name": "koi_model_snr",
         "rawType": "float64",
         "type": "float"
        },
        {
         "name": "koi_steff",
         "rawType": "float64",
         "type": "float"
        },
        {
         "name": "koi_slogg",
         "rawType": "float64",
         "type": "float"
        },
        {
         "name": "koi_srad",
         "rawType": "float64",
         "type": "float"
        }
       ],
       "ref": "a76962e2-b59d-4432-bbd0-bdb6c46313a0",
       "rows": [
        [
         "0",
         "CONFIRMED",
         "CANDIDATE",
         "0",
         "0",
         "0",
         "0",
         "9.48803557",
         "170.53875",
         "0.146",
         "2.9575",
         "616.0",
         "2.26",
         "793.0",
         "93.59",
         "35.8",
         "5455.0",
         "4.467",
         "0.927"
        ],
        [
         "1",
         "CONFIRMED",
         "CANDIDATE",
         "0",
         "0",
         "0",
         "0",
         "54.4183827",
         "162.51384",
         "0.586",
         "4.507",
         "875.0",
         "2.83",
         "443.0",
         "9.11",
         "25.8",
         "5455.0",
         "4.467",
         "0.927"
        ],
        [
         "2",
         "CANDIDATE",
         "CANDIDATE",
         "0",
         "0",
         "0",
         "0",
         "19.89913995",
         "175.850252",
         "0.969",
         "1.7822",
         "10800.0",
         "14.6",
         "638.0",
         "39.3",
         "76.3",
         "5853.0",
         "4.544",
         "0.868"
        ],
        [
         "3",
         "FALSE POSITIVE",
         "FALSE POSITIVE",
         "0",
         "1",
         "0",
         "0",
         "1.736952453",
         "170.307565",
         "1.276",
         "2.40641",
         "8080.0",
         "33.46",
         "1395.0",
         "891.96",
         "505.6",
         "5805.0",
         "4.564",
         "0.791"
        ],
        [
         "4",
         "CONFIRMED",
         "CANDIDATE",
         "0",
         "0",
         "0",
         "0",
         "2.525591777",
         "171.59555",
         "0.701",
         "1.6545",
         "603.0",
         "2.75",
         "1406.0",
         "926.16",
         "40.9",
         "6031.0",
         "4.438",
         "1.046"
        ]
       ],
       "shape": {
        "columns": 18,
        "rows": 5
       }
      },
      "text/html": [
       "<div>\n",
       "<style scoped>\n",
       "    .dataframe tbody tr th:only-of-type {\n",
       "        vertical-align: middle;\n",
       "    }\n",
       "\n",
       "    .dataframe tbody tr th {\n",
       "        vertical-align: top;\n",
       "    }\n",
       "\n",
       "    .dataframe thead th {\n",
       "        text-align: right;\n",
       "    }\n",
       "</style>\n",
       "<table border=\"1\" class=\"dataframe\">\n",
       "  <thead>\n",
       "    <tr style=\"text-align: right;\">\n",
       "      <th></th>\n",
       "      <th>koi_disposition</th>\n",
       "      <th>koi_pdisposition</th>\n",
       "      <th>koi_fpflag_nt</th>\n",
       "      <th>koi_fpflag_ss</th>\n",
       "      <th>koi_fpflag_co</th>\n",
       "      <th>koi_fpflag_ec</th>\n",
       "      <th>koi_period</th>\n",
       "      <th>koi_time0bk</th>\n",
       "      <th>koi_impact</th>\n",
       "      <th>koi_duration</th>\n",
       "      <th>koi_depth</th>\n",
       "      <th>koi_prad</th>\n",
       "      <th>koi_teq</th>\n",
       "      <th>koi_insol</th>\n",
       "      <th>koi_model_snr</th>\n",
       "      <th>koi_steff</th>\n",
       "      <th>koi_slogg</th>\n",
       "      <th>koi_srad</th>\n",
       "    </tr>\n",
       "  </thead>\n",
       "  <tbody>\n",
       "    <tr>\n",
       "      <th>0</th>\n",
       "      <td>CONFIRMED</td>\n",
       "      <td>CANDIDATE</td>\n",
       "      <td>0</td>\n",
       "      <td>0</td>\n",
       "      <td>0</td>\n",
       "      <td>0</td>\n",
       "      <td>9.488036</td>\n",
       "      <td>170.538750</td>\n",
       "      <td>0.146</td>\n",
       "      <td>2.95750</td>\n",
       "      <td>616.0</td>\n",
       "      <td>2.26</td>\n",
       "      <td>793.0</td>\n",
       "      <td>93.59</td>\n",
       "      <td>35.8</td>\n",
       "      <td>5455.0</td>\n",
       "      <td>4.467</td>\n",
       "      <td>0.927</td>\n",
       "    </tr>\n",
       "    <tr>\n",
       "      <th>1</th>\n",
       "      <td>CONFIRMED</td>\n",
       "      <td>CANDIDATE</td>\n",
       "      <td>0</td>\n",
       "      <td>0</td>\n",
       "      <td>0</td>\n",
       "      <td>0</td>\n",
       "      <td>54.418383</td>\n",
       "      <td>162.513840</td>\n",
       "      <td>0.586</td>\n",
       "      <td>4.50700</td>\n",
       "      <td>875.0</td>\n",
       "      <td>2.83</td>\n",
       "      <td>443.0</td>\n",
       "      <td>9.11</td>\n",
       "      <td>25.8</td>\n",
       "      <td>5455.0</td>\n",
       "      <td>4.467</td>\n",
       "      <td>0.927</td>\n",
       "    </tr>\n",
       "    <tr>\n",
       "      <th>2</th>\n",
       "      <td>CANDIDATE</td>\n",
       "      <td>CANDIDATE</td>\n",
       "      <td>0</td>\n",
       "      <td>0</td>\n",
       "      <td>0</td>\n",
       "      <td>0</td>\n",
       "      <td>19.899140</td>\n",
       "      <td>175.850252</td>\n",
       "      <td>0.969</td>\n",
       "      <td>1.78220</td>\n",
       "      <td>10800.0</td>\n",
       "      <td>14.60</td>\n",
       "      <td>638.0</td>\n",
       "      <td>39.30</td>\n",
       "      <td>76.3</td>\n",
       "      <td>5853.0</td>\n",
       "      <td>4.544</td>\n",
       "      <td>0.868</td>\n",
       "    </tr>\n",
       "    <tr>\n",
       "      <th>3</th>\n",
       "      <td>FALSE POSITIVE</td>\n",
       "      <td>FALSE POSITIVE</td>\n",
       "      <td>0</td>\n",
       "      <td>1</td>\n",
       "      <td>0</td>\n",
       "      <td>0</td>\n",
       "      <td>1.736952</td>\n",
       "      <td>170.307565</td>\n",
       "      <td>1.276</td>\n",
       "      <td>2.40641</td>\n",
       "      <td>8080.0</td>\n",
       "      <td>33.46</td>\n",
       "      <td>1395.0</td>\n",
       "      <td>891.96</td>\n",
       "      <td>505.6</td>\n",
       "      <td>5805.0</td>\n",
       "      <td>4.564</td>\n",
       "      <td>0.791</td>\n",
       "    </tr>\n",
       "    <tr>\n",
       "      <th>4</th>\n",
       "      <td>CONFIRMED</td>\n",
       "      <td>CANDIDATE</td>\n",
       "      <td>0</td>\n",
       "      <td>0</td>\n",
       "      <td>0</td>\n",
       "      <td>0</td>\n",
       "      <td>2.525592</td>\n",
       "      <td>171.595550</td>\n",
       "      <td>0.701</td>\n",
       "      <td>1.65450</td>\n",
       "      <td>603.0</td>\n",
       "      <td>2.75</td>\n",
       "      <td>1406.0</td>\n",
       "      <td>926.16</td>\n",
       "      <td>40.9</td>\n",
       "      <td>6031.0</td>\n",
       "      <td>4.438</td>\n",
       "      <td>1.046</td>\n",
       "    </tr>\n",
       "  </tbody>\n",
       "</table>\n",
       "</div>"
      ],
      "text/plain": [
       "  koi_disposition koi_pdisposition  koi_fpflag_nt  koi_fpflag_ss  \\\n",
       "0       CONFIRMED        CANDIDATE              0              0   \n",
       "1       CONFIRMED        CANDIDATE              0              0   \n",
       "2       CANDIDATE        CANDIDATE              0              0   \n",
       "3  FALSE POSITIVE   FALSE POSITIVE              0              1   \n",
       "4       CONFIRMED        CANDIDATE              0              0   \n",
       "\n",
       "   koi_fpflag_co  koi_fpflag_ec  koi_period  koi_time0bk  koi_impact  \\\n",
       "0              0              0    9.488036   170.538750       0.146   \n",
       "1              0              0   54.418383   162.513840       0.586   \n",
       "2              0              0   19.899140   175.850252       0.969   \n",
       "3              0              0    1.736952   170.307565       1.276   \n",
       "4              0              0    2.525592   171.595550       0.701   \n",
       "\n",
       "   koi_duration  koi_depth  koi_prad  koi_teq  koi_insol  koi_model_snr  \\\n",
       "0       2.95750      616.0      2.26    793.0      93.59           35.8   \n",
       "1       4.50700      875.0      2.83    443.0       9.11           25.8   \n",
       "2       1.78220    10800.0     14.60    638.0      39.30           76.3   \n",
       "3       2.40641     8080.0     33.46   1395.0     891.96          505.6   \n",
       "4       1.65450      603.0      2.75   1406.0     926.16           40.9   \n",
       "\n",
       "   koi_steff  koi_slogg  koi_srad  \n",
       "0     5455.0      4.467     0.927  \n",
       "1     5455.0      4.467     0.927  \n",
       "2     5853.0      4.544     0.868  \n",
       "3     5805.0      4.564     0.791  \n",
       "4     6031.0      4.438     1.046  "
      ]
     },
     "execution_count": 4,
     "metadata": {},
     "output_type": "execute_result"
    }
   ],
   "source": [
    "Kepler_dataset.head()"
   ]
  },
  {
   "cell_type": "code",
   "execution_count": 5,
   "id": "ed2ab3dd",
   "metadata": {},
   "outputs": [
    {
     "data": {
      "application/vnd.microsoft.datawrangler.viewer.v0+json": {
       "columns": [
        {
         "name": "index",
         "rawType": "int64",
         "type": "integer"
        },
        {
         "name": "tfopwg_disp",
         "rawType": "object",
         "type": "string"
        },
        {
         "name": "pl_tranmid",
         "rawType": "float64",
         "type": "float"
        },
        {
         "name": "pl_orbper",
         "rawType": "float64",
         "type": "float"
        },
        {
         "name": "pl_trandurh",
         "rawType": "float64",
         "type": "float"
        },
        {
         "name": "pl_trandep",
         "rawType": "float64",
         "type": "float"
        },
        {
         "name": "pl_rade",
         "rawType": "float64",
         "type": "float"
        },
        {
         "name": "pl_insol",
         "rawType": "float64",
         "type": "float"
        },
        {
         "name": "pl_eqt",
         "rawType": "float64",
         "type": "float"
        },
        {
         "name": "st_dist",
         "rawType": "float64",
         "type": "float"
        },
        {
         "name": "st_teff",
         "rawType": "float64",
         "type": "float"
        },
        {
         "name": "st_logg",
         "rawType": "float64",
         "type": "float"
        },
        {
         "name": "st_rad",
         "rawType": "float64",
         "type": "float"
        }
       ],
       "ref": "7863175f-cc99-4412-833e-5679cca2b347",
       "rows": [
        [
         "0",
         "FP",
         "2459229.63",
         "2.1713484",
         "2.0172196",
         "656.8860989",
         "5.8181633",
         "22601.94858",
         "3127.204052",
         "485.735",
         "10249.0",
         "4.19",
         "2.16986"
        ],
        [
         "1",
         "PC",
         "2459987.949",
         "1.9316462",
         "3.166",
         "1286.0",
         "11.2154",
         "44464.5",
         "4045.0",
         "295.862",
         "7070.0",
         "4.03",
         "2.01"
        ],
        [
         "2",
         "FP",
         "2459224.688",
         "1.8675574",
         "1.408",
         "1500.0",
         "23.7529",
         "2860.61",
         "2037.0",
         "943.109",
         "8924.0",
         null,
         "5.73"
        ],
        [
         "3",
         "FP",
         "2458493.396",
         "2.74323",
         "3.167",
         "383.41",
         null,
         "1177.36",
         "1631.0",
         "7728.17",
         "5388.5",
         "4.15",
         null
        ],
        [
         "4",
         "FP",
         "2459987.047",
         "3.5730141",
         "3.37",
         "755.0",
         "11.3113",
         "54679.3",
         "4260.0",
         "356.437",
         "9219.0",
         "4.14",
         "2.15"
        ]
       ],
       "shape": {
        "columns": 12,
        "rows": 5
       }
      },
      "text/html": [
       "<div>\n",
       "<style scoped>\n",
       "    .dataframe tbody tr th:only-of-type {\n",
       "        vertical-align: middle;\n",
       "    }\n",
       "\n",
       "    .dataframe tbody tr th {\n",
       "        vertical-align: top;\n",
       "    }\n",
       "\n",
       "    .dataframe thead th {\n",
       "        text-align: right;\n",
       "    }\n",
       "</style>\n",
       "<table border=\"1\" class=\"dataframe\">\n",
       "  <thead>\n",
       "    <tr style=\"text-align: right;\">\n",
       "      <th></th>\n",
       "      <th>tfopwg_disp</th>\n",
       "      <th>pl_tranmid</th>\n",
       "      <th>pl_orbper</th>\n",
       "      <th>pl_trandurh</th>\n",
       "      <th>pl_trandep</th>\n",
       "      <th>pl_rade</th>\n",
       "      <th>pl_insol</th>\n",
       "      <th>pl_eqt</th>\n",
       "      <th>st_dist</th>\n",
       "      <th>st_teff</th>\n",
       "      <th>st_logg</th>\n",
       "      <th>st_rad</th>\n",
       "    </tr>\n",
       "  </thead>\n",
       "  <tbody>\n",
       "    <tr>\n",
       "      <th>0</th>\n",
       "      <td>FP</td>\n",
       "      <td>2459229.630</td>\n",
       "      <td>2.171348</td>\n",
       "      <td>2.01722</td>\n",
       "      <td>656.886099</td>\n",
       "      <td>5.818163</td>\n",
       "      <td>22601.94858</td>\n",
       "      <td>3127.204052</td>\n",
       "      <td>485.735</td>\n",
       "      <td>10249.0</td>\n",
       "      <td>4.19</td>\n",
       "      <td>2.16986</td>\n",
       "    </tr>\n",
       "    <tr>\n",
       "      <th>1</th>\n",
       "      <td>PC</td>\n",
       "      <td>2459987.949</td>\n",
       "      <td>1.931646</td>\n",
       "      <td>3.16600</td>\n",
       "      <td>1286.000000</td>\n",
       "      <td>11.215400</td>\n",
       "      <td>44464.50000</td>\n",
       "      <td>4045.000000</td>\n",
       "      <td>295.862</td>\n",
       "      <td>7070.0</td>\n",
       "      <td>4.03</td>\n",
       "      <td>2.01000</td>\n",
       "    </tr>\n",
       "    <tr>\n",
       "      <th>2</th>\n",
       "      <td>FP</td>\n",
       "      <td>2459224.688</td>\n",
       "      <td>1.867557</td>\n",
       "      <td>1.40800</td>\n",
       "      <td>1500.000000</td>\n",
       "      <td>23.752900</td>\n",
       "      <td>2860.61000</td>\n",
       "      <td>2037.000000</td>\n",
       "      <td>943.109</td>\n",
       "      <td>8924.0</td>\n",
       "      <td>NaN</td>\n",
       "      <td>5.73000</td>\n",
       "    </tr>\n",
       "    <tr>\n",
       "      <th>3</th>\n",
       "      <td>FP</td>\n",
       "      <td>2458493.396</td>\n",
       "      <td>2.743230</td>\n",
       "      <td>3.16700</td>\n",
       "      <td>383.410000</td>\n",
       "      <td>NaN</td>\n",
       "      <td>1177.36000</td>\n",
       "      <td>1631.000000</td>\n",
       "      <td>7728.170</td>\n",
       "      <td>5388.5</td>\n",
       "      <td>4.15</td>\n",
       "      <td>NaN</td>\n",
       "    </tr>\n",
       "    <tr>\n",
       "      <th>4</th>\n",
       "      <td>FP</td>\n",
       "      <td>2459987.047</td>\n",
       "      <td>3.573014</td>\n",
       "      <td>3.37000</td>\n",
       "      <td>755.000000</td>\n",
       "      <td>11.311300</td>\n",
       "      <td>54679.30000</td>\n",
       "      <td>4260.000000</td>\n",
       "      <td>356.437</td>\n",
       "      <td>9219.0</td>\n",
       "      <td>4.14</td>\n",
       "      <td>2.15000</td>\n",
       "    </tr>\n",
       "  </tbody>\n",
       "</table>\n",
       "</div>"
      ],
      "text/plain": [
       "  tfopwg_disp   pl_tranmid  pl_orbper  pl_trandurh   pl_trandep    pl_rade  \\\n",
       "0          FP  2459229.630   2.171348      2.01722   656.886099   5.818163   \n",
       "1          PC  2459987.949   1.931646      3.16600  1286.000000  11.215400   \n",
       "2          FP  2459224.688   1.867557      1.40800  1500.000000  23.752900   \n",
       "3          FP  2458493.396   2.743230      3.16700   383.410000        NaN   \n",
       "4          FP  2459987.047   3.573014      3.37000   755.000000  11.311300   \n",
       "\n",
       "      pl_insol       pl_eqt   st_dist  st_teff  st_logg   st_rad  \n",
       "0  22601.94858  3127.204052   485.735  10249.0     4.19  2.16986  \n",
       "1  44464.50000  4045.000000   295.862   7070.0     4.03  2.01000  \n",
       "2   2860.61000  2037.000000   943.109   8924.0      NaN  5.73000  \n",
       "3   1177.36000  1631.000000  7728.170   5388.5     4.15      NaN  \n",
       "4  54679.30000  4260.000000   356.437   9219.0     4.14  2.15000  "
      ]
     },
     "execution_count": 5,
     "metadata": {},
     "output_type": "execute_result"
    }
   ],
   "source": [
    "TESS_dataset.head()"
   ]
  },
  {
   "cell_type": "code",
   "execution_count": 6,
   "id": "953ea18f",
   "metadata": {},
   "outputs": [
    {
     "data": {
      "text/plain": [
       "array(['FP', 'PC', 'KP', 'APC', 'FA', 'CP'], dtype=object)"
      ]
     },
     "execution_count": 6,
     "metadata": {},
     "output_type": "execute_result"
    }
   ],
   "source": [
    "TESS_dataset['tfopwg_disp'].unique()"
   ]
  },
  {
   "cell_type": "code",
   "execution_count": 8,
   "id": "84ffe0dc",
   "metadata": {},
   "outputs": [
    {
     "data": {
      "text/plain": [
       "(1295, 12)"
      ]
     },
     "execution_count": 8,
     "metadata": {},
     "output_type": "execute_result"
    }
   ],
   "source": [
    "TESS_dataset[(TESS_dataset['tfopwg_disp']=='FP')|(TESS_dataset['tfopwg_disp']=='FA')].shape"
   ]
  },
  {
   "cell_type": "code",
   "execution_count": 10,
   "id": "0e821659",
   "metadata": {},
   "outputs": [
    {
     "data": {
      "text/plain": [
       "(1267, 12)"
      ]
     },
     "execution_count": 10,
     "metadata": {},
     "output_type": "execute_result"
    }
   ],
   "source": [
    "TESS_dataset[(TESS_dataset['tfopwg_disp']=='KP')|(TESS_dataset['tfopwg_disp']=='CP')].shape"
   ]
  },
  {
   "cell_type": "code",
   "execution_count": 11,
   "id": "0e289b84",
   "metadata": {},
   "outputs": [
    {
     "data": {
      "text/plain": [
       "array(['CANDIDATE', 'FALSE POSITIVE'], dtype=object)"
      ]
     },
     "execution_count": 11,
     "metadata": {},
     "output_type": "execute_result"
    }
   ],
   "source": [
    "Kepler_dataset['koi_pdisposition'].unique()"
   ]
  },
  {
   "cell_type": "code",
   "execution_count": 15,
   "id": "9cf66e7e",
   "metadata": {},
   "outputs": [
    {
     "data": {
      "application/vnd.microsoft.datawrangler.viewer.v0+json": {
       "columns": [
        {
         "name": "koi_pdisposition",
         "rawType": "object",
         "type": "string"
        },
        {
         "name": "koi_disposition",
         "rawType": "int64",
         "type": "integer"
        },
        {
         "name": "koi_fpflag_nt",
         "rawType": "int64",
         "type": "integer"
        },
        {
         "name": "koi_fpflag_ss",
         "rawType": "int64",
         "type": "integer"
        },
        {
         "name": "koi_fpflag_co",
         "rawType": "int64",
         "type": "integer"
        },
        {
         "name": "koi_fpflag_ec",
         "rawType": "int64",
         "type": "integer"
        },
        {
         "name": "koi_period",
         "rawType": "int64",
         "type": "integer"
        },
        {
         "name": "koi_time0bk",
         "rawType": "int64",
         "type": "integer"
        },
        {
         "name": "koi_impact",
         "rawType": "int64",
         "type": "integer"
        },
        {
         "name": "koi_duration",
         "rawType": "int64",
         "type": "integer"
        },
        {
         "name": "koi_depth",
         "rawType": "int64",
         "type": "integer"
        },
        {
         "name": "koi_prad",
         "rawType": "int64",
         "type": "integer"
        },
        {
         "name": "koi_teq",
         "rawType": "int64",
         "type": "integer"
        },
        {
         "name": "koi_insol",
         "rawType": "int64",
         "type": "integer"
        },
        {
         "name": "koi_model_snr",
         "rawType": "int64",
         "type": "integer"
        },
        {
         "name": "koi_steff",
         "rawType": "int64",
         "type": "integer"
        },
        {
         "name": "koi_slogg",
         "rawType": "int64",
         "type": "integer"
        },
        {
         "name": "koi_srad",
         "rawType": "int64",
         "type": "integer"
        }
       ],
       "ref": "605bc8f4-c3c4-4181-b112-eb6b49cbf1a1",
       "rows": [
        [
         "CANDIDATE",
         "4717",
         "4717",
         "4717",
         "4717",
         "4717",
         "4717",
         "4717",
         "4612",
         "4717",
         "4612",
         "4612",
         "4612",
         "4615",
         "4612",
         "4612",
         "4612",
         "4612"
        ],
        [
         "FALSE POSITIVE",
         "4847",
         "4847",
         "4847",
         "4847",
         "4847",
         "4847",
         "4847",
         "4589",
         "4847",
         "4589",
         "4589",
         "4589",
         "4628",
         "4589",
         "4589",
         "4589",
         "4589"
        ]
       ],
       "shape": {
        "columns": 17,
        "rows": 2
       }
      },
      "text/html": [
       "<div>\n",
       "<style scoped>\n",
       "    .dataframe tbody tr th:only-of-type {\n",
       "        vertical-align: middle;\n",
       "    }\n",
       "\n",
       "    .dataframe tbody tr th {\n",
       "        vertical-align: top;\n",
       "    }\n",
       "\n",
       "    .dataframe thead th {\n",
       "        text-align: right;\n",
       "    }\n",
       "</style>\n",
       "<table border=\"1\" class=\"dataframe\">\n",
       "  <thead>\n",
       "    <tr style=\"text-align: right;\">\n",
       "      <th></th>\n",
       "      <th>koi_disposition</th>\n",
       "      <th>koi_fpflag_nt</th>\n",
       "      <th>koi_fpflag_ss</th>\n",
       "      <th>koi_fpflag_co</th>\n",
       "      <th>koi_fpflag_ec</th>\n",
       "      <th>koi_period</th>\n",
       "      <th>koi_time0bk</th>\n",
       "      <th>koi_impact</th>\n",
       "      <th>koi_duration</th>\n",
       "      <th>koi_depth</th>\n",
       "      <th>koi_prad</th>\n",
       "      <th>koi_teq</th>\n",
       "      <th>koi_insol</th>\n",
       "      <th>koi_model_snr</th>\n",
       "      <th>koi_steff</th>\n",
       "      <th>koi_slogg</th>\n",
       "      <th>koi_srad</th>\n",
       "    </tr>\n",
       "    <tr>\n",
       "      <th>koi_pdisposition</th>\n",
       "      <th></th>\n",
       "      <th></th>\n",
       "      <th></th>\n",
       "      <th></th>\n",
       "      <th></th>\n",
       "      <th></th>\n",
       "      <th></th>\n",
       "      <th></th>\n",
       "      <th></th>\n",
       "      <th></th>\n",
       "      <th></th>\n",
       "      <th></th>\n",
       "      <th></th>\n",
       "      <th></th>\n",
       "      <th></th>\n",
       "      <th></th>\n",
       "      <th></th>\n",
       "    </tr>\n",
       "  </thead>\n",
       "  <tbody>\n",
       "    <tr>\n",
       "      <th>CANDIDATE</th>\n",
       "      <td>4717</td>\n",
       "      <td>4717</td>\n",
       "      <td>4717</td>\n",
       "      <td>4717</td>\n",
       "      <td>4717</td>\n",
       "      <td>4717</td>\n",
       "      <td>4717</td>\n",
       "      <td>4612</td>\n",
       "      <td>4717</td>\n",
       "      <td>4612</td>\n",
       "      <td>4612</td>\n",
       "      <td>4612</td>\n",
       "      <td>4615</td>\n",
       "      <td>4612</td>\n",
       "      <td>4612</td>\n",
       "      <td>4612</td>\n",
       "      <td>4612</td>\n",
       "    </tr>\n",
       "    <tr>\n",
       "      <th>FALSE POSITIVE</th>\n",
       "      <td>4847</td>\n",
       "      <td>4847</td>\n",
       "      <td>4847</td>\n",
       "      <td>4847</td>\n",
       "      <td>4847</td>\n",
       "      <td>4847</td>\n",
       "      <td>4847</td>\n",
       "      <td>4589</td>\n",
       "      <td>4847</td>\n",
       "      <td>4589</td>\n",
       "      <td>4589</td>\n",
       "      <td>4589</td>\n",
       "      <td>4628</td>\n",
       "      <td>4589</td>\n",
       "      <td>4589</td>\n",
       "      <td>4589</td>\n",
       "      <td>4589</td>\n",
       "    </tr>\n",
       "  </tbody>\n",
       "</table>\n",
       "</div>"
      ],
      "text/plain": [
       "                  koi_disposition  koi_fpflag_nt  koi_fpflag_ss  \\\n",
       "koi_pdisposition                                                  \n",
       "CANDIDATE                    4717           4717           4717   \n",
       "FALSE POSITIVE               4847           4847           4847   \n",
       "\n",
       "                  koi_fpflag_co  koi_fpflag_ec  koi_period  koi_time0bk  \\\n",
       "koi_pdisposition                                                          \n",
       "CANDIDATE                  4717           4717        4717         4717   \n",
       "FALSE POSITIVE             4847           4847        4847         4847   \n",
       "\n",
       "                  koi_impact  koi_duration  koi_depth  koi_prad  koi_teq  \\\n",
       "koi_pdisposition                                                           \n",
       "CANDIDATE               4612          4717       4612      4612     4612   \n",
       "FALSE POSITIVE          4589          4847       4589      4589     4589   \n",
       "\n",
       "                  koi_insol  koi_model_snr  koi_steff  koi_slogg  koi_srad  \n",
       "koi_pdisposition                                                            \n",
       "CANDIDATE              4615           4612       4612       4612      4612  \n",
       "FALSE POSITIVE         4628           4589       4589       4589      4589  "
      ]
     },
     "execution_count": 15,
     "metadata": {},
     "output_type": "execute_result"
    }
   ],
   "source": [
    "Kepler_dataset.groupby('koi_pdisposition').count()"
   ]
  },
  {
   "cell_type": "code",
   "execution_count": 18,
   "id": "878cf3d0",
   "metadata": {},
   "outputs": [],
   "source": [
    "Kepler_dataset=Kepler_dataset.drop(columns='koi_disposition',axis=0)"
   ]
  },
  {
   "cell_type": "code",
   "execution_count": 19,
   "id": "3bfd34e6",
   "metadata": {},
   "outputs": [
    {
     "data": {
      "application/vnd.microsoft.datawrangler.viewer.v0+json": {
       "columns": [
        {
         "name": "index",
         "rawType": "int64",
         "type": "integer"
        },
        {
         "name": "koi_pdisposition",
         "rawType": "object",
         "type": "string"
        },
        {
         "name": "koi_fpflag_nt",
         "rawType": "int64",
         "type": "integer"
        },
        {
         "name": "koi_fpflag_ss",
         "rawType": "int64",
         "type": "integer"
        },
        {
         "name": "koi_fpflag_co",
         "rawType": "int64",
         "type": "integer"
        },
        {
         "name": "koi_fpflag_ec",
         "rawType": "int64",
         "type": "integer"
        },
        {
         "name": "koi_period",
         "rawType": "float64",
         "type": "float"
        },
        {
         "name": "koi_time0bk",
         "rawType": "float64",
         "type": "float"
        },
        {
         "name": "koi_impact",
         "rawType": "float64",
         "type": "float"
        },
        {
         "name": "koi_duration",
         "rawType": "float64",
         "type": "float"
        },
        {
         "name": "koi_depth",
         "rawType": "float64",
         "type": "float"
        },
        {
         "name": "koi_prad",
         "rawType": "float64",
         "type": "float"
        },
        {
         "name": "koi_teq",
         "rawType": "float64",
         "type": "float"
        },
        {
         "name": "koi_insol",
         "rawType": "float64",
         "type": "float"
        },
        {
         "name": "koi_model_snr",
         "rawType": "float64",
         "type": "float"
        },
        {
         "name": "koi_steff",
         "rawType": "float64",
         "type": "float"
        },
        {
         "name": "koi_slogg",
         "rawType": "float64",
         "type": "float"
        },
        {
         "name": "koi_srad",
         "rawType": "float64",
         "type": "float"
        }
       ],
       "ref": "70ba46b8-44eb-4010-96ca-65345aea0396",
       "rows": [
        [
         "0",
         "CANDIDATE",
         "0",
         "0",
         "0",
         "0",
         "9.48803557",
         "170.53875",
         "0.146",
         "2.9575",
         "616.0",
         "2.26",
         "793.0",
         "93.59",
         "35.8",
         "5455.0",
         "4.467",
         "0.927"
        ],
        [
         "1",
         "CANDIDATE",
         "0",
         "0",
         "0",
         "0",
         "54.4183827",
         "162.51384",
         "0.586",
         "4.507",
         "875.0",
         "2.83",
         "443.0",
         "9.11",
         "25.8",
         "5455.0",
         "4.467",
         "0.927"
        ],
        [
         "2",
         "CANDIDATE",
         "0",
         "0",
         "0",
         "0",
         "19.89913995",
         "175.850252",
         "0.969",
         "1.7822",
         "10800.0",
         "14.6",
         "638.0",
         "39.3",
         "76.3",
         "5853.0",
         "4.544",
         "0.868"
        ],
        [
         "3",
         "FALSE POSITIVE",
         "0",
         "1",
         "0",
         "0",
         "1.736952453",
         "170.307565",
         "1.276",
         "2.40641",
         "8080.0",
         "33.46",
         "1395.0",
         "891.96",
         "505.6",
         "5805.0",
         "4.564",
         "0.791"
        ],
        [
         "4",
         "CANDIDATE",
         "0",
         "0",
         "0",
         "0",
         "2.525591777",
         "171.59555",
         "0.701",
         "1.6545",
         "603.0",
         "2.75",
         "1406.0",
         "926.16",
         "40.9",
         "6031.0",
         "4.438",
         "1.046"
        ]
       ],
       "shape": {
        "columns": 17,
        "rows": 5
       }
      },
      "text/html": [
       "<div>\n",
       "<style scoped>\n",
       "    .dataframe tbody tr th:only-of-type {\n",
       "        vertical-align: middle;\n",
       "    }\n",
       "\n",
       "    .dataframe tbody tr th {\n",
       "        vertical-align: top;\n",
       "    }\n",
       "\n",
       "    .dataframe thead th {\n",
       "        text-align: right;\n",
       "    }\n",
       "</style>\n",
       "<table border=\"1\" class=\"dataframe\">\n",
       "  <thead>\n",
       "    <tr style=\"text-align: right;\">\n",
       "      <th></th>\n",
       "      <th>koi_pdisposition</th>\n",
       "      <th>koi_fpflag_nt</th>\n",
       "      <th>koi_fpflag_ss</th>\n",
       "      <th>koi_fpflag_co</th>\n",
       "      <th>koi_fpflag_ec</th>\n",
       "      <th>koi_period</th>\n",
       "      <th>koi_time0bk</th>\n",
       "      <th>koi_impact</th>\n",
       "      <th>koi_duration</th>\n",
       "      <th>koi_depth</th>\n",
       "      <th>koi_prad</th>\n",
       "      <th>koi_teq</th>\n",
       "      <th>koi_insol</th>\n",
       "      <th>koi_model_snr</th>\n",
       "      <th>koi_steff</th>\n",
       "      <th>koi_slogg</th>\n",
       "      <th>koi_srad</th>\n",
       "    </tr>\n",
       "  </thead>\n",
       "  <tbody>\n",
       "    <tr>\n",
       "      <th>0</th>\n",
       "      <td>CANDIDATE</td>\n",
       "      <td>0</td>\n",
       "      <td>0</td>\n",
       "      <td>0</td>\n",
       "      <td>0</td>\n",
       "      <td>9.488036</td>\n",
       "      <td>170.538750</td>\n",
       "      <td>0.146</td>\n",
       "      <td>2.95750</td>\n",
       "      <td>616.0</td>\n",
       "      <td>2.26</td>\n",
       "      <td>793.0</td>\n",
       "      <td>93.59</td>\n",
       "      <td>35.8</td>\n",
       "      <td>5455.0</td>\n",
       "      <td>4.467</td>\n",
       "      <td>0.927</td>\n",
       "    </tr>\n",
       "    <tr>\n",
       "      <th>1</th>\n",
       "      <td>CANDIDATE</td>\n",
       "      <td>0</td>\n",
       "      <td>0</td>\n",
       "      <td>0</td>\n",
       "      <td>0</td>\n",
       "      <td>54.418383</td>\n",
       "      <td>162.513840</td>\n",
       "      <td>0.586</td>\n",
       "      <td>4.50700</td>\n",
       "      <td>875.0</td>\n",
       "      <td>2.83</td>\n",
       "      <td>443.0</td>\n",
       "      <td>9.11</td>\n",
       "      <td>25.8</td>\n",
       "      <td>5455.0</td>\n",
       "      <td>4.467</td>\n",
       "      <td>0.927</td>\n",
       "    </tr>\n",
       "    <tr>\n",
       "      <th>2</th>\n",
       "      <td>CANDIDATE</td>\n",
       "      <td>0</td>\n",
       "      <td>0</td>\n",
       "      <td>0</td>\n",
       "      <td>0</td>\n",
       "      <td>19.899140</td>\n",
       "      <td>175.850252</td>\n",
       "      <td>0.969</td>\n",
       "      <td>1.78220</td>\n",
       "      <td>10800.0</td>\n",
       "      <td>14.60</td>\n",
       "      <td>638.0</td>\n",
       "      <td>39.30</td>\n",
       "      <td>76.3</td>\n",
       "      <td>5853.0</td>\n",
       "      <td>4.544</td>\n",
       "      <td>0.868</td>\n",
       "    </tr>\n",
       "    <tr>\n",
       "      <th>3</th>\n",
       "      <td>FALSE POSITIVE</td>\n",
       "      <td>0</td>\n",
       "      <td>1</td>\n",
       "      <td>0</td>\n",
       "      <td>0</td>\n",
       "      <td>1.736952</td>\n",
       "      <td>170.307565</td>\n",
       "      <td>1.276</td>\n",
       "      <td>2.40641</td>\n",
       "      <td>8080.0</td>\n",
       "      <td>33.46</td>\n",
       "      <td>1395.0</td>\n",
       "      <td>891.96</td>\n",
       "      <td>505.6</td>\n",
       "      <td>5805.0</td>\n",
       "      <td>4.564</td>\n",
       "      <td>0.791</td>\n",
       "    </tr>\n",
       "    <tr>\n",
       "      <th>4</th>\n",
       "      <td>CANDIDATE</td>\n",
       "      <td>0</td>\n",
       "      <td>0</td>\n",
       "      <td>0</td>\n",
       "      <td>0</td>\n",
       "      <td>2.525592</td>\n",
       "      <td>171.595550</td>\n",
       "      <td>0.701</td>\n",
       "      <td>1.65450</td>\n",
       "      <td>603.0</td>\n",
       "      <td>2.75</td>\n",
       "      <td>1406.0</td>\n",
       "      <td>926.16</td>\n",
       "      <td>40.9</td>\n",
       "      <td>6031.0</td>\n",
       "      <td>4.438</td>\n",
       "      <td>1.046</td>\n",
       "    </tr>\n",
       "  </tbody>\n",
       "</table>\n",
       "</div>"
      ],
      "text/plain": [
       "  koi_pdisposition  koi_fpflag_nt  koi_fpflag_ss  koi_fpflag_co  \\\n",
       "0        CANDIDATE              0              0              0   \n",
       "1        CANDIDATE              0              0              0   \n",
       "2        CANDIDATE              0              0              0   \n",
       "3   FALSE POSITIVE              0              1              0   \n",
       "4        CANDIDATE              0              0              0   \n",
       "\n",
       "   koi_fpflag_ec  koi_period  koi_time0bk  koi_impact  koi_duration  \\\n",
       "0              0    9.488036   170.538750       0.146       2.95750   \n",
       "1              0   54.418383   162.513840       0.586       4.50700   \n",
       "2              0   19.899140   175.850252       0.969       1.78220   \n",
       "3              0    1.736952   170.307565       1.276       2.40641   \n",
       "4              0    2.525592   171.595550       0.701       1.65450   \n",
       "\n",
       "   koi_depth  koi_prad  koi_teq  koi_insol  koi_model_snr  koi_steff  \\\n",
       "0      616.0      2.26    793.0      93.59           35.8     5455.0   \n",
       "1      875.0      2.83    443.0       9.11           25.8     5455.0   \n",
       "2    10800.0     14.60    638.0      39.30           76.3     5853.0   \n",
       "3     8080.0     33.46   1395.0     891.96          505.6     5805.0   \n",
       "4      603.0      2.75   1406.0     926.16           40.9     6031.0   \n",
       "\n",
       "   koi_slogg  koi_srad  \n",
       "0      4.467     0.927  \n",
       "1      4.467     0.927  \n",
       "2      4.544     0.868  \n",
       "3      4.564     0.791  \n",
       "4      4.438     1.046  "
      ]
     },
     "execution_count": 19,
     "metadata": {},
     "output_type": "execute_result"
    }
   ],
   "source": [
    "Kepler_dataset.head()"
   ]
  },
  {
   "cell_type": "code",
   "execution_count": 41,
   "id": "ae152147",
   "metadata": {},
   "outputs": [],
   "source": [
    "Kepler_dataset=Kepler_dataset.dropna(axis=0,how='any')"
   ]
  },
  {
   "cell_type": "code",
   "execution_count": 47,
   "id": "19948726",
   "metadata": {},
   "outputs": [],
   "source": [
    "TESS_dataset=TESS_dataset.dropna(axis=0,how='any')"
   ]
  },
  {
   "cell_type": "code",
   "execution_count": 44,
   "id": "6473d729",
   "metadata": {},
   "outputs": [
    {
     "data": {
      "text/plain": [
       "(9201, 17)"
      ]
     },
     "execution_count": 44,
     "metadata": {},
     "output_type": "execute_result"
    }
   ],
   "source": [
    "Kepler_dataset.shape"
   ]
  },
  {
   "cell_type": "code",
   "execution_count": 42,
   "id": "9d11d87f",
   "metadata": {},
   "outputs": [
    {
     "data": {
      "application/vnd.microsoft.datawrangler.viewer.v0+json": {
       "columns": [
        {
         "name": "index",
         "rawType": "object",
         "type": "string"
        },
        {
         "name": "0",
         "rawType": "int64",
         "type": "integer"
        }
       ],
       "ref": "25cf5b3d-89cd-4d48-9bac-a067ce42b9b8",
       "rows": [
        [
         "koi_pdisposition",
         "0"
        ],
        [
         "koi_fpflag_nt",
         "0"
        ],
        [
         "koi_fpflag_ss",
         "0"
        ],
        [
         "koi_fpflag_co",
         "0"
        ],
        [
         "koi_fpflag_ec",
         "0"
        ],
        [
         "koi_period",
         "0"
        ],
        [
         "koi_time0bk",
         "0"
        ],
        [
         "koi_impact",
         "0"
        ],
        [
         "koi_duration",
         "0"
        ],
        [
         "koi_depth",
         "0"
        ],
        [
         "koi_prad",
         "0"
        ],
        [
         "koi_teq",
         "0"
        ],
        [
         "koi_insol",
         "0"
        ],
        [
         "koi_model_snr",
         "0"
        ],
        [
         "koi_steff",
         "0"
        ],
        [
         "koi_slogg",
         "0"
        ],
        [
         "koi_srad",
         "0"
        ]
       ],
       "shape": {
        "columns": 1,
        "rows": 17
       }
      },
      "text/plain": [
       "koi_pdisposition    0\n",
       "koi_fpflag_nt       0\n",
       "koi_fpflag_ss       0\n",
       "koi_fpflag_co       0\n",
       "koi_fpflag_ec       0\n",
       "koi_period          0\n",
       "koi_time0bk         0\n",
       "koi_impact          0\n",
       "koi_duration        0\n",
       "koi_depth           0\n",
       "koi_prad            0\n",
       "koi_teq             0\n",
       "koi_insol           0\n",
       "koi_model_snr       0\n",
       "koi_steff           0\n",
       "koi_slogg           0\n",
       "koi_srad            0\n",
       "dtype: int64"
      ]
     },
     "execution_count": 42,
     "metadata": {},
     "output_type": "execute_result"
    }
   ],
   "source": [
    "Kepler_dataset.isna().sum()"
   ]
  },
  {
   "cell_type": "code",
   "execution_count": 48,
   "id": "080baac7",
   "metadata": {},
   "outputs": [
    {
     "data": {
      "application/vnd.microsoft.datawrangler.viewer.v0+json": {
       "columns": [
        {
         "name": "index",
         "rawType": "object",
         "type": "string"
        },
        {
         "name": "0",
         "rawType": "int64",
         "type": "integer"
        }
       ],
       "ref": "6c1bf4b2-d520-450c-a0ea-d136c501efa9",
       "rows": [
        [
         "tfopwg_disp",
         "0"
        ],
        [
         "pl_tranmid",
         "0"
        ],
        [
         "pl_orbper",
         "0"
        ],
        [
         "pl_trandurh",
         "0"
        ],
        [
         "pl_trandep",
         "0"
        ],
        [
         "pl_rade",
         "0"
        ],
        [
         "pl_insol",
         "0"
        ],
        [
         "pl_eqt",
         "0"
        ],
        [
         "st_dist",
         "0"
        ],
        [
         "st_teff",
         "0"
        ],
        [
         "st_logg",
         "0"
        ],
        [
         "st_rad",
         "0"
        ]
       ],
       "shape": {
        "columns": 1,
        "rows": 12
       }
      },
      "text/plain": [
       "tfopwg_disp    0\n",
       "pl_tranmid     0\n",
       "pl_orbper      0\n",
       "pl_trandurh    0\n",
       "pl_trandep     0\n",
       "pl_rade        0\n",
       "pl_insol       0\n",
       "pl_eqt         0\n",
       "st_dist        0\n",
       "st_teff        0\n",
       "st_logg        0\n",
       "st_rad         0\n",
       "dtype: int64"
      ]
     },
     "execution_count": 48,
     "metadata": {},
     "output_type": "execute_result"
    }
   ],
   "source": [
    "TESS_dataset.isna().sum()"
   ]
  },
  {
   "cell_type": "code",
   "execution_count": 49,
   "id": "cd6e1c8e",
   "metadata": {},
   "outputs": [
    {
     "data": {
      "text/plain": [
       "(6592, 12)"
      ]
     },
     "execution_count": 49,
     "metadata": {},
     "output_type": "execute_result"
    }
   ],
   "source": [
    "TESS_dataset.shape"
   ]
  },
  {
   "cell_type": "code",
   "execution_count": 50,
   "id": "2a938097",
   "metadata": {},
   "outputs": [
    {
     "data": {
      "text/plain": [
       "(1008, 12)"
      ]
     },
     "execution_count": 50,
     "metadata": {},
     "output_type": "execute_result"
    }
   ],
   "source": [
    "TESS_dataset[(TESS_dataset['tfopwg_disp']=='FP')|(TESS_dataset['tfopwg_disp']=='FA')].shape"
   ]
  },
  {
   "cell_type": "code",
   "execution_count": 51,
   "id": "2727cab9",
   "metadata": {},
   "outputs": [
    {
     "data": {
      "text/plain": [
       "(1223, 12)"
      ]
     },
     "execution_count": 51,
     "metadata": {},
     "output_type": "execute_result"
    }
   ],
   "source": [
    "TESS_dataset[(TESS_dataset['tfopwg_disp']=='KP')|(TESS_dataset['tfopwg_disp']=='CP')].shape"
   ]
  },
  {
   "cell_type": "code",
   "execution_count": 52,
   "id": "4533e467",
   "metadata": {},
   "outputs": [
    {
     "name": "stderr",
     "output_type": "stream",
     "text": [
      "C:\\Users\\purva\\AppData\\Local\\Temp\\ipykernel_7984\\1335927842.py:13: SettingWithCopyWarning: \n",
      "A value is trying to be set on a copy of a slice from a DataFrame.\n",
      "Try using .loc[row_indexer,col_indexer] = value instead\n",
      "\n",
      "See the caveats in the documentation: https://pandas.pydata.org/pandas-docs/stable/user_guide/indexing.html#returning-a-view-versus-a-copy\n",
      "  TESS_dataset_CFP['tfopwg_disp'] = TESS_dataset_1['tfopwg_disp'].replace(replacement_map)\n"
     ]
    }
   ],
   "source": [
    "\n",
    "\n",
    "\n",
    "# Step 1: Remove rows with 'APC'\n",
    "TESS_dataset_1 = TESS_dataset[TESS_dataset['tfopwg_disp'] != 'APC']\n",
    "\n",
    "# Step 2: Replace values\n",
    "replacement_map = {\n",
    "    'FP': 'FALSE POSITIVE',\n",
    "    'FA': 'FALSE POSITIVE', \n",
    "    'KP': 'CANDIDATE',\n",
    "    'CP': 'CANDIDATE',\n",
    "    'PC': 'CANDIDATE'  # Assuming PC should also be candidate\n",
    "}\n",
    "TESS_dataset_CFP=TESS_dataset_1\n",
    "TESS_dataset_CFP['tfopwg_disp'] = TESS_dataset_1['tfopwg_disp'].replace(replacement_map)\n"
   ]
  },
  {
   "cell_type": "code",
   "execution_count": 53,
   "id": "9ab2474f",
   "metadata": {},
   "outputs": [
    {
     "data": {
      "text/plain": [
       "array(['FALSE POSITIVE', 'CANDIDATE'], dtype=object)"
      ]
     },
     "execution_count": 53,
     "metadata": {},
     "output_type": "execute_result"
    }
   ],
   "source": [
    "TESS_dataset_CFP['tfopwg_disp'].unique()"
   ]
  },
  {
   "cell_type": "code",
   "execution_count": 54,
   "id": "5637064a",
   "metadata": {},
   "outputs": [
    {
     "data": {
      "text/plain": [
       "(1008, 12)"
      ]
     },
     "execution_count": 54,
     "metadata": {},
     "output_type": "execute_result"
    }
   ],
   "source": [
    "TESS_dataset_CFP[TESS_dataset_CFP['tfopwg_disp']=='FALSE POSITIVE'].shape"
   ]
  },
  {
   "cell_type": "code",
   "execution_count": 55,
   "id": "10ef6573",
   "metadata": {},
   "outputs": [],
   "source": [
    "Kepler_dataset_common=Kepler_dataset.filter(['koi_pdisposition','koi_period','koi_duration','koi_depth','koi_prad','koi_insol','koi_teq','koi_steff','koi_slogg','koi_srad'])\n",
    "TESS_dataset_common=TESS_dataset_CFP.filter(['tfopwg_disp','pl_orbper','pl_trandurh','pl_trandep','pl_rade','pl_insol','pl_eqt','st_teff','st_logg','st_rad'])"
   ]
  },
  {
   "cell_type": "code",
   "execution_count": 56,
   "id": "ef67149e",
   "metadata": {},
   "outputs": [
    {
     "data": {
      "application/vnd.microsoft.datawrangler.viewer.v0+json": {
       "columns": [
        {
         "name": "index",
         "rawType": "int64",
         "type": "integer"
        },
        {
         "name": "koi_pdisposition",
         "rawType": "object",
         "type": "string"
        },
        {
         "name": "koi_period",
         "rawType": "float64",
         "type": "float"
        },
        {
         "name": "koi_duration",
         "rawType": "float64",
         "type": "float"
        },
        {
         "name": "koi_depth",
         "rawType": "float64",
         "type": "float"
        },
        {
         "name": "koi_prad",
         "rawType": "float64",
         "type": "float"
        },
        {
         "name": "koi_insol",
         "rawType": "float64",
         "type": "float"
        },
        {
         "name": "koi_teq",
         "rawType": "float64",
         "type": "float"
        },
        {
         "name": "koi_steff",
         "rawType": "float64",
         "type": "float"
        },
        {
         "name": "koi_slogg",
         "rawType": "float64",
         "type": "float"
        },
        {
         "name": "koi_srad",
         "rawType": "float64",
         "type": "float"
        }
       ],
       "ref": "b4fd46fb-9811-4701-a94b-0ed63c5b4810",
       "rows": [
        [
         "0",
         "CANDIDATE",
         "9.48803557",
         "2.9575",
         "616.0",
         "2.26",
         "93.59",
         "793.0",
         "5455.0",
         "4.467",
         "0.927"
        ],
        [
         "1",
         "CANDIDATE",
         "54.4183827",
         "4.507",
         "875.0",
         "2.83",
         "9.11",
         "443.0",
         "5455.0",
         "4.467",
         "0.927"
        ],
        [
         "2",
         "CANDIDATE",
         "19.89913995",
         "1.7822",
         "10800.0",
         "14.6",
         "39.3",
         "638.0",
         "5853.0",
         "4.544",
         "0.868"
        ],
        [
         "3",
         "FALSE POSITIVE",
         "1.736952453",
         "2.40641",
         "8080.0",
         "33.46",
         "891.96",
         "1395.0",
         "5805.0",
         "4.564",
         "0.791"
        ],
        [
         "4",
         "CANDIDATE",
         "2.525591777",
         "1.6545",
         "603.0",
         "2.75",
         "926.16",
         "1406.0",
         "6031.0",
         "4.438",
         "1.046"
        ]
       ],
       "shape": {
        "columns": 10,
        "rows": 5
       }
      },
      "text/html": [
       "<div>\n",
       "<style scoped>\n",
       "    .dataframe tbody tr th:only-of-type {\n",
       "        vertical-align: middle;\n",
       "    }\n",
       "\n",
       "    .dataframe tbody tr th {\n",
       "        vertical-align: top;\n",
       "    }\n",
       "\n",
       "    .dataframe thead th {\n",
       "        text-align: right;\n",
       "    }\n",
       "</style>\n",
       "<table border=\"1\" class=\"dataframe\">\n",
       "  <thead>\n",
       "    <tr style=\"text-align: right;\">\n",
       "      <th></th>\n",
       "      <th>koi_pdisposition</th>\n",
       "      <th>koi_period</th>\n",
       "      <th>koi_duration</th>\n",
       "      <th>koi_depth</th>\n",
       "      <th>koi_prad</th>\n",
       "      <th>koi_insol</th>\n",
       "      <th>koi_teq</th>\n",
       "      <th>koi_steff</th>\n",
       "      <th>koi_slogg</th>\n",
       "      <th>koi_srad</th>\n",
       "    </tr>\n",
       "  </thead>\n",
       "  <tbody>\n",
       "    <tr>\n",
       "      <th>0</th>\n",
       "      <td>CANDIDATE</td>\n",
       "      <td>9.488036</td>\n",
       "      <td>2.95750</td>\n",
       "      <td>616.0</td>\n",
       "      <td>2.26</td>\n",
       "      <td>93.59</td>\n",
       "      <td>793.0</td>\n",
       "      <td>5455.0</td>\n",
       "      <td>4.467</td>\n",
       "      <td>0.927</td>\n",
       "    </tr>\n",
       "    <tr>\n",
       "      <th>1</th>\n",
       "      <td>CANDIDATE</td>\n",
       "      <td>54.418383</td>\n",
       "      <td>4.50700</td>\n",
       "      <td>875.0</td>\n",
       "      <td>2.83</td>\n",
       "      <td>9.11</td>\n",
       "      <td>443.0</td>\n",
       "      <td>5455.0</td>\n",
       "      <td>4.467</td>\n",
       "      <td>0.927</td>\n",
       "    </tr>\n",
       "    <tr>\n",
       "      <th>2</th>\n",
       "      <td>CANDIDATE</td>\n",
       "      <td>19.899140</td>\n",
       "      <td>1.78220</td>\n",
       "      <td>10800.0</td>\n",
       "      <td>14.60</td>\n",
       "      <td>39.30</td>\n",
       "      <td>638.0</td>\n",
       "      <td>5853.0</td>\n",
       "      <td>4.544</td>\n",
       "      <td>0.868</td>\n",
       "    </tr>\n",
       "    <tr>\n",
       "      <th>3</th>\n",
       "      <td>FALSE POSITIVE</td>\n",
       "      <td>1.736952</td>\n",
       "      <td>2.40641</td>\n",
       "      <td>8080.0</td>\n",
       "      <td>33.46</td>\n",
       "      <td>891.96</td>\n",
       "      <td>1395.0</td>\n",
       "      <td>5805.0</td>\n",
       "      <td>4.564</td>\n",
       "      <td>0.791</td>\n",
       "    </tr>\n",
       "    <tr>\n",
       "      <th>4</th>\n",
       "      <td>CANDIDATE</td>\n",
       "      <td>2.525592</td>\n",
       "      <td>1.65450</td>\n",
       "      <td>603.0</td>\n",
       "      <td>2.75</td>\n",
       "      <td>926.16</td>\n",
       "      <td>1406.0</td>\n",
       "      <td>6031.0</td>\n",
       "      <td>4.438</td>\n",
       "      <td>1.046</td>\n",
       "    </tr>\n",
       "  </tbody>\n",
       "</table>\n",
       "</div>"
      ],
      "text/plain": [
       "  koi_pdisposition  koi_period  koi_duration  koi_depth  koi_prad  koi_insol  \\\n",
       "0        CANDIDATE    9.488036       2.95750      616.0      2.26      93.59   \n",
       "1        CANDIDATE   54.418383       4.50700      875.0      2.83       9.11   \n",
       "2        CANDIDATE   19.899140       1.78220    10800.0     14.60      39.30   \n",
       "3   FALSE POSITIVE    1.736952       2.40641     8080.0     33.46     891.96   \n",
       "4        CANDIDATE    2.525592       1.65450      603.0      2.75     926.16   \n",
       "\n",
       "   koi_teq  koi_steff  koi_slogg  koi_srad  \n",
       "0    793.0     5455.0      4.467     0.927  \n",
       "1    443.0     5455.0      4.467     0.927  \n",
       "2    638.0     5853.0      4.544     0.868  \n",
       "3   1395.0     5805.0      4.564     0.791  \n",
       "4   1406.0     6031.0      4.438     1.046  "
      ]
     },
     "execution_count": 56,
     "metadata": {},
     "output_type": "execute_result"
    }
   ],
   "source": [
    "Kepler_dataset_common.head()\n"
   ]
  },
  {
   "cell_type": "code",
   "execution_count": 57,
   "id": "89947080",
   "metadata": {},
   "outputs": [
    {
     "data": {
      "application/vnd.microsoft.datawrangler.viewer.v0+json": {
       "columns": [
        {
         "name": "index",
         "rawType": "int64",
         "type": "integer"
        },
        {
         "name": "tfopwg_disp",
         "rawType": "object",
         "type": "string"
        },
        {
         "name": "pl_orbper",
         "rawType": "float64",
         "type": "float"
        },
        {
         "name": "pl_trandurh",
         "rawType": "float64",
         "type": "float"
        },
        {
         "name": "pl_trandep",
         "rawType": "float64",
         "type": "float"
        },
        {
         "name": "pl_rade",
         "rawType": "float64",
         "type": "float"
        },
        {
         "name": "pl_insol",
         "rawType": "float64",
         "type": "float"
        },
        {
         "name": "pl_eqt",
         "rawType": "float64",
         "type": "float"
        },
        {
         "name": "st_teff",
         "rawType": "float64",
         "type": "float"
        },
        {
         "name": "st_logg",
         "rawType": "float64",
         "type": "float"
        },
        {
         "name": "st_rad",
         "rawType": "float64",
         "type": "float"
        }
       ],
       "ref": "198e5a51-b0b6-4db7-9e6a-54b231937812",
       "rows": [
        [
         "0",
         "FALSE POSITIVE",
         "2.1713484",
         "2.0172196",
         "656.8860989",
         "5.8181633",
         "22601.94858",
         "3127.204052",
         "10249.0",
         "4.19",
         "2.16986"
        ],
        [
         "1",
         "CANDIDATE",
         "1.9316462",
         "3.166",
         "1286.0",
         "11.2154",
         "44464.5",
         "4045.0",
         "7070.0",
         "4.03",
         "2.01"
        ],
        [
         "4",
         "FALSE POSITIVE",
         "3.5730141",
         "3.37",
         "755.0",
         "11.3113",
         "54679.3",
         "4260.0",
         "9219.0",
         "4.14",
         "2.15"
        ],
        [
         "7",
         "CANDIDATE",
         "6.9989206",
         "3.953",
         "2840.0",
         "14.7752",
         "448.744",
         "1282.0",
         "6596.0",
         "3.71",
         "2.7"
        ],
        [
         "10",
         "CANDIDATE",
         "1.4303699",
         "1.6165994",
         "18960.71229",
         "13.1874503",
         "1281.240825",
         "1525.904809",
         "5600.0",
         "4.48851",
         "0.890774"
        ]
       ],
       "shape": {
        "columns": 10,
        "rows": 5
       }
      },
      "text/html": [
       "<div>\n",
       "<style scoped>\n",
       "    .dataframe tbody tr th:only-of-type {\n",
       "        vertical-align: middle;\n",
       "    }\n",
       "\n",
       "    .dataframe tbody tr th {\n",
       "        vertical-align: top;\n",
       "    }\n",
       "\n",
       "    .dataframe thead th {\n",
       "        text-align: right;\n",
       "    }\n",
       "</style>\n",
       "<table border=\"1\" class=\"dataframe\">\n",
       "  <thead>\n",
       "    <tr style=\"text-align: right;\">\n",
       "      <th></th>\n",
       "      <th>tfopwg_disp</th>\n",
       "      <th>pl_orbper</th>\n",
       "      <th>pl_trandurh</th>\n",
       "      <th>pl_trandep</th>\n",
       "      <th>pl_rade</th>\n",
       "      <th>pl_insol</th>\n",
       "      <th>pl_eqt</th>\n",
       "      <th>st_teff</th>\n",
       "      <th>st_logg</th>\n",
       "      <th>st_rad</th>\n",
       "    </tr>\n",
       "  </thead>\n",
       "  <tbody>\n",
       "    <tr>\n",
       "      <th>0</th>\n",
       "      <td>FALSE POSITIVE</td>\n",
       "      <td>2.171348</td>\n",
       "      <td>2.017220</td>\n",
       "      <td>656.886099</td>\n",
       "      <td>5.818163</td>\n",
       "      <td>22601.948580</td>\n",
       "      <td>3127.204052</td>\n",
       "      <td>10249.0</td>\n",
       "      <td>4.19000</td>\n",
       "      <td>2.169860</td>\n",
       "    </tr>\n",
       "    <tr>\n",
       "      <th>1</th>\n",
       "      <td>CANDIDATE</td>\n",
       "      <td>1.931646</td>\n",
       "      <td>3.166000</td>\n",
       "      <td>1286.000000</td>\n",
       "      <td>11.215400</td>\n",
       "      <td>44464.500000</td>\n",
       "      <td>4045.000000</td>\n",
       "      <td>7070.0</td>\n",
       "      <td>4.03000</td>\n",
       "      <td>2.010000</td>\n",
       "    </tr>\n",
       "    <tr>\n",
       "      <th>4</th>\n",
       "      <td>FALSE POSITIVE</td>\n",
       "      <td>3.573014</td>\n",
       "      <td>3.370000</td>\n",
       "      <td>755.000000</td>\n",
       "      <td>11.311300</td>\n",
       "      <td>54679.300000</td>\n",
       "      <td>4260.000000</td>\n",
       "      <td>9219.0</td>\n",
       "      <td>4.14000</td>\n",
       "      <td>2.150000</td>\n",
       "    </tr>\n",
       "    <tr>\n",
       "      <th>7</th>\n",
       "      <td>CANDIDATE</td>\n",
       "      <td>6.998921</td>\n",
       "      <td>3.953000</td>\n",
       "      <td>2840.000000</td>\n",
       "      <td>14.775200</td>\n",
       "      <td>448.744000</td>\n",
       "      <td>1282.000000</td>\n",
       "      <td>6596.0</td>\n",
       "      <td>3.71000</td>\n",
       "      <td>2.700000</td>\n",
       "    </tr>\n",
       "    <tr>\n",
       "      <th>10</th>\n",
       "      <td>CANDIDATE</td>\n",
       "      <td>1.430370</td>\n",
       "      <td>1.616599</td>\n",
       "      <td>18960.712290</td>\n",
       "      <td>13.187450</td>\n",
       "      <td>1281.240825</td>\n",
       "      <td>1525.904809</td>\n",
       "      <td>5600.0</td>\n",
       "      <td>4.48851</td>\n",
       "      <td>0.890774</td>\n",
       "    </tr>\n",
       "  </tbody>\n",
       "</table>\n",
       "</div>"
      ],
      "text/plain": [
       "       tfopwg_disp  pl_orbper  pl_trandurh    pl_trandep    pl_rade  \\\n",
       "0   FALSE POSITIVE   2.171348     2.017220    656.886099   5.818163   \n",
       "1        CANDIDATE   1.931646     3.166000   1286.000000  11.215400   \n",
       "4   FALSE POSITIVE   3.573014     3.370000    755.000000  11.311300   \n",
       "7        CANDIDATE   6.998921     3.953000   2840.000000  14.775200   \n",
       "10       CANDIDATE   1.430370     1.616599  18960.712290  13.187450   \n",
       "\n",
       "        pl_insol       pl_eqt  st_teff  st_logg    st_rad  \n",
       "0   22601.948580  3127.204052  10249.0  4.19000  2.169860  \n",
       "1   44464.500000  4045.000000   7070.0  4.03000  2.010000  \n",
       "4   54679.300000  4260.000000   9219.0  4.14000  2.150000  \n",
       "7     448.744000  1282.000000   6596.0  3.71000  2.700000  \n",
       "10   1281.240825  1525.904809   5600.0  4.48851  0.890774  "
      ]
     },
     "execution_count": 57,
     "metadata": {},
     "output_type": "execute_result"
    }
   ],
   "source": [
    "TESS_dataset_common.head()"
   ]
  },
  {
   "cell_type": "code",
   "execution_count": 58,
   "id": "ab067c19",
   "metadata": {},
   "outputs": [
    {
     "name": "stdout",
     "output_type": "stream",
     "text": [
      "['Classification', 'Orbital period', 'Transit Duration', 'Transit Depth', 'Planet radius value', 'Planet Insolation Value', 'Planetary Equilibrium Temp.', 'Stellar Effective Temp.', 'Stellar Surface Gravity', 'Stellar Radius']\n"
     ]
    }
   ],
   "source": [
    "# Create a dictionary mapping old column names to new names\n",
    "column_mapping = {\n",
    "    'koi_pdisposition':'Classification',\n",
    "    'koi_period': 'Orbital period',\n",
    "    'koi_duration': 'Transit Duration', \n",
    "    'koi_depth': 'Transit Depth',\n",
    "    'koi_prad': 'Planet radius value',\n",
    "    'koi_insol': 'Planet Insolation Value',\n",
    "    'koi_teq': 'Planetary Equilibrium Temp.',\n",
    "    'koi_steff': 'Stellar Effective Temp.',\n",
    "    'koi_slogg': 'Stellar Surface Gravity',\n",
    "    'koi_srad': 'Stellar Radius'\n",
    "}\n",
    "\n",
    "# Apply the renaming\n",
    "Kepler_dataset_common = Kepler_dataset_common.rename(columns=column_mapping)\n",
    "\n",
    "# Verify the changes\n",
    "print(Kepler_dataset_common.columns.tolist())"
   ]
  },
  {
   "cell_type": "code",
   "execution_count": 60,
   "id": "68c519f6",
   "metadata": {},
   "outputs": [
    {
     "name": "stdout",
     "output_type": "stream",
     "text": [
      "['Classification', 'Orbital period', 'Transit Duration', 'Transit Depth', 'Planet radius value', 'Planet Insolation Value', 'Planetary Equilibrium Temp.', 'Stellar Effective Temp.', 'Stellar Surface Gravity', 'Stellar Radius']\n"
     ]
    }
   ],
   "source": [
    "# Create a dictionary mapping old column names to new names\n",
    "column_mapping = {\n",
    "    'tfopwg_disp':'Classification',\n",
    "    'pl_orbper': 'Orbital period',\n",
    "    'pl_trandurh': 'Transit Duration', \n",
    "    'pl_trandep': 'Transit Depth',\n",
    "    'pl_rade': 'Planet radius value',\n",
    "    'pl_insol': 'Planet Insolation Value',\n",
    "    'pl_eqt': 'Planetary Equilibrium Temp.',\n",
    "    'st_teff': 'Stellar Effective Temp.',\n",
    "    'st_logg': 'Stellar Surface Gravity',\n",
    "    'st_rad': 'Stellar Radius'\n",
    "}\n",
    "\n",
    "# Apply the renaming\n",
    "TESS_dataset_common = TESS_dataset_common.rename(columns=column_mapping)\n",
    "\n",
    "# Verify the changes\n",
    "print(TESS_dataset_common.columns.tolist())"
   ]
  },
  {
   "cell_type": "code",
   "execution_count": 61,
   "id": "db528bc0",
   "metadata": {},
   "outputs": [
    {
     "data": {
      "text/plain": [
       "True"
      ]
     },
     "execution_count": 61,
     "metadata": {},
     "output_type": "execute_result"
    }
   ],
   "source": [
    "Kepler_dataset_common.columns.tolist()==TESS_dataset_common.columns.tolist()"
   ]
  },
  {
   "cell_type": "code",
   "execution_count": 62,
   "id": "9a13f598",
   "metadata": {},
   "outputs": [
    {
     "data": {
      "application/vnd.microsoft.datawrangler.viewer.v0+json": {
       "columns": [
        {
         "name": "index",
         "rawType": "int64",
         "type": "integer"
        },
        {
         "name": "Classification",
         "rawType": "object",
         "type": "string"
        },
        {
         "name": "Orbital period",
         "rawType": "float64",
         "type": "float"
        },
        {
         "name": "Transit Duration",
         "rawType": "float64",
         "type": "float"
        },
        {
         "name": "Transit Depth",
         "rawType": "float64",
         "type": "float"
        },
        {
         "name": "Planet radius value",
         "rawType": "float64",
         "type": "float"
        },
        {
         "name": "Planet Insolation Value",
         "rawType": "float64",
         "type": "float"
        },
        {
         "name": "Planetary Equilibrium Temp.",
         "rawType": "float64",
         "type": "float"
        },
        {
         "name": "Stellar Effective Temp.",
         "rawType": "float64",
         "type": "float"
        },
        {
         "name": "Stellar Surface Gravity",
         "rawType": "float64",
         "type": "float"
        },
        {
         "name": "Stellar Radius",
         "rawType": "float64",
         "type": "float"
        }
       ],
       "ref": "ab46ff21-f19c-4dee-b60c-f07cf08df47e",
       "rows": [
        [
         "0",
         "CANDIDATE",
         "9.48803557",
         "2.9575",
         "616.0",
         "2.26",
         "93.59",
         "793.0",
         "5455.0",
         "4.467",
         "0.927"
        ],
        [
         "1",
         "CANDIDATE",
         "54.4183827",
         "4.507",
         "875.0",
         "2.83",
         "9.11",
         "443.0",
         "5455.0",
         "4.467",
         "0.927"
        ],
        [
         "2",
         "CANDIDATE",
         "19.89913995",
         "1.7822",
         "10800.0",
         "14.6",
         "39.3",
         "638.0",
         "5853.0",
         "4.544",
         "0.868"
        ],
        [
         "3",
         "FALSE POSITIVE",
         "1.736952453",
         "2.40641",
         "8080.0",
         "33.46",
         "891.96",
         "1395.0",
         "5805.0",
         "4.564",
         "0.791"
        ],
        [
         "4",
         "CANDIDATE",
         "2.525591777",
         "1.6545",
         "603.0",
         "2.75",
         "926.16",
         "1406.0",
         "6031.0",
         "4.438",
         "1.046"
        ]
       ],
       "shape": {
        "columns": 10,
        "rows": 5
       }
      },
      "text/html": [
       "<div>\n",
       "<style scoped>\n",
       "    .dataframe tbody tr th:only-of-type {\n",
       "        vertical-align: middle;\n",
       "    }\n",
       "\n",
       "    .dataframe tbody tr th {\n",
       "        vertical-align: top;\n",
       "    }\n",
       "\n",
       "    .dataframe thead th {\n",
       "        text-align: right;\n",
       "    }\n",
       "</style>\n",
       "<table border=\"1\" class=\"dataframe\">\n",
       "  <thead>\n",
       "    <tr style=\"text-align: right;\">\n",
       "      <th></th>\n",
       "      <th>Classification</th>\n",
       "      <th>Orbital period</th>\n",
       "      <th>Transit Duration</th>\n",
       "      <th>Transit Depth</th>\n",
       "      <th>Planet radius value</th>\n",
       "      <th>Planet Insolation Value</th>\n",
       "      <th>Planetary Equilibrium Temp.</th>\n",
       "      <th>Stellar Effective Temp.</th>\n",
       "      <th>Stellar Surface Gravity</th>\n",
       "      <th>Stellar Radius</th>\n",
       "    </tr>\n",
       "  </thead>\n",
       "  <tbody>\n",
       "    <tr>\n",
       "      <th>0</th>\n",
       "      <td>CANDIDATE</td>\n",
       "      <td>9.488036</td>\n",
       "      <td>2.95750</td>\n",
       "      <td>616.0</td>\n",
       "      <td>2.26</td>\n",
       "      <td>93.59</td>\n",
       "      <td>793.0</td>\n",
       "      <td>5455.0</td>\n",
       "      <td>4.467</td>\n",
       "      <td>0.927</td>\n",
       "    </tr>\n",
       "    <tr>\n",
       "      <th>1</th>\n",
       "      <td>CANDIDATE</td>\n",
       "      <td>54.418383</td>\n",
       "      <td>4.50700</td>\n",
       "      <td>875.0</td>\n",
       "      <td>2.83</td>\n",
       "      <td>9.11</td>\n",
       "      <td>443.0</td>\n",
       "      <td>5455.0</td>\n",
       "      <td>4.467</td>\n",
       "      <td>0.927</td>\n",
       "    </tr>\n",
       "    <tr>\n",
       "      <th>2</th>\n",
       "      <td>CANDIDATE</td>\n",
       "      <td>19.899140</td>\n",
       "      <td>1.78220</td>\n",
       "      <td>10800.0</td>\n",
       "      <td>14.60</td>\n",
       "      <td>39.30</td>\n",
       "      <td>638.0</td>\n",
       "      <td>5853.0</td>\n",
       "      <td>4.544</td>\n",
       "      <td>0.868</td>\n",
       "    </tr>\n",
       "    <tr>\n",
       "      <th>3</th>\n",
       "      <td>FALSE POSITIVE</td>\n",
       "      <td>1.736952</td>\n",
       "      <td>2.40641</td>\n",
       "      <td>8080.0</td>\n",
       "      <td>33.46</td>\n",
       "      <td>891.96</td>\n",
       "      <td>1395.0</td>\n",
       "      <td>5805.0</td>\n",
       "      <td>4.564</td>\n",
       "      <td>0.791</td>\n",
       "    </tr>\n",
       "    <tr>\n",
       "      <th>4</th>\n",
       "      <td>CANDIDATE</td>\n",
       "      <td>2.525592</td>\n",
       "      <td>1.65450</td>\n",
       "      <td>603.0</td>\n",
       "      <td>2.75</td>\n",
       "      <td>926.16</td>\n",
       "      <td>1406.0</td>\n",
       "      <td>6031.0</td>\n",
       "      <td>4.438</td>\n",
       "      <td>1.046</td>\n",
       "    </tr>\n",
       "  </tbody>\n",
       "</table>\n",
       "</div>"
      ],
      "text/plain": [
       "   Classification  Orbital period  Transit Duration  Transit Depth  \\\n",
       "0       CANDIDATE        9.488036           2.95750          616.0   \n",
       "1       CANDIDATE       54.418383           4.50700          875.0   \n",
       "2       CANDIDATE       19.899140           1.78220        10800.0   \n",
       "3  FALSE POSITIVE        1.736952           2.40641         8080.0   \n",
       "4       CANDIDATE        2.525592           1.65450          603.0   \n",
       "\n",
       "   Planet radius value  Planet Insolation Value  Planetary Equilibrium Temp.  \\\n",
       "0                 2.26                    93.59                        793.0   \n",
       "1                 2.83                     9.11                        443.0   \n",
       "2                14.60                    39.30                        638.0   \n",
       "3                33.46                   891.96                       1395.0   \n",
       "4                 2.75                   926.16                       1406.0   \n",
       "\n",
       "   Stellar Effective Temp.  Stellar Surface Gravity  Stellar Radius  \n",
       "0                   5455.0                    4.467           0.927  \n",
       "1                   5455.0                    4.467           0.927  \n",
       "2                   5853.0                    4.544           0.868  \n",
       "3                   5805.0                    4.564           0.791  \n",
       "4                   6031.0                    4.438           1.046  "
      ]
     },
     "execution_count": 62,
     "metadata": {},
     "output_type": "execute_result"
    }
   ],
   "source": [
    "Kepler_dataset_common.head()"
   ]
  },
  {
   "cell_type": "code",
   "execution_count": 63,
   "id": "5b193223",
   "metadata": {},
   "outputs": [
    {
     "data": {
      "application/vnd.microsoft.datawrangler.viewer.v0+json": {
       "columns": [
        {
         "name": "index",
         "rawType": "int64",
         "type": "integer"
        },
        {
         "name": "Classification",
         "rawType": "object",
         "type": "string"
        },
        {
         "name": "Orbital period",
         "rawType": "float64",
         "type": "float"
        },
        {
         "name": "Transit Duration",
         "rawType": "float64",
         "type": "float"
        },
        {
         "name": "Transit Depth",
         "rawType": "float64",
         "type": "float"
        },
        {
         "name": "Planet radius value",
         "rawType": "float64",
         "type": "float"
        },
        {
         "name": "Planet Insolation Value",
         "rawType": "float64",
         "type": "float"
        },
        {
         "name": "Planetary Equilibrium Temp.",
         "rawType": "float64",
         "type": "float"
        },
        {
         "name": "Stellar Effective Temp.",
         "rawType": "float64",
         "type": "float"
        },
        {
         "name": "Stellar Surface Gravity",
         "rawType": "float64",
         "type": "float"
        },
        {
         "name": "Stellar Radius",
         "rawType": "float64",
         "type": "float"
        }
       ],
       "ref": "a26e4829-7e83-4d97-bb7c-c7ea310819a4",
       "rows": [
        [
         "0",
         "FALSE POSITIVE",
         "2.1713484",
         "2.0172196",
         "656.8860989",
         "5.8181633",
         "22601.94858",
         "3127.204052",
         "10249.0",
         "4.19",
         "2.16986"
        ],
        [
         "1",
         "CANDIDATE",
         "1.9316462",
         "3.166",
         "1286.0",
         "11.2154",
         "44464.5",
         "4045.0",
         "7070.0",
         "4.03",
         "2.01"
        ],
        [
         "4",
         "FALSE POSITIVE",
         "3.5730141",
         "3.37",
         "755.0",
         "11.3113",
         "54679.3",
         "4260.0",
         "9219.0",
         "4.14",
         "2.15"
        ],
        [
         "7",
         "CANDIDATE",
         "6.9989206",
         "3.953",
         "2840.0",
         "14.7752",
         "448.744",
         "1282.0",
         "6596.0",
         "3.71",
         "2.7"
        ],
        [
         "10",
         "CANDIDATE",
         "1.4303699",
         "1.6165994",
         "18960.71229",
         "13.1874503",
         "1281.240825",
         "1525.904809",
         "5600.0",
         "4.48851",
         "0.890774"
        ]
       ],
       "shape": {
        "columns": 10,
        "rows": 5
       }
      },
      "text/html": [
       "<div>\n",
       "<style scoped>\n",
       "    .dataframe tbody tr th:only-of-type {\n",
       "        vertical-align: middle;\n",
       "    }\n",
       "\n",
       "    .dataframe tbody tr th {\n",
       "        vertical-align: top;\n",
       "    }\n",
       "\n",
       "    .dataframe thead th {\n",
       "        text-align: right;\n",
       "    }\n",
       "</style>\n",
       "<table border=\"1\" class=\"dataframe\">\n",
       "  <thead>\n",
       "    <tr style=\"text-align: right;\">\n",
       "      <th></th>\n",
       "      <th>Classification</th>\n",
       "      <th>Orbital period</th>\n",
       "      <th>Transit Duration</th>\n",
       "      <th>Transit Depth</th>\n",
       "      <th>Planet radius value</th>\n",
       "      <th>Planet Insolation Value</th>\n",
       "      <th>Planetary Equilibrium Temp.</th>\n",
       "      <th>Stellar Effective Temp.</th>\n",
       "      <th>Stellar Surface Gravity</th>\n",
       "      <th>Stellar Radius</th>\n",
       "    </tr>\n",
       "  </thead>\n",
       "  <tbody>\n",
       "    <tr>\n",
       "      <th>0</th>\n",
       "      <td>FALSE POSITIVE</td>\n",
       "      <td>2.171348</td>\n",
       "      <td>2.017220</td>\n",
       "      <td>656.886099</td>\n",
       "      <td>5.818163</td>\n",
       "      <td>22601.948580</td>\n",
       "      <td>3127.204052</td>\n",
       "      <td>10249.0</td>\n",
       "      <td>4.19000</td>\n",
       "      <td>2.169860</td>\n",
       "    </tr>\n",
       "    <tr>\n",
       "      <th>1</th>\n",
       "      <td>CANDIDATE</td>\n",
       "      <td>1.931646</td>\n",
       "      <td>3.166000</td>\n",
       "      <td>1286.000000</td>\n",
       "      <td>11.215400</td>\n",
       "      <td>44464.500000</td>\n",
       "      <td>4045.000000</td>\n",
       "      <td>7070.0</td>\n",
       "      <td>4.03000</td>\n",
       "      <td>2.010000</td>\n",
       "    </tr>\n",
       "    <tr>\n",
       "      <th>4</th>\n",
       "      <td>FALSE POSITIVE</td>\n",
       "      <td>3.573014</td>\n",
       "      <td>3.370000</td>\n",
       "      <td>755.000000</td>\n",
       "      <td>11.311300</td>\n",
       "      <td>54679.300000</td>\n",
       "      <td>4260.000000</td>\n",
       "      <td>9219.0</td>\n",
       "      <td>4.14000</td>\n",
       "      <td>2.150000</td>\n",
       "    </tr>\n",
       "    <tr>\n",
       "      <th>7</th>\n",
       "      <td>CANDIDATE</td>\n",
       "      <td>6.998921</td>\n",
       "      <td>3.953000</td>\n",
       "      <td>2840.000000</td>\n",
       "      <td>14.775200</td>\n",
       "      <td>448.744000</td>\n",
       "      <td>1282.000000</td>\n",
       "      <td>6596.0</td>\n",
       "      <td>3.71000</td>\n",
       "      <td>2.700000</td>\n",
       "    </tr>\n",
       "    <tr>\n",
       "      <th>10</th>\n",
       "      <td>CANDIDATE</td>\n",
       "      <td>1.430370</td>\n",
       "      <td>1.616599</td>\n",
       "      <td>18960.712290</td>\n",
       "      <td>13.187450</td>\n",
       "      <td>1281.240825</td>\n",
       "      <td>1525.904809</td>\n",
       "      <td>5600.0</td>\n",
       "      <td>4.48851</td>\n",
       "      <td>0.890774</td>\n",
       "    </tr>\n",
       "  </tbody>\n",
       "</table>\n",
       "</div>"
      ],
      "text/plain": [
       "    Classification  Orbital period  Transit Duration  Transit Depth  \\\n",
       "0   FALSE POSITIVE        2.171348          2.017220     656.886099   \n",
       "1        CANDIDATE        1.931646          3.166000    1286.000000   \n",
       "4   FALSE POSITIVE        3.573014          3.370000     755.000000   \n",
       "7        CANDIDATE        6.998921          3.953000    2840.000000   \n",
       "10       CANDIDATE        1.430370          1.616599   18960.712290   \n",
       "\n",
       "    Planet radius value  Planet Insolation Value  Planetary Equilibrium Temp.  \\\n",
       "0              5.818163             22601.948580                  3127.204052   \n",
       "1             11.215400             44464.500000                  4045.000000   \n",
       "4             11.311300             54679.300000                  4260.000000   \n",
       "7             14.775200               448.744000                  1282.000000   \n",
       "10            13.187450              1281.240825                  1525.904809   \n",
       "\n",
       "    Stellar Effective Temp.  Stellar Surface Gravity  Stellar Radius  \n",
       "0                   10249.0                  4.19000        2.169860  \n",
       "1                    7070.0                  4.03000        2.010000  \n",
       "4                    9219.0                  4.14000        2.150000  \n",
       "7                    6596.0                  3.71000        2.700000  \n",
       "10                   5600.0                  4.48851        0.890774  "
      ]
     },
     "execution_count": 63,
     "metadata": {},
     "output_type": "execute_result"
    }
   ],
   "source": [
    "TESS_dataset_common.head()"
   ]
  },
  {
   "cell_type": "code",
   "execution_count": 64,
   "id": "c38747b4",
   "metadata": {},
   "outputs": [],
   "source": [
    "combined_dataset = pd.concat([Kepler_dataset_common, TESS_dataset_common], \n",
    "                            ignore_index=True,  # Reset index\n",
    "                            sort=False)"
   ]
  },
  {
   "cell_type": "code",
   "execution_count": 65,
   "id": "aaa2dd85",
   "metadata": {},
   "outputs": [
    {
     "data": {
      "application/vnd.microsoft.datawrangler.viewer.v0+json": {
       "columns": [
        {
         "name": "index",
         "rawType": "int64",
         "type": "integer"
        },
        {
         "name": "Classification",
         "rawType": "object",
         "type": "string"
        },
        {
         "name": "Orbital period",
         "rawType": "float64",
         "type": "float"
        },
        {
         "name": "Transit Duration",
         "rawType": "float64",
         "type": "float"
        },
        {
         "name": "Transit Depth",
         "rawType": "float64",
         "type": "float"
        },
        {
         "name": "Planet radius value",
         "rawType": "float64",
         "type": "float"
        },
        {
         "name": "Planet Insolation Value",
         "rawType": "float64",
         "type": "float"
        },
        {
         "name": "Planetary Equilibrium Temp.",
         "rawType": "float64",
         "type": "float"
        },
        {
         "name": "Stellar Effective Temp.",
         "rawType": "float64",
         "type": "float"
        },
        {
         "name": "Stellar Surface Gravity",
         "rawType": "float64",
         "type": "float"
        },
        {
         "name": "Stellar Radius",
         "rawType": "float64",
         "type": "float"
        }
       ],
       "ref": "460f4fe7-0c86-49b3-b8fc-a19564876af9",
       "rows": [
        [
         "0",
         "CANDIDATE",
         "9.48803557",
         "2.9575",
         "616.0",
         "2.26",
         "93.59",
         "793.0",
         "5455.0",
         "4.467",
         "0.927"
        ],
        [
         "1",
         "CANDIDATE",
         "54.4183827",
         "4.507",
         "875.0",
         "2.83",
         "9.11",
         "443.0",
         "5455.0",
         "4.467",
         "0.927"
        ],
        [
         "2",
         "CANDIDATE",
         "19.89913995",
         "1.7822",
         "10800.0",
         "14.6",
         "39.3",
         "638.0",
         "5853.0",
         "4.544",
         "0.868"
        ],
        [
         "3",
         "FALSE POSITIVE",
         "1.736952453",
         "2.40641",
         "8080.0",
         "33.46",
         "891.96",
         "1395.0",
         "5805.0",
         "4.564",
         "0.791"
        ],
        [
         "4",
         "CANDIDATE",
         "2.525591777",
         "1.6545",
         "603.0",
         "2.75",
         "926.16",
         "1406.0",
         "6031.0",
         "4.438",
         "1.046"
        ]
       ],
       "shape": {
        "columns": 10,
        "rows": 5
       }
      },
      "text/html": [
       "<div>\n",
       "<style scoped>\n",
       "    .dataframe tbody tr th:only-of-type {\n",
       "        vertical-align: middle;\n",
       "    }\n",
       "\n",
       "    .dataframe tbody tr th {\n",
       "        vertical-align: top;\n",
       "    }\n",
       "\n",
       "    .dataframe thead th {\n",
       "        text-align: right;\n",
       "    }\n",
       "</style>\n",
       "<table border=\"1\" class=\"dataframe\">\n",
       "  <thead>\n",
       "    <tr style=\"text-align: right;\">\n",
       "      <th></th>\n",
       "      <th>Classification</th>\n",
       "      <th>Orbital period</th>\n",
       "      <th>Transit Duration</th>\n",
       "      <th>Transit Depth</th>\n",
       "      <th>Planet radius value</th>\n",
       "      <th>Planet Insolation Value</th>\n",
       "      <th>Planetary Equilibrium Temp.</th>\n",
       "      <th>Stellar Effective Temp.</th>\n",
       "      <th>Stellar Surface Gravity</th>\n",
       "      <th>Stellar Radius</th>\n",
       "    </tr>\n",
       "  </thead>\n",
       "  <tbody>\n",
       "    <tr>\n",
       "      <th>0</th>\n",
       "      <td>CANDIDATE</td>\n",
       "      <td>9.488036</td>\n",
       "      <td>2.95750</td>\n",
       "      <td>616.0</td>\n",
       "      <td>2.26</td>\n",
       "      <td>93.59</td>\n",
       "      <td>793.0</td>\n",
       "      <td>5455.0</td>\n",
       "      <td>4.467</td>\n",
       "      <td>0.927</td>\n",
       "    </tr>\n",
       "    <tr>\n",
       "      <th>1</th>\n",
       "      <td>CANDIDATE</td>\n",
       "      <td>54.418383</td>\n",
       "      <td>4.50700</td>\n",
       "      <td>875.0</td>\n",
       "      <td>2.83</td>\n",
       "      <td>9.11</td>\n",
       "      <td>443.0</td>\n",
       "      <td>5455.0</td>\n",
       "      <td>4.467</td>\n",
       "      <td>0.927</td>\n",
       "    </tr>\n",
       "    <tr>\n",
       "      <th>2</th>\n",
       "      <td>CANDIDATE</td>\n",
       "      <td>19.899140</td>\n",
       "      <td>1.78220</td>\n",
       "      <td>10800.0</td>\n",
       "      <td>14.60</td>\n",
       "      <td>39.30</td>\n",
       "      <td>638.0</td>\n",
       "      <td>5853.0</td>\n",
       "      <td>4.544</td>\n",
       "      <td>0.868</td>\n",
       "    </tr>\n",
       "    <tr>\n",
       "      <th>3</th>\n",
       "      <td>FALSE POSITIVE</td>\n",
       "      <td>1.736952</td>\n",
       "      <td>2.40641</td>\n",
       "      <td>8080.0</td>\n",
       "      <td>33.46</td>\n",
       "      <td>891.96</td>\n",
       "      <td>1395.0</td>\n",
       "      <td>5805.0</td>\n",
       "      <td>4.564</td>\n",
       "      <td>0.791</td>\n",
       "    </tr>\n",
       "    <tr>\n",
       "      <th>4</th>\n",
       "      <td>CANDIDATE</td>\n",
       "      <td>2.525592</td>\n",
       "      <td>1.65450</td>\n",
       "      <td>603.0</td>\n",
       "      <td>2.75</td>\n",
       "      <td>926.16</td>\n",
       "      <td>1406.0</td>\n",
       "      <td>6031.0</td>\n",
       "      <td>4.438</td>\n",
       "      <td>1.046</td>\n",
       "    </tr>\n",
       "  </tbody>\n",
       "</table>\n",
       "</div>"
      ],
      "text/plain": [
       "   Classification  Orbital period  Transit Duration  Transit Depth  \\\n",
       "0       CANDIDATE        9.488036           2.95750          616.0   \n",
       "1       CANDIDATE       54.418383           4.50700          875.0   \n",
       "2       CANDIDATE       19.899140           1.78220        10800.0   \n",
       "3  FALSE POSITIVE        1.736952           2.40641         8080.0   \n",
       "4       CANDIDATE        2.525592           1.65450          603.0   \n",
       "\n",
       "   Planet radius value  Planet Insolation Value  Planetary Equilibrium Temp.  \\\n",
       "0                 2.26                    93.59                        793.0   \n",
       "1                 2.83                     9.11                        443.0   \n",
       "2                14.60                    39.30                        638.0   \n",
       "3                33.46                   891.96                       1395.0   \n",
       "4                 2.75                   926.16                       1406.0   \n",
       "\n",
       "   Stellar Effective Temp.  Stellar Surface Gravity  Stellar Radius  \n",
       "0                   5455.0                    4.467           0.927  \n",
       "1                   5455.0                    4.467           0.927  \n",
       "2                   5853.0                    4.544           0.868  \n",
       "3                   5805.0                    4.564           0.791  \n",
       "4                   6031.0                    4.438           1.046  "
      ]
     },
     "execution_count": 65,
     "metadata": {},
     "output_type": "execute_result"
    }
   ],
   "source": [
    "combined_dataset.head()"
   ]
  },
  {
   "cell_type": "code",
   "execution_count": 66,
   "id": "e7350f76",
   "metadata": {},
   "outputs": [
    {
     "data": {
      "text/plain": [
       "(9201, 10)"
      ]
     },
     "execution_count": 66,
     "metadata": {},
     "output_type": "execute_result"
    }
   ],
   "source": [
    "Kepler_dataset_common.shape"
   ]
  },
  {
   "cell_type": "code",
   "execution_count": 67,
   "id": "b32628c2",
   "metadata": {},
   "outputs": [
    {
     "data": {
      "text/plain": [
       "(6237, 10)"
      ]
     },
     "execution_count": 67,
     "metadata": {},
     "output_type": "execute_result"
    }
   ],
   "source": [
    "TESS_dataset_common.shape"
   ]
  },
  {
   "cell_type": "code",
   "execution_count": 68,
   "id": "5d4489b3",
   "metadata": {},
   "outputs": [
    {
     "data": {
      "text/plain": [
       "(15438, 10)"
      ]
     },
     "execution_count": 68,
     "metadata": {},
     "output_type": "execute_result"
    }
   ],
   "source": [
    "combined_dataset.shape"
   ]
  },
  {
   "cell_type": "code",
   "execution_count": 71,
   "id": "1cdee72a",
   "metadata": {},
   "outputs": [],
   "source": [
    "Kepler_dataset_common.to_csv('kepler_dataset_refined.csv',index=False)\n",
    "TESS_dataset_common.to_csv('TESS_dataset_refined.csv',index=False)\n",
    "combined_dataset.to_csv('kepler_tess_combined.csv',index=False)"
   ]
  },
  {
   "cell_type": "code",
   "execution_count": 72,
   "id": "acbbb79a",
   "metadata": {},
   "outputs": [
    {
     "data": {
      "application/vnd.microsoft.datawrangler.viewer.v0+json": {
       "columns": [
        {
         "name": "index",
         "rawType": "int64",
         "type": "integer"
        },
        {
         "name": "Classification",
         "rawType": "object",
         "type": "string"
        },
        {
         "name": "Orbital period",
         "rawType": "float64",
         "type": "float"
        },
        {
         "name": "Transit Duration",
         "rawType": "float64",
         "type": "float"
        },
        {
         "name": "Transit Depth",
         "rawType": "float64",
         "type": "float"
        },
        {
         "name": "Planet radius value",
         "rawType": "float64",
         "type": "float"
        },
        {
         "name": "Planet Insolation Value",
         "rawType": "float64",
         "type": "float"
        },
        {
         "name": "Planetary Equilibrium Temp.",
         "rawType": "float64",
         "type": "float"
        },
        {
         "name": "Stellar Effective Temp.",
         "rawType": "float64",
         "type": "float"
        },
        {
         "name": "Stellar Surface Gravity",
         "rawType": "float64",
         "type": "float"
        },
        {
         "name": "Stellar Radius",
         "rawType": "float64",
         "type": "float"
        }
       ],
       "ref": "041f9b82-85b4-4b9d-81e1-5cca4fa35eee",
       "rows": [
        [
         "0",
         "CANDIDATE",
         "9.48803557",
         "2.9575",
         "616.0",
         "2.26",
         "93.59",
         "793.0",
         "5455.0",
         "4.467",
         "0.927"
        ],
        [
         "1",
         "CANDIDATE",
         "54.4183827",
         "4.507",
         "875.0",
         "2.83",
         "9.11",
         "443.0",
         "5455.0",
         "4.467",
         "0.927"
        ],
        [
         "2",
         "CANDIDATE",
         "19.89913995",
         "1.7822",
         "10800.0",
         "14.6",
         "39.3",
         "638.0",
         "5853.0",
         "4.544",
         "0.868"
        ],
        [
         "3",
         "FALSE POSITIVE",
         "1.736952453",
         "2.40641",
         "8080.0",
         "33.46",
         "891.96",
         "1395.0",
         "5805.0",
         "4.564",
         "0.791"
        ],
        [
         "4",
         "CANDIDATE",
         "2.525591777",
         "1.6545",
         "603.0",
         "2.75",
         "926.16",
         "1406.0",
         "6031.0",
         "4.438",
         "1.046"
        ]
       ],
       "shape": {
        "columns": 10,
        "rows": 5
       }
      },
      "text/html": [
       "<div>\n",
       "<style scoped>\n",
       "    .dataframe tbody tr th:only-of-type {\n",
       "        vertical-align: middle;\n",
       "    }\n",
       "\n",
       "    .dataframe tbody tr th {\n",
       "        vertical-align: top;\n",
       "    }\n",
       "\n",
       "    .dataframe thead th {\n",
       "        text-align: right;\n",
       "    }\n",
       "</style>\n",
       "<table border=\"1\" class=\"dataframe\">\n",
       "  <thead>\n",
       "    <tr style=\"text-align: right;\">\n",
       "      <th></th>\n",
       "      <th>Classification</th>\n",
       "      <th>Orbital period</th>\n",
       "      <th>Transit Duration</th>\n",
       "      <th>Transit Depth</th>\n",
       "      <th>Planet radius value</th>\n",
       "      <th>Planet Insolation Value</th>\n",
       "      <th>Planetary Equilibrium Temp.</th>\n",
       "      <th>Stellar Effective Temp.</th>\n",
       "      <th>Stellar Surface Gravity</th>\n",
       "      <th>Stellar Radius</th>\n",
       "    </tr>\n",
       "  </thead>\n",
       "  <tbody>\n",
       "    <tr>\n",
       "      <th>0</th>\n",
       "      <td>CANDIDATE</td>\n",
       "      <td>9.488036</td>\n",
       "      <td>2.95750</td>\n",
       "      <td>616.0</td>\n",
       "      <td>2.26</td>\n",
       "      <td>93.59</td>\n",
       "      <td>793.0</td>\n",
       "      <td>5455.0</td>\n",
       "      <td>4.467</td>\n",
       "      <td>0.927</td>\n",
       "    </tr>\n",
       "    <tr>\n",
       "      <th>1</th>\n",
       "      <td>CANDIDATE</td>\n",
       "      <td>54.418383</td>\n",
       "      <td>4.50700</td>\n",
       "      <td>875.0</td>\n",
       "      <td>2.83</td>\n",
       "      <td>9.11</td>\n",
       "      <td>443.0</td>\n",
       "      <td>5455.0</td>\n",
       "      <td>4.467</td>\n",
       "      <td>0.927</td>\n",
       "    </tr>\n",
       "    <tr>\n",
       "      <th>2</th>\n",
       "      <td>CANDIDATE</td>\n",
       "      <td>19.899140</td>\n",
       "      <td>1.78220</td>\n",
       "      <td>10800.0</td>\n",
       "      <td>14.60</td>\n",
       "      <td>39.30</td>\n",
       "      <td>638.0</td>\n",
       "      <td>5853.0</td>\n",
       "      <td>4.544</td>\n",
       "      <td>0.868</td>\n",
       "    </tr>\n",
       "    <tr>\n",
       "      <th>3</th>\n",
       "      <td>FALSE POSITIVE</td>\n",
       "      <td>1.736952</td>\n",
       "      <td>2.40641</td>\n",
       "      <td>8080.0</td>\n",
       "      <td>33.46</td>\n",
       "      <td>891.96</td>\n",
       "      <td>1395.0</td>\n",
       "      <td>5805.0</td>\n",
       "      <td>4.564</td>\n",
       "      <td>0.791</td>\n",
       "    </tr>\n",
       "    <tr>\n",
       "      <th>4</th>\n",
       "      <td>CANDIDATE</td>\n",
       "      <td>2.525592</td>\n",
       "      <td>1.65450</td>\n",
       "      <td>603.0</td>\n",
       "      <td>2.75</td>\n",
       "      <td>926.16</td>\n",
       "      <td>1406.0</td>\n",
       "      <td>6031.0</td>\n",
       "      <td>4.438</td>\n",
       "      <td>1.046</td>\n",
       "    </tr>\n",
       "  </tbody>\n",
       "</table>\n",
       "</div>"
      ],
      "text/plain": [
       "   Classification  Orbital period  Transit Duration  Transit Depth  \\\n",
       "0       CANDIDATE        9.488036           2.95750          616.0   \n",
       "1       CANDIDATE       54.418383           4.50700          875.0   \n",
       "2       CANDIDATE       19.899140           1.78220        10800.0   \n",
       "3  FALSE POSITIVE        1.736952           2.40641         8080.0   \n",
       "4       CANDIDATE        2.525592           1.65450          603.0   \n",
       "\n",
       "   Planet radius value  Planet Insolation Value  Planetary Equilibrium Temp.  \\\n",
       "0                 2.26                    93.59                        793.0   \n",
       "1                 2.83                     9.11                        443.0   \n",
       "2                14.60                    39.30                        638.0   \n",
       "3                33.46                   891.96                       1395.0   \n",
       "4                 2.75                   926.16                       1406.0   \n",
       "\n",
       "   Stellar Effective Temp.  Stellar Surface Gravity  Stellar Radius  \n",
       "0                   5455.0                    4.467           0.927  \n",
       "1                   5455.0                    4.467           0.927  \n",
       "2                   5853.0                    4.544           0.868  \n",
       "3                   5805.0                    4.564           0.791  \n",
       "4                   6031.0                    4.438           1.046  "
      ]
     },
     "execution_count": 72,
     "metadata": {},
     "output_type": "execute_result"
    }
   ],
   "source": [
    "load=pd.read_csv('kepler_dataset_refined.csv')\n",
    "load.head()"
   ]
  },
  {
   "cell_type": "code",
   "execution_count": null,
   "id": "d0d02907",
   "metadata": {},
   "outputs": [],
   "source": []
  }
 ],
 "metadata": {
  "kernelspec": {
   "display_name": "base",
   "language": "python",
   "name": "python3"
  },
  "language_info": {
   "codemirror_mode": {
    "name": "ipython",
    "version": 3
   },
   "file_extension": ".py",
   "mimetype": "text/x-python",
   "name": "python",
   "nbconvert_exporter": "python",
   "pygments_lexer": "ipython3",
   "version": "3.13.5"
  }
 },
 "nbformat": 4,
 "nbformat_minor": 5
}
