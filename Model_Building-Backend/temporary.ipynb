{
 "cells": [
  {
   "cell_type": "code",
   "execution_count": 5,
   "id": "2a2b329d",
   "metadata": {},
   "outputs": [
    {
     "name": "stdout",
     "output_type": "stream",
     "text": [
      "Hello\n"
     ]
    }
   ],
   "source": [
    "print('Hello')"
   ]
  },
  {
   "cell_type": "code",
   "execution_count": 6,
   "id": "ff795ed2",
   "metadata": {},
   "outputs": [],
   "source": [
    "import pandas as pd\n",
    "import numpy as np\n",
    "import seaborn as sns\n",
    "import matplotlib.pyplot as plt\n",
    "from sklearn.model_selection import train_test_split"
   ]
  },
  {
   "cell_type": "code",
   "execution_count": 7,
   "id": "2b171414",
   "metadata": {},
   "outputs": [],
   "source": [
    "data=pd.read_csv('Original Dataset\\TESS_dataset.csv')"
   ]
  },
  {
   "cell_type": "code",
   "execution_count": 8,
   "id": "0f426bb0",
   "metadata": {},
   "outputs": [
    {
     "data": {
      "application/vnd.microsoft.datawrangler.viewer.v0+json": {
       "columns": [
        {
         "name": "index",
         "rawType": "int64",
         "type": "integer"
        },
        {
         "name": "tfopwg_disp",
         "rawType": "object",
         "type": "string"
        },
        {
         "name": "pl_tranmid",
         "rawType": "float64",
         "type": "float"
        },
        {
         "name": "pl_orbper",
         "rawType": "float64",
         "type": "float"
        },
        {
         "name": "pl_trandurh",
         "rawType": "float64",
         "type": "float"
        },
        {
         "name": "pl_trandep",
         "rawType": "float64",
         "type": "float"
        },
        {
         "name": "pl_rade",
         "rawType": "float64",
         "type": "float"
        },
        {
         "name": "pl_insol",
         "rawType": "float64",
         "type": "float"
        },
        {
         "name": "pl_eqt",
         "rawType": "float64",
         "type": "float"
        },
        {
         "name": "st_dist",
         "rawType": "float64",
         "type": "float"
        },
        {
         "name": "st_teff",
         "rawType": "float64",
         "type": "float"
        },
        {
         "name": "st_logg",
         "rawType": "float64",
         "type": "float"
        },
        {
         "name": "st_rad",
         "rawType": "float64",
         "type": "float"
        }
       ],
       "ref": "a78df8f8-4487-43dc-a294-abb05271e52d",
       "rows": [
        [
         "0",
         "FP",
         "2459229.63",
         "2.1713484",
         "2.0172196",
         "656.8860989",
         "5.8181633",
         "22601.94858",
         "3127.204052",
         "485.735",
         "10249.0",
         "4.19",
         "2.16986"
        ],
        [
         "1",
         "PC",
         "2459987.949",
         "1.9316462",
         "3.166",
         "1286.0",
         "11.2154",
         "44464.5",
         "4045.0",
         "295.862",
         "7070.0",
         "4.03",
         "2.01"
        ],
        [
         "2",
         "FP",
         "2459224.688",
         "1.8675574",
         "1.408",
         "1500.0",
         "23.7529",
         "2860.61",
         "2037.0",
         "943.109",
         "8924.0",
         null,
         "5.73"
        ],
        [
         "3",
         "FP",
         "2458493.396",
         "2.74323",
         "3.167",
         "383.41",
         null,
         "1177.36",
         "1631.0",
         "7728.17",
         "5388.5",
         "4.15",
         null
        ],
        [
         "4",
         "FP",
         "2459987.047",
         "3.5730141",
         "3.37",
         "755.0",
         "11.3113",
         "54679.3",
         "4260.0",
         "356.437",
         "9219.0",
         "4.14",
         "2.15"
        ]
       ],
       "shape": {
        "columns": 12,
        "rows": 5
       }
      },
      "text/html": [
       "<div>\n",
       "<style scoped>\n",
       "    .dataframe tbody tr th:only-of-type {\n",
       "        vertical-align: middle;\n",
       "    }\n",
       "\n",
       "    .dataframe tbody tr th {\n",
       "        vertical-align: top;\n",
       "    }\n",
       "\n",
       "    .dataframe thead th {\n",
       "        text-align: right;\n",
       "    }\n",
       "</style>\n",
       "<table border=\"1\" class=\"dataframe\">\n",
       "  <thead>\n",
       "    <tr style=\"text-align: right;\">\n",
       "      <th></th>\n",
       "      <th>tfopwg_disp</th>\n",
       "      <th>pl_tranmid</th>\n",
       "      <th>pl_orbper</th>\n",
       "      <th>pl_trandurh</th>\n",
       "      <th>pl_trandep</th>\n",
       "      <th>pl_rade</th>\n",
       "      <th>pl_insol</th>\n",
       "      <th>pl_eqt</th>\n",
       "      <th>st_dist</th>\n",
       "      <th>st_teff</th>\n",
       "      <th>st_logg</th>\n",
       "      <th>st_rad</th>\n",
       "    </tr>\n",
       "  </thead>\n",
       "  <tbody>\n",
       "    <tr>\n",
       "      <th>0</th>\n",
       "      <td>FP</td>\n",
       "      <td>2459229.630</td>\n",
       "      <td>2.171348</td>\n",
       "      <td>2.01722</td>\n",
       "      <td>656.886099</td>\n",
       "      <td>5.818163</td>\n",
       "      <td>22601.94858</td>\n",
       "      <td>3127.204052</td>\n",
       "      <td>485.735</td>\n",
       "      <td>10249.0</td>\n",
       "      <td>4.19</td>\n",
       "      <td>2.16986</td>\n",
       "    </tr>\n",
       "    <tr>\n",
       "      <th>1</th>\n",
       "      <td>PC</td>\n",
       "      <td>2459987.949</td>\n",
       "      <td>1.931646</td>\n",
       "      <td>3.16600</td>\n",
       "      <td>1286.000000</td>\n",
       "      <td>11.215400</td>\n",
       "      <td>44464.50000</td>\n",
       "      <td>4045.000000</td>\n",
       "      <td>295.862</td>\n",
       "      <td>7070.0</td>\n",
       "      <td>4.03</td>\n",
       "      <td>2.01000</td>\n",
       "    </tr>\n",
       "    <tr>\n",
       "      <th>2</th>\n",
       "      <td>FP</td>\n",
       "      <td>2459224.688</td>\n",
       "      <td>1.867557</td>\n",
       "      <td>1.40800</td>\n",
       "      <td>1500.000000</td>\n",
       "      <td>23.752900</td>\n",
       "      <td>2860.61000</td>\n",
       "      <td>2037.000000</td>\n",
       "      <td>943.109</td>\n",
       "      <td>8924.0</td>\n",
       "      <td>NaN</td>\n",
       "      <td>5.73000</td>\n",
       "    </tr>\n",
       "    <tr>\n",
       "      <th>3</th>\n",
       "      <td>FP</td>\n",
       "      <td>2458493.396</td>\n",
       "      <td>2.743230</td>\n",
       "      <td>3.16700</td>\n",
       "      <td>383.410000</td>\n",
       "      <td>NaN</td>\n",
       "      <td>1177.36000</td>\n",
       "      <td>1631.000000</td>\n",
       "      <td>7728.170</td>\n",
       "      <td>5388.5</td>\n",
       "      <td>4.15</td>\n",
       "      <td>NaN</td>\n",
       "    </tr>\n",
       "    <tr>\n",
       "      <th>4</th>\n",
       "      <td>FP</td>\n",
       "      <td>2459987.047</td>\n",
       "      <td>3.573014</td>\n",
       "      <td>3.37000</td>\n",
       "      <td>755.000000</td>\n",
       "      <td>11.311300</td>\n",
       "      <td>54679.30000</td>\n",
       "      <td>4260.000000</td>\n",
       "      <td>356.437</td>\n",
       "      <td>9219.0</td>\n",
       "      <td>4.14</td>\n",
       "      <td>2.15000</td>\n",
       "    </tr>\n",
       "  </tbody>\n",
       "</table>\n",
       "</div>"
      ],
      "text/plain": [
       "  tfopwg_disp   pl_tranmid  pl_orbper  pl_trandurh   pl_trandep    pl_rade  \\\n",
       "0          FP  2459229.630   2.171348      2.01722   656.886099   5.818163   \n",
       "1          PC  2459987.949   1.931646      3.16600  1286.000000  11.215400   \n",
       "2          FP  2459224.688   1.867557      1.40800  1500.000000  23.752900   \n",
       "3          FP  2458493.396   2.743230      3.16700   383.410000        NaN   \n",
       "4          FP  2459987.047   3.573014      3.37000   755.000000  11.311300   \n",
       "\n",
       "      pl_insol       pl_eqt   st_dist  st_teff  st_logg   st_rad  \n",
       "0  22601.94858  3127.204052   485.735  10249.0     4.19  2.16986  \n",
       "1  44464.50000  4045.000000   295.862   7070.0     4.03  2.01000  \n",
       "2   2860.61000  2037.000000   943.109   8924.0      NaN  5.73000  \n",
       "3   1177.36000  1631.000000  7728.170   5388.5     4.15      NaN  \n",
       "4  54679.30000  4260.000000   356.437   9219.0     4.14  2.15000  "
      ]
     },
     "execution_count": 8,
     "metadata": {},
     "output_type": "execute_result"
    }
   ],
   "source": [
    "data.head()"
   ]
  },
  {
   "cell_type": "code",
   "execution_count": 9,
   "id": "cbe60a49",
   "metadata": {},
   "outputs": [
    {
     "data": {
      "text/plain": [
       "Index(['tfopwg_disp', 'pl_tranmid', 'pl_orbper', 'pl_trandurh', 'pl_trandep',\n",
       "       'pl_rade', 'pl_insol', 'pl_eqt', 'st_dist', 'st_teff', 'st_logg',\n",
       "       'st_rad'],\n",
       "      dtype='object')"
      ]
     },
     "execution_count": 9,
     "metadata": {},
     "output_type": "execute_result"
    }
   ],
   "source": [
    "data.columns"
   ]
  },
  {
   "cell_type": "code",
   "execution_count": 10,
   "id": "01613ba3",
   "metadata": {},
   "outputs": [],
   "source": [
    "data_ref=data.dropna(axis=0,how='any')"
   ]
  },
  {
   "cell_type": "code",
   "execution_count": 11,
   "id": "32de7f03",
   "metadata": {},
   "outputs": [
    {
     "data": {
      "application/vnd.microsoft.datawrangler.viewer.v0+json": {
       "columns": [
        {
         "name": "index",
         "rawType": "int64",
         "type": "integer"
        },
        {
         "name": "tfopwg_disp",
         "rawType": "object",
         "type": "string"
        },
        {
         "name": "pl_tranmid",
         "rawType": "float64",
         "type": "float"
        },
        {
         "name": "pl_orbper",
         "rawType": "float64",
         "type": "float"
        },
        {
         "name": "pl_trandurh",
         "rawType": "float64",
         "type": "float"
        },
        {
         "name": "pl_trandep",
         "rawType": "float64",
         "type": "float"
        },
        {
         "name": "pl_rade",
         "rawType": "float64",
         "type": "float"
        },
        {
         "name": "pl_insol",
         "rawType": "float64",
         "type": "float"
        },
        {
         "name": "pl_eqt",
         "rawType": "float64",
         "type": "float"
        },
        {
         "name": "st_dist",
         "rawType": "float64",
         "type": "float"
        },
        {
         "name": "st_teff",
         "rawType": "float64",
         "type": "float"
        },
        {
         "name": "st_logg",
         "rawType": "float64",
         "type": "float"
        },
        {
         "name": "st_rad",
         "rawType": "float64",
         "type": "float"
        }
       ],
       "ref": "535d77cc-4527-4df2-9893-6cae1a6f8d33",
       "rows": [
        [
         "0",
         "FP",
         "2459229.63",
         "2.1713484",
         "2.0172196",
         "656.8860989",
         "5.8181633",
         "22601.94858",
         "3127.204052",
         "485.735",
         "10249.0",
         "4.19",
         "2.16986"
        ],
        [
         "1",
         "PC",
         "2459987.949",
         "1.9316462",
         "3.166",
         "1286.0",
         "11.2154",
         "44464.5",
         "4045.0",
         "295.862",
         "7070.0",
         "4.03",
         "2.01"
        ],
        [
         "4",
         "FP",
         "2459987.047",
         "3.5730141",
         "3.37",
         "755.0",
         "11.3113",
         "54679.3",
         "4260.0",
         "356.437",
         "9219.0",
         "4.14",
         "2.15"
        ],
        [
         "7",
         "PC",
         "2459247.931",
         "6.9989206",
         "3.953",
         "2840.0",
         "14.7752",
         "448.744",
         "1282.0",
         "283.291",
         "6596.0",
         "3.71",
         "2.7"
        ],
        [
         "10",
         "KP",
         "2458326.009",
         "1.4303699",
         "1.6165994",
         "18960.71229",
         "13.1874503",
         "1281.240825",
         "1525.904809",
         "375.31",
         "5600.0",
         "4.48851",
         "0.890774"
        ]
       ],
       "shape": {
        "columns": 12,
        "rows": 5
       }
      },
      "text/html": [
       "<div>\n",
       "<style scoped>\n",
       "    .dataframe tbody tr th:only-of-type {\n",
       "        vertical-align: middle;\n",
       "    }\n",
       "\n",
       "    .dataframe tbody tr th {\n",
       "        vertical-align: top;\n",
       "    }\n",
       "\n",
       "    .dataframe thead th {\n",
       "        text-align: right;\n",
       "    }\n",
       "</style>\n",
       "<table border=\"1\" class=\"dataframe\">\n",
       "  <thead>\n",
       "    <tr style=\"text-align: right;\">\n",
       "      <th></th>\n",
       "      <th>tfopwg_disp</th>\n",
       "      <th>pl_tranmid</th>\n",
       "      <th>pl_orbper</th>\n",
       "      <th>pl_trandurh</th>\n",
       "      <th>pl_trandep</th>\n",
       "      <th>pl_rade</th>\n",
       "      <th>pl_insol</th>\n",
       "      <th>pl_eqt</th>\n",
       "      <th>st_dist</th>\n",
       "      <th>st_teff</th>\n",
       "      <th>st_logg</th>\n",
       "      <th>st_rad</th>\n",
       "    </tr>\n",
       "  </thead>\n",
       "  <tbody>\n",
       "    <tr>\n",
       "      <th>0</th>\n",
       "      <td>FP</td>\n",
       "      <td>2459229.630</td>\n",
       "      <td>2.171348</td>\n",
       "      <td>2.017220</td>\n",
       "      <td>656.886099</td>\n",
       "      <td>5.818163</td>\n",
       "      <td>22601.948580</td>\n",
       "      <td>3127.204052</td>\n",
       "      <td>485.735</td>\n",
       "      <td>10249.0</td>\n",
       "      <td>4.19000</td>\n",
       "      <td>2.169860</td>\n",
       "    </tr>\n",
       "    <tr>\n",
       "      <th>1</th>\n",
       "      <td>PC</td>\n",
       "      <td>2459987.949</td>\n",
       "      <td>1.931646</td>\n",
       "      <td>3.166000</td>\n",
       "      <td>1286.000000</td>\n",
       "      <td>11.215400</td>\n",
       "      <td>44464.500000</td>\n",
       "      <td>4045.000000</td>\n",
       "      <td>295.862</td>\n",
       "      <td>7070.0</td>\n",
       "      <td>4.03000</td>\n",
       "      <td>2.010000</td>\n",
       "    </tr>\n",
       "    <tr>\n",
       "      <th>4</th>\n",
       "      <td>FP</td>\n",
       "      <td>2459987.047</td>\n",
       "      <td>3.573014</td>\n",
       "      <td>3.370000</td>\n",
       "      <td>755.000000</td>\n",
       "      <td>11.311300</td>\n",
       "      <td>54679.300000</td>\n",
       "      <td>4260.000000</td>\n",
       "      <td>356.437</td>\n",
       "      <td>9219.0</td>\n",
       "      <td>4.14000</td>\n",
       "      <td>2.150000</td>\n",
       "    </tr>\n",
       "    <tr>\n",
       "      <th>7</th>\n",
       "      <td>PC</td>\n",
       "      <td>2459247.931</td>\n",
       "      <td>6.998921</td>\n",
       "      <td>3.953000</td>\n",
       "      <td>2840.000000</td>\n",
       "      <td>14.775200</td>\n",
       "      <td>448.744000</td>\n",
       "      <td>1282.000000</td>\n",
       "      <td>283.291</td>\n",
       "      <td>6596.0</td>\n",
       "      <td>3.71000</td>\n",
       "      <td>2.700000</td>\n",
       "    </tr>\n",
       "    <tr>\n",
       "      <th>10</th>\n",
       "      <td>KP</td>\n",
       "      <td>2458326.009</td>\n",
       "      <td>1.430370</td>\n",
       "      <td>1.616599</td>\n",
       "      <td>18960.712290</td>\n",
       "      <td>13.187450</td>\n",
       "      <td>1281.240825</td>\n",
       "      <td>1525.904809</td>\n",
       "      <td>375.310</td>\n",
       "      <td>5600.0</td>\n",
       "      <td>4.48851</td>\n",
       "      <td>0.890774</td>\n",
       "    </tr>\n",
       "  </tbody>\n",
       "</table>\n",
       "</div>"
      ],
      "text/plain": [
       "   tfopwg_disp   pl_tranmid  pl_orbper  pl_trandurh    pl_trandep    pl_rade  \\\n",
       "0           FP  2459229.630   2.171348     2.017220    656.886099   5.818163   \n",
       "1           PC  2459987.949   1.931646     3.166000   1286.000000  11.215400   \n",
       "4           FP  2459987.047   3.573014     3.370000    755.000000  11.311300   \n",
       "7           PC  2459247.931   6.998921     3.953000   2840.000000  14.775200   \n",
       "10          KP  2458326.009   1.430370     1.616599  18960.712290  13.187450   \n",
       "\n",
       "        pl_insol       pl_eqt  st_dist  st_teff  st_logg    st_rad  \n",
       "0   22601.948580  3127.204052  485.735  10249.0  4.19000  2.169860  \n",
       "1   44464.500000  4045.000000  295.862   7070.0  4.03000  2.010000  \n",
       "4   54679.300000  4260.000000  356.437   9219.0  4.14000  2.150000  \n",
       "7     448.744000  1282.000000  283.291   6596.0  3.71000  2.700000  \n",
       "10   1281.240825  1525.904809  375.310   5600.0  4.48851  0.890774  "
      ]
     },
     "execution_count": 11,
     "metadata": {},
     "output_type": "execute_result"
    }
   ],
   "source": [
    "data_ref.head()"
   ]
  },
  {
   "cell_type": "code",
   "execution_count": 12,
   "id": "f7c3ab5b",
   "metadata": {},
   "outputs": [
    {
     "data": {
      "text/plain": [
       "<Axes: >"
      ]
     },
     "execution_count": 12,
     "metadata": {},
     "output_type": "execute_result"
    },
    {
     "data": {
      "image/png": "[encoded data removed]",
      "text/plain": [
       "<Figure size 1600x1600 with 2 Axes>"
      ]
     },
     "metadata": {},
     "output_type": "display_data"
    }
   ],
   "source": [
    "plt.figure(figsize=(16,16))\n",
    "sns.heatmap(data_ref.select_dtypes(include='number').corr(),annot=True)"
   ]
  },
  {
   "cell_type": "code",
   "execution_count": 13,
   "id": "65be2b65",
   "metadata": {},
   "outputs": [
    {
     "data": {
      "text/plain": [
       "(6592, 12)"
      ]
     },
     "execution_count": 13,
     "metadata": {},
     "output_type": "execute_result"
    }
   ],
   "source": [
    "data_ref.drop_duplicates(keep='first').shape"
   ]
  },
  {
   "cell_type": "code",
   "execution_count": 14,
   "id": "178d0f46",
   "metadata": {},
   "outputs": [
    {
     "data": {
      "application/vnd.microsoft.datawrangler.viewer.v0+json": {
       "columns": [
        {
         "name": "index",
         "rawType": "object",
         "type": "string"
        },
        {
         "name": "pl_tranmid",
         "rawType": "float64",
         "type": "float"
        },
        {
         "name": "pl_orbper",
         "rawType": "float64",
         "type": "float"
        },
        {
         "name": "pl_trandurh",
         "rawType": "float64",
         "type": "float"
        },
        {
         "name": "pl_trandep",
         "rawType": "float64",
         "type": "float"
        },
        {
         "name": "pl_rade",
         "rawType": "float64",
         "type": "float"
        },
        {
         "name": "pl_insol",
         "rawType": "float64",
         "type": "float"
        },
        {
         "name": "pl_eqt",
         "rawType": "float64",
         "type": "float"
        },
        {
         "name": "st_dist",
         "rawType": "float64",
         "type": "float"
        },
        {
         "name": "st_teff",
         "rawType": "float64",
         "type": "float"
        },
        {
         "name": "st_logg",
         "rawType": "float64",
         "type": "float"
        },
        {
         "name": "st_rad",
         "rawType": "float64",
         "type": "float"
        }
       ],
       "ref": "af063c98-86ee-4dbe-af7e-34516b9f23ab",
       "rows": [
        [
         "count",
         "6592.0",
         "6592.0",
         "6592.0",
         "6592.0",
         "6592.0",
         "6592.0",
         "6592.0",
         "6592.0",
         "6592.0",
         "6592.0",
         "6592.0"
        ],
        [
         "mean",
         "2459562.0466726334",
         "19.243771011544293",
         "3.001761168279733",
         "7861.645555382388",
         "10.053069529505459",
         "2177.5133700789443",
         "1277.7533779659589",
         "437.6429361635316",
         "5786.837613774272",
         "4.302670056128641",
         "1.3242540530643205"
        ],
        [
         "std",
         "614.8211428103185",
         "103.13320172073537",
         "1.7383261219998674",
         "11646.490692290672",
         "6.584191060047939",
         "10974.415913192832",
         "682.5807610566984",
         "378.28276595636396",
         "1474.8204019723287",
         "0.3041136055526196",
         "0.6519387348024704"
        ],
        [
         "min",
         "2457925.865",
         "0.1638211",
         "0.101",
         "24.5834929",
         "0.5525072",
         "0.0003419",
         "37.0",
         "6.53127",
         "2824.0",
         "0.1",
         "0.125969"
        ],
        [
         "25%",
         "2459199.3245",
         "2.5774486750000003",
         "1.8367499999999999",
         "1342.7350314999999",
         "4.256283625",
         "81.72852499999999",
         "808.938682325",
         "169.75025",
         "5268.674999999999",
         "4.12",
         "0.8825775"
        ],
        [
         "50%",
         "2459606.1055",
         "4.22831225",
         "2.71476175",
         "4695.5",
         "10.485600000000002",
         "348.5485",
         "1175.0",
         "348.6",
         "5823.0",
         "4.33",
         "1.22"
        ],
        [
         "75%",
         "2459990.6905",
         "8.3755196",
         "3.769",
         "10338.66446",
         "13.90124705",
         "1134.53597975",
         "1585.0",
         "631.392",
         "6297.0",
         "4.5",
         "1.63"
        ],
        [
         "max",
         "2460863.076",
         "1837.889731",
         "30.0156194",
         "223710.0",
         "208.489",
         "280833.0",
         "6413.0",
         "9590.75",
         "50000.0",
         "5.96065",
         "12.23"
        ]
       ],
       "shape": {
        "columns": 11,
        "rows": 8
       }
      },
      "text/html": [
       "<div>\n",
       "<style scoped>\n",
       "    .dataframe tbody tr th:only-of-type {\n",
       "        vertical-align: middle;\n",
       "    }\n",
       "\n",
       "    .dataframe tbody tr th {\n",
       "        vertical-align: top;\n",
       "    }\n",
       "\n",
       "    .dataframe thead th {\n",
       "        text-align: right;\n",
       "    }\n",
       "</style>\n",
       "<table border=\"1\" class=\"dataframe\">\n",
       "  <thead>\n",
       "    <tr style=\"text-align: right;\">\n",
       "      <th></th>\n",
       "      <th>pl_tranmid</th>\n",
       "      <th>pl_orbper</th>\n",
       "      <th>pl_trandurh</th>\n",
       "      <th>pl_trandep</th>\n",
       "      <th>pl_rade</th>\n",
       "      <th>pl_insol</th>\n",
       "      <th>pl_eqt</th>\n",
       "      <th>st_dist</th>\n",
       "      <th>st_teff</th>\n",
       "      <th>st_logg</th>\n",
       "      <th>st_rad</th>\n",
       "    </tr>\n",
       "  </thead>\n",
       "  <tbody>\n",
       "    <tr>\n",
       "      <th>count</th>\n",
       "      <td>6.592000e+03</td>\n",
       "      <td>6592.000000</td>\n",
       "      <td>6592.000000</td>\n",
       "      <td>6592.000000</td>\n",
       "      <td>6592.000000</td>\n",
       "      <td>6592.000000</td>\n",
       "      <td>6592.000000</td>\n",
       "      <td>6592.000000</td>\n",
       "      <td>6592.000000</td>\n",
       "      <td>6592.000000</td>\n",
       "      <td>6592.000000</td>\n",
       "    </tr>\n",
       "    <tr>\n",
       "      <th>mean</th>\n",
       "      <td>2.459562e+06</td>\n",
       "      <td>19.243771</td>\n",
       "      <td>3.001761</td>\n",
       "      <td>7861.645555</td>\n",
       "      <td>10.053070</td>\n",
       "      <td>2177.513370</td>\n",
       "      <td>1277.753378</td>\n",
       "      <td>437.642936</td>\n",
       "      <td>5786.837614</td>\n",
       "      <td>4.302670</td>\n",
       "      <td>1.324254</td>\n",
       "    </tr>\n",
       "    <tr>\n",
       "      <th>std</th>\n",
       "      <td>6.148211e+02</td>\n",
       "      <td>103.133202</td>\n",
       "      <td>1.738326</td>\n",
       "      <td>11646.490692</td>\n",
       "      <td>6.584191</td>\n",
       "      <td>10974.415913</td>\n",
       "      <td>682.580761</td>\n",
       "      <td>378.282766</td>\n",
       "      <td>1474.820402</td>\n",
       "      <td>0.304114</td>\n",
       "      <td>0.651939</td>\n",
       "    </tr>\n",
       "    <tr>\n",
       "      <th>min</th>\n",
       "      <td>2.457926e+06</td>\n",
       "      <td>0.163821</td>\n",
       "      <td>0.101000</td>\n",
       "      <td>24.583493</td>\n",
       "      <td>0.552507</td>\n",
       "      <td>0.000342</td>\n",
       "      <td>37.000000</td>\n",
       "      <td>6.531270</td>\n",
       "      <td>2824.000000</td>\n",
       "      <td>0.100000</td>\n",
       "      <td>0.125969</td>\n",
       "    </tr>\n",
       "    <tr>\n",
       "      <th>25%</th>\n",
       "      <td>2.459199e+06</td>\n",
       "      <td>2.577449</td>\n",
       "      <td>1.836750</td>\n",
       "      <td>1342.735031</td>\n",
       "      <td>4.256284</td>\n",
       "      <td>81.728525</td>\n",
       "      <td>808.938682</td>\n",
       "      <td>169.750250</td>\n",
       "      <td>5268.675000</td>\n",
       "      <td>4.120000</td>\n",
       "      <td>0.882578</td>\n",
       "    </tr>\n",
       "    <tr>\n",
       "      <th>50%</th>\n",
       "      <td>2.459606e+06</td>\n",
       "      <td>4.228312</td>\n",
       "      <td>2.714762</td>\n",
       "      <td>4695.500000</td>\n",
       "      <td>10.485600</td>\n",
       "      <td>348.548500</td>\n",
       "      <td>1175.000000</td>\n",
       "      <td>348.600000</td>\n",
       "      <td>5823.000000</td>\n",
       "      <td>4.330000</td>\n",
       "      <td>1.220000</td>\n",
       "    </tr>\n",
       "    <tr>\n",
       "      <th>75%</th>\n",
       "      <td>2.459991e+06</td>\n",
       "      <td>8.375520</td>\n",
       "      <td>3.769000</td>\n",
       "      <td>10338.664460</td>\n",
       "      <td>13.901247</td>\n",
       "      <td>1134.535980</td>\n",
       "      <td>1585.000000</td>\n",
       "      <td>631.392000</td>\n",
       "      <td>6297.000000</td>\n",
       "      <td>4.500000</td>\n",
       "      <td>1.630000</td>\n",
       "    </tr>\n",
       "    <tr>\n",
       "      <th>max</th>\n",
       "      <td>2.460863e+06</td>\n",
       "      <td>1837.889731</td>\n",
       "      <td>30.015619</td>\n",
       "      <td>223710.000000</td>\n",
       "      <td>208.489000</td>\n",
       "      <td>280833.000000</td>\n",
       "      <td>6413.000000</td>\n",
       "      <td>9590.750000</td>\n",
       "      <td>50000.000000</td>\n",
       "      <td>5.960650</td>\n",
       "      <td>12.230000</td>\n",
       "    </tr>\n",
       "  </tbody>\n",
       "</table>\n",
       "</div>"
      ],
      "text/plain": [
       "         pl_tranmid    pl_orbper  pl_trandurh     pl_trandep      pl_rade  \\\n",
       "count  6.592000e+03  6592.000000  6592.000000    6592.000000  6592.000000   \n",
       "mean   2.459562e+06    19.243771     3.001761    7861.645555    10.053070   \n",
       "std    6.148211e+02   103.133202     1.738326   11646.490692     6.584191   \n",
       "min    2.457926e+06     0.163821     0.101000      24.583493     0.552507   \n",
       "25%    2.459199e+06     2.577449     1.836750    1342.735031     4.256284   \n",
       "50%    2.459606e+06     4.228312     2.714762    4695.500000    10.485600   \n",
       "75%    2.459991e+06     8.375520     3.769000   10338.664460    13.901247   \n",
       "max    2.460863e+06  1837.889731    30.015619  223710.000000   208.489000   \n",
       "\n",
       "            pl_insol       pl_eqt      st_dist       st_teff      st_logg  \\\n",
       "count    6592.000000  6592.000000  6592.000000   6592.000000  6592.000000   \n",
       "mean     2177.513370  1277.753378   437.642936   5786.837614     4.302670   \n",
       "std     10974.415913   682.580761   378.282766   1474.820402     0.304114   \n",
       "min         0.000342    37.000000     6.531270   2824.000000     0.100000   \n",
       "25%        81.728525   808.938682   169.750250   5268.675000     4.120000   \n",
       "50%       348.548500  1175.000000   348.600000   5823.000000     4.330000   \n",
       "75%      1134.535980  1585.000000   631.392000   6297.000000     4.500000   \n",
       "max    280833.000000  6413.000000  9590.750000  50000.000000     5.960650   \n",
       "\n",
       "            st_rad  \n",
       "count  6592.000000  \n",
       "mean      1.324254  \n",
       "std       0.651939  \n",
       "min       0.125969  \n",
       "25%       0.882578  \n",
       "50%       1.220000  \n",
       "75%       1.630000  \n",
       "max      12.230000  "
      ]
     },
     "execution_count": 14,
     "metadata": {},
     "output_type": "execute_result"
    }
   ],
   "source": [
    "data_ref.describe()"
   ]
  },
  {
   "cell_type": "code",
   "execution_count": 15,
   "id": "4d8c2063",
   "metadata": {},
   "outputs": [
    {
     "data": {
      "text/plain": [
       "(559, 12)"
      ]
     },
     "execution_count": 15,
     "metadata": {},
     "output_type": "execute_result"
    }
   ],
   "source": [
    "data_ref[data_ref['tfopwg_disp']=='KP'].shape"
   ]
  },
  {
   "cell_type": "code",
   "execution_count": 16,
   "id": "5b8da342",
   "metadata": {},
   "outputs": [
    {
     "data": {
      "text/plain": [
       "(943, 12)"
      ]
     },
     "execution_count": 16,
     "metadata": {},
     "output_type": "execute_result"
    }
   ],
   "source": [
    "data_ref[data_ref['tfopwg_disp']=='FP'].shape"
   ]
  },
  {
   "cell_type": "code",
   "execution_count": 17,
   "id": "85975caa",
   "metadata": {},
   "outputs": [
    {
     "data": {
      "text/plain": [
       "(4006, 12)"
      ]
     },
     "execution_count": 17,
     "metadata": {},
     "output_type": "execute_result"
    }
   ],
   "source": [
    "data_ref[data_ref['tfopwg_disp']=='PC'].shape"
   ]
  },
  {
   "cell_type": "code",
   "execution_count": 18,
   "id": "643d6273",
   "metadata": {},
   "outputs": [
    {
     "data": {
      "text/plain": [
       "(355, 12)"
      ]
     },
     "execution_count": 18,
     "metadata": {},
     "output_type": "execute_result"
    }
   ],
   "source": [
    "data_ref[data_ref['tfopwg_disp']=='APC'].shape"
   ]
  },
  {
   "cell_type": "code",
   "execution_count": 19,
   "id": "edafa5fb",
   "metadata": {},
   "outputs": [
    {
     "data": {
      "text/plain": [
       "array(['FP', 'PC', 'KP', 'APC', 'FA', 'CP'], dtype=object)"
      ]
     },
     "execution_count": 19,
     "metadata": {},
     "output_type": "execute_result"
    }
   ],
   "source": [
    "data_ref['tfopwg_disp'].unique()"
   ]
  },
  {
   "cell_type": "code",
   "execution_count": 20,
   "id": "64f178e7",
   "metadata": {},
   "outputs": [],
   "source": [
    "data_needed = data_ref[(data_ref['tfopwg_disp'] == 'FA') | \n",
    "                       (data_ref['tfopwg_disp'] == 'KP') | \n",
    "                       (data_ref['tfopwg_disp'] == 'FP') | \n",
    "                       (data_ref['tfopwg_disp'] == 'CP')]"
   ]
  },
  {
   "cell_type": "code",
   "execution_count": 21,
   "id": "2271b953",
   "metadata": {},
   "outputs": [
    {
     "data": {
      "text/plain": [
       "(2231, 12)"
      ]
     },
     "execution_count": 21,
     "metadata": {},
     "output_type": "execute_result"
    }
   ],
   "source": [
    "data_needed.shape"
   ]
  },
  {
   "cell_type": "code",
   "execution_count": 22,
   "id": "a173532a",
   "metadata": {},
   "outputs": [
    {
     "data": {
      "application/vnd.microsoft.datawrangler.viewer.v0+json": {
       "columns": [
        {
         "name": "index",
         "rawType": "int64",
         "type": "integer"
        },
        {
         "name": "tfopwg_disp",
         "rawType": "object",
         "type": "string"
        },
        {
         "name": "pl_tranmid",
         "rawType": "float64",
         "type": "float"
        },
        {
         "name": "pl_orbper",
         "rawType": "float64",
         "type": "float"
        },
        {
         "name": "pl_trandurh",
         "rawType": "float64",
         "type": "float"
        },
        {
         "name": "pl_trandep",
         "rawType": "float64",
         "type": "float"
        },
        {
         "name": "pl_rade",
         "rawType": "float64",
         "type": "float"
        },
        {
         "name": "pl_insol",
         "rawType": "float64",
         "type": "float"
        },
        {
         "name": "pl_eqt",
         "rawType": "float64",
         "type": "float"
        },
        {
         "name": "st_dist",
         "rawType": "float64",
         "type": "float"
        },
        {
         "name": "st_teff",
         "rawType": "float64",
         "type": "float"
        },
        {
         "name": "st_logg",
         "rawType": "float64",
         "type": "float"
        },
        {
         "name": "st_rad",
         "rawType": "float64",
         "type": "float"
        }
       ],
       "ref": "d144c6f3-78d5-4c03-aeb4-e361f7ab56ce",
       "rows": [
        [
         "0",
         "FP",
         "2459229.63",
         "2.1713484",
         "2.0172196",
         "656.8860989",
         "5.8181633",
         "22601.94858",
         "3127.204052",
         "485.735",
         "10249.0",
         "4.19",
         "2.16986"
        ],
        [
         "4",
         "FP",
         "2459987.047",
         "3.5730141",
         "3.37",
         "755.0",
         "11.3113",
         "54679.3",
         "4260.0",
         "356.437",
         "9219.0",
         "4.14",
         "2.15"
        ],
        [
         "10",
         "KP",
         "2458326.009",
         "1.4303699",
         "1.6165994",
         "18960.71229",
         "13.1874503",
         "1281.240825",
         "1525.904809",
         "375.31",
         "5600.0",
         "4.48851",
         "0.890774"
        ],
        [
         "17",
         "FP",
         "2459238.831",
         "12.6889415",
         "7.9201001",
         "3232.852789",
         "14.0608342",
         "425.1594177",
         "1158.131037",
         "368.646",
         "7601.0",
         "4.31",
         "1.53641"
        ],
        [
         "18",
         "FP",
         "2458518.965",
         "1.10422",
         "2.37",
         "14177.7",
         "21.0448",
         "39459.3",
         "3926.0",
         "406.997",
         "6995.2",
         "4.07",
         "1.61"
        ]
       ],
       "shape": {
        "columns": 12,
        "rows": 5
       }
      },
      "text/html": [
       "<div>\n",
       "<style scoped>\n",
       "    .dataframe tbody tr th:only-of-type {\n",
       "        vertical-align: middle;\n",
       "    }\n",
       "\n",
       "    .dataframe tbody tr th {\n",
       "        vertical-align: top;\n",
       "    }\n",
       "\n",
       "    .dataframe thead th {\n",
       "        text-align: right;\n",
       "    }\n",
       "</style>\n",
       "<table border=\"1\" class=\"dataframe\">\n",
       "  <thead>\n",
       "    <tr style=\"text-align: right;\">\n",
       "      <th></th>\n",
       "      <th>tfopwg_disp</th>\n",
       "      <th>pl_tranmid</th>\n",
       "      <th>pl_orbper</th>\n",
       "      <th>pl_trandurh</th>\n",
       "      <th>pl_trandep</th>\n",
       "      <th>pl_rade</th>\n",
       "      <th>pl_insol</th>\n",
       "      <th>pl_eqt</th>\n",
       "      <th>st_dist</th>\n",
       "      <th>st_teff</th>\n",
       "      <th>st_logg</th>\n",
       "      <th>st_rad</th>\n",
       "    </tr>\n",
       "  </thead>\n",
       "  <tbody>\n",
       "    <tr>\n",
       "      <th>0</th>\n",
       "      <td>FP</td>\n",
       "      <td>2459229.630</td>\n",
       "      <td>2.171348</td>\n",
       "      <td>2.017220</td>\n",
       "      <td>656.886099</td>\n",
       "      <td>5.818163</td>\n",
       "      <td>22601.948580</td>\n",
       "      <td>3127.204052</td>\n",
       "      <td>485.735</td>\n",
       "      <td>10249.0</td>\n",
       "      <td>4.19000</td>\n",
       "      <td>2.169860</td>\n",
       "    </tr>\n",
       "    <tr>\n",
       "      <th>4</th>\n",
       "      <td>FP</td>\n",
       "      <td>2459987.047</td>\n",
       "      <td>3.573014</td>\n",
       "      <td>3.370000</td>\n",
       "      <td>755.000000</td>\n",
       "      <td>11.311300</td>\n",
       "      <td>54679.300000</td>\n",
       "      <td>4260.000000</td>\n",
       "      <td>356.437</td>\n",
       "      <td>9219.0</td>\n",
       "      <td>4.14000</td>\n",
       "      <td>2.150000</td>\n",
       "    </tr>\n",
       "    <tr>\n",
       "      <th>10</th>\n",
       "      <td>KP</td>\n",
       "      <td>2458326.009</td>\n",
       "      <td>1.430370</td>\n",
       "      <td>1.616599</td>\n",
       "      <td>18960.712290</td>\n",
       "      <td>13.187450</td>\n",
       "      <td>1281.240825</td>\n",
       "      <td>1525.904809</td>\n",
       "      <td>375.310</td>\n",
       "      <td>5600.0</td>\n",
       "      <td>4.48851</td>\n",
       "      <td>0.890774</td>\n",
       "    </tr>\n",
       "    <tr>\n",
       "      <th>17</th>\n",
       "      <td>FP</td>\n",
       "      <td>2459238.831</td>\n",
       "      <td>12.688942</td>\n",
       "      <td>7.920100</td>\n",
       "      <td>3232.852789</td>\n",
       "      <td>14.060834</td>\n",
       "      <td>425.159418</td>\n",
       "      <td>1158.131037</td>\n",
       "      <td>368.646</td>\n",
       "      <td>7601.0</td>\n",
       "      <td>4.31000</td>\n",
       "      <td>1.536410</td>\n",
       "    </tr>\n",
       "    <tr>\n",
       "      <th>18</th>\n",
       "      <td>FP</td>\n",
       "      <td>2458518.965</td>\n",
       "      <td>1.104220</td>\n",
       "      <td>2.370000</td>\n",
       "      <td>14177.700000</td>\n",
       "      <td>21.044800</td>\n",
       "      <td>39459.300000</td>\n",
       "      <td>3926.000000</td>\n",
       "      <td>406.997</td>\n",
       "      <td>6995.2</td>\n",
       "      <td>4.07000</td>\n",
       "      <td>1.610000</td>\n",
       "    </tr>\n",
       "  </tbody>\n",
       "</table>\n",
       "</div>"
      ],
      "text/plain": [
       "   tfopwg_disp   pl_tranmid  pl_orbper  pl_trandurh    pl_trandep    pl_rade  \\\n",
       "0           FP  2459229.630   2.171348     2.017220    656.886099   5.818163   \n",
       "4           FP  2459987.047   3.573014     3.370000    755.000000  11.311300   \n",
       "10          KP  2458326.009   1.430370     1.616599  18960.712290  13.187450   \n",
       "17          FP  2459238.831  12.688942     7.920100   3232.852789  14.060834   \n",
       "18          FP  2458518.965   1.104220     2.370000  14177.700000  21.044800   \n",
       "\n",
       "        pl_insol       pl_eqt  st_dist  st_teff  st_logg    st_rad  \n",
       "0   22601.948580  3127.204052  485.735  10249.0  4.19000  2.169860  \n",
       "4   54679.300000  4260.000000  356.437   9219.0  4.14000  2.150000  \n",
       "10   1281.240825  1525.904809  375.310   5600.0  4.48851  0.890774  \n",
       "17    425.159418  1158.131037  368.646   7601.0  4.31000  1.536410  \n",
       "18  39459.300000  3926.000000  406.997   6995.2  4.07000  1.610000  "
      ]
     },
     "execution_count": 22,
     "metadata": {},
     "output_type": "execute_result"
    }
   ],
   "source": [
    "data_needed.head()"
   ]
  },
  {
   "cell_type": "code",
   "execution_count": 23,
   "id": "78ac70f0",
   "metadata": {},
   "outputs": [
    {
     "data": {
      "application/vnd.microsoft.datawrangler.viewer.v0+json": {
       "columns": [
        {
         "name": "index",
         "rawType": "int64",
         "type": "integer"
        },
        {
         "name": "pl_tranmid",
         "rawType": "float64",
         "type": "float"
        },
        {
         "name": "pl_orbper",
         "rawType": "float64",
         "type": "float"
        },
        {
         "name": "pl_trandurh",
         "rawType": "float64",
         "type": "float"
        },
        {
         "name": "pl_trandep",
         "rawType": "float64",
         "type": "float"
        },
        {
         "name": "pl_rade",
         "rawType": "float64",
         "type": "float"
        },
        {
         "name": "pl_insol",
         "rawType": "float64",
         "type": "float"
        },
        {
         "name": "pl_eqt",
         "rawType": "float64",
         "type": "float"
        },
        {
         "name": "st_dist",
         "rawType": "float64",
         "type": "float"
        },
        {
         "name": "st_teff",
         "rawType": "float64",
         "type": "float"
        },
        {
         "name": "st_logg",
         "rawType": "float64",
         "type": "float"
        },
        {
         "name": "st_rad",
         "rawType": "float64",
         "type": "float"
        }
       ],
       "ref": "8c3cd9df-8a54-4561-8e9e-528c5e5261d3",
       "rows": [
        [
         "0",
         "2459229.63",
         "2.1713484",
         "2.0172196",
         "656.8860989",
         "5.8181633",
         "22601.94858",
         "3127.204052",
         "485.735",
         "10249.0",
         "4.19",
         "2.16986"
        ],
        [
         "4",
         "2459987.047",
         "3.5730141",
         "3.37",
         "755.0",
         "11.3113",
         "54679.3",
         "4260.0",
         "356.437",
         "9219.0",
         "4.14",
         "2.15"
        ],
        [
         "10",
         "2458326.009",
         "1.4303699",
         "1.6165994",
         "18960.71229",
         "13.1874503",
         "1281.240825",
         "1525.904809",
         "375.31",
         "5600.0",
         "4.48851",
         "0.890774"
        ],
        [
         "17",
         "2459238.831",
         "12.6889415",
         "7.9201001",
         "3232.852789",
         "14.0608342",
         "425.1594177",
         "1158.131037",
         "368.646",
         "7601.0",
         "4.31",
         "1.53641"
        ],
        [
         "18",
         "2458518.965",
         "1.10422",
         "2.37",
         "14177.7",
         "21.0448",
         "39459.3",
         "3926.0",
         "406.997",
         "6995.2",
         "4.07",
         "1.61"
        ],
        [
         "19",
         "2458492.781",
         "4.95912",
         "2.509",
         "7440.0",
         "22.9123",
         "673.55",
         "1419.0",
         "360.541",
         "5889.0",
         "3.86",
         "2.0"
        ],
        [
         "21",
         "2460187.917",
         "4.4119378",
         "3.65",
         "15062.0",
         "15.4706",
         "653.252",
         "1408.0",
         "175.631",
         "6280.0",
         "4.32092",
         "1.21"
        ],
        [
         "23",
         "2458492.904",
         "1.90879",
         "1.909",
         "618.482",
         "3.34688",
         "985.807",
         "1561.0",
         "235.974",
         "6022.6",
         "4.52",
         "1.22"
        ],
        [
         "24",
         "2458547.448",
         "3.09574",
         "4.475",
         "380.0",
         "3.4262",
         "18087.9",
         "3230.0",
         "120.666",
         "6084.0",
         "4.13",
         "1.41"
        ],
        [
         "25",
         "2459303.304",
         "1.3214483",
         "3.435",
         "2180.0",
         "21.8839",
         "35623.2",
         "3827.0",
         "316.398",
         "5050.8",
         "3.56",
         "2.99"
        ],
        [
         "28",
         "2460720.808",
         "14.2628757",
         "6.9350494",
         "913.2067174",
         "2.4765813",
         "153.2069421",
         "980.3628831",
         "105.677",
         "5690.0",
         "4.58",
         "0.853898"
        ],
        [
         "32",
         "2458544.481",
         "1.01606",
         "2.843",
         "240.0",
         "1.20704",
         "2784.04",
         "2023.0",
         "23.7748",
         "4634.0",
         "4.64",
         "0.68"
        ],
        [
         "34",
         "2458327.253",
         "3.547854",
         "3.494333",
         "10424.3718",
         "14.581841",
         "1212.004376",
         "1504.858953",
         "411.211",
         "6351.0",
         "4.22896",
         "1.4"
        ],
        [
         "35",
         "2460054.784",
         "12.1246519",
         "4.612",
         "7279.0",
         "17.6729",
         "207.32",
         "1057.0",
         "78.41273",
         "4807.6",
         "4.17",
         "1.07"
        ],
        [
         "36",
         "2459304.838",
         "5.652623",
         "3.434",
         "1250.0",
         "8.94354",
         "2717.06",
         "2011.0",
         "270.771",
         "6415.4",
         "3.98",
         "1.92"
        ],
        [
         "39",
         "2460768.617",
         "3.6404389",
         "2.5339234",
         "476.3077321",
         "3.7025342",
         "9941.226551",
         "2783.098027",
         "363.44",
         "9810.0",
         "4.43",
         "1.60776"
        ],
        [
         "42",
         "2459331.125",
         "1.2025238",
         "1.991",
         "390.0",
         "6.31106",
         "208477.0",
         "5952.0",
         "279.698",
         "9158.0",
         "4.32",
         "1.74"
        ],
        [
         "45",
         "2460150.609",
         "4.0872956",
         "5.586113",
         "3572.17125",
         "13.6237732",
         "2242.36054",
         "1755.076738",
         "316.678",
         "6036.0",
         "3.93359",
         "2.2186699"
        ],
        [
         "47",
         "2459261.801",
         "8.30792",
         "3.228",
         "8350.0",
         "43.1068",
         "2276.25",
         "1924.0",
         "305.034",
         "9081.0",
         "3.83",
         "3.05"
        ],
        [
         "49",
         "2459985.77",
         "1.4415577",
         "2.349",
         "507.0",
         "3.61078",
         "16861.8",
         "3174.0",
         "208.055",
         "6902.0",
         "4.25",
         "1.52"
        ],
        [
         "51",
         "2459301.544",
         "3.7039994",
         "4.277",
         "7590.0",
         "17.57",
         "3546.13",
         "2149.0",
         "300.696",
         "7013.8",
         "4.21",
         "1.9"
        ],
        [
         "52",
         "2460177.867",
         "1.3042553",
         "1.706",
         "914.0",
         "9.36472",
         "26944.7",
         "3569.0",
         "301.298",
         "6762.0",
         "4.11",
         "1.75"
        ],
        [
         "53",
         "2458544.791",
         "0.62627",
         "0.666",
         "1880.0",
         "5.72162",
         "3235.57",
         "2101.0",
         "134.926",
         "5622.0",
         "4.5",
         "0.93"
        ],
        [
         "54",
         "2458518.376",
         "0.30412",
         "0.748",
         "1330.0",
         "10.417",
         "280833.0",
         "6413.0",
         "440.426",
         "11892.0",
         "4.14",
         "2.52"
        ],
        [
         "55",
         "2459363.821",
         "2.1805277",
         "2.969175",
         "16340.13532",
         "16.808853",
         "1770.465054",
         "1654.404068",
         "314.995",
         "6599.0",
         "4.21017",
         "1.2714601"
        ],
        [
         "56",
         "2459084.585",
         "2.1846669",
         "2.86528",
         "11708.02285",
         "13.7028527",
         "1362.138143",
         "1549.44098",
         "137.544",
         "5630.0",
         "4.37759",
         "1.23824"
        ],
        [
         "57",
         "2459355.546",
         "3.7354838",
         "4.142",
         "17030.0",
         "21.2315",
         "1292.19",
         "1670.0",
         "405.908",
         "6650.0",
         "4.1639",
         "1.57"
        ],
        [
         "58",
         "2458657.737",
         "21.701669",
         "8.2676424",
         "211.6567325",
         "2.3751494",
         "52.095",
         "685.2",
         "53.19149",
         "5625.0",
         "4.438",
         "1.56486"
        ],
        [
         "59",
         "2458332.941",
         "9.139804",
         "3.0912936",
         "358.4157801",
         "3.0629855",
         "243.011763",
         "1006.993283",
         "129.804",
         "5958.2",
         "4.34",
         "1.58"
        ],
        [
         "61",
         "2460122.7",
         "15.5077855",
         "4.565",
         "513.0",
         "2.43432",
         "88.0718",
         "853.0",
         "88.4343",
         "6122.0",
         "4.30881",
         "1.17"
        ],
        [
         "62",
         "2458661.063",
         "17.4713078",
         "4.4284819",
         "1199.754148",
         "3.5766828",
         "53.3700317",
         "689.3568807",
         "57.2651",
         "5783.54",
         "4.49925",
         "0.974669"
        ],
        [
         "67",
         "2460201.639",
         "2.8493825",
         "3.567",
         "8049.0",
         "16.3869",
         "2005.83",
         "1864.0",
         "364.411",
         "6900.0",
         "4.438",
         "1.77"
        ],
        [
         "70",
         "2460177.2",
         "4.1150576",
         "1.08",
         "487.0",
         "2.30057",
         "77.3573",
         "826.0",
         "82.1733",
         "5394.0",
         "4.50942",
         "0.89"
        ],
        [
         "72",
         "2458656.668",
         "6.4438657",
         "1.9309449",
         "1121.951228",
         "2.460344",
         "60.831305",
         "712.2812841",
         "68.0726",
         "4803.0",
         "4.52079",
         "0.737189"
        ],
        [
         "73",
         "2458664.49",
         "12.2265595",
         "2.1904379",
         "1206.369329",
         "2.6014766",
         "25.8970378",
         "575.3502049",
         "68.0726",
         "4803.0",
         "4.52079",
         "0.737189"
        ],
        [
         "76",
         "2458656.988",
         "3.1316735",
         "2.4579197",
         "14915.69437",
         "9.4995191",
         "148.6544991",
         "890.5622134",
         "263.609",
         "4351.0",
         "4.438",
         "0.76701"
        ],
        [
         "78",
         "2460147.379",
         "2.9776446",
         "2.962",
         "13022.0",
         "14.4339",
         "758.324",
         "1461.0",
         "197.996",
         "5703.0",
         "4.25824",
         "1.22"
        ],
        [
         "79",
         "2460176.993",
         "3.9502008",
         "4.444",
         "13914.0",
         "20.5357",
         "1009.38",
         "1570.0",
         "211.211",
         "6153.0",
         "4.18077",
         "1.71"
        ],
        [
         "81",
         "2458655.394",
         "3.5544026",
         "2.0550535",
         "10164.87534",
         "13.200677",
         "515.0014435",
         "1214.987644",
         "290.198",
         "5639.0",
         "4.37172",
         "1.11499"
        ],
        [
         "82",
         "2459211.732",
         "12.8379689",
         "9.8464123",
         "10539.01928",
         "25.4886382",
         "374.129",
         "1225.0",
         "703.878",
         "5765.0",
         "4.34773",
         "2.4494"
        ],
        [
         "83",
         "2459036.473",
         "3.9228016",
         "1.8736007",
         "31510.90049",
         "13.3368705",
         "91.167589",
         "788.0973496",
         "300.67",
         "4444.0",
         "4.438",
         "0.6983"
        ],
        [
         "85",
         "2458654.25",
         "0.6047392",
         "1.0403847",
         "1027.683348",
         "1.8625587",
         "528.0253155",
         "1222.59731",
         "61.4592",
         "4046.0",
         "4.60963",
         "0.580337"
        ],
        [
         "86",
         "2458654.163",
         "2.5495611",
         "2.6173308",
         "14921.40219",
         "12.9171288",
         "757.1284067",
         "1337.864515",
         "248.46",
         "5659.0",
         "4.44653",
         "1.03997"
        ],
        [
         "88",
         "2458654.103",
         "0.5182425",
         "0.8565249",
         "831.8920424",
         "1.3485121",
         "255.1405815",
         "1019.329598",
         "20.373",
         "3325.0",
         "4.88693",
         "0.390989"
        ],
        [
         "90",
         "2458328.084",
         "3.0440541",
         "2.5984575",
         "22236.01654",
         "12.1086799",
         "315.9871326",
         "1075.318454",
         "421.855",
         "5523.0",
         "4.52192",
         "0.809868"
        ],
        [
         "95",
         "2458653.973",
         "1.3484961",
         "2.4074261",
         "18463.76367",
         "15.8824638",
         "2706.960623",
         "1839.671304",
         "494.182",
         "6346.0",
         "4.38484",
         "1.14759"
        ],
        [
         "98",
         "2458630.772",
         "9.30992",
         "3.464",
         "2220.0",
         "14.2968",
         "215.208",
         "1067.0",
         "416.25",
         "6907.0",
         "3.63",
         "3.09"
        ],
        [
         "99",
         "2458626.39",
         "1.15395",
         "2.236",
         "1550.0",
         "5.48364",
         "3534.3",
         "2148.0",
         "240.901",
         "6093.0",
         "4.2",
         "1.4"
        ],
        [
         "100",
         "2458643.103",
         "4.73703",
         "3.902",
         "2410.0",
         "25.7144",
         "53821.0",
         "4243.0",
         "778.127",
         "11600.0",
         "4.13",
         "2.48"
        ],
        [
         "101",
         "2458326.127",
         "2.76676",
         "2.6872178",
         "14947.43878",
         "12.2867389",
         "505.8840075",
         "1209.574123",
         "513.011",
         "5346.0",
         "4.48823",
         "0.984866"
        ]
       ],
       "shape": {
        "columns": 11,
        "rows": 2231
       }
      },
      "text/html": [
       "<div>\n",
       "<style scoped>\n",
       "    .dataframe tbody tr th:only-of-type {\n",
       "        vertical-align: middle;\n",
       "    }\n",
       "\n",
       "    .dataframe tbody tr th {\n",
       "        vertical-align: top;\n",
       "    }\n",
       "\n",
       "    .dataframe thead th {\n",
       "        text-align: right;\n",
       "    }\n",
       "</style>\n",
       "<table border=\"1\" class=\"dataframe\">\n",
       "  <thead>\n",
       "    <tr style=\"text-align: right;\">\n",
       "      <th></th>\n",
       "      <th>pl_tranmid</th>\n",
       "      <th>pl_orbper</th>\n",
       "      <th>pl_trandurh</th>\n",
       "      <th>pl_trandep</th>\n",
       "      <th>pl_rade</th>\n",
       "      <th>pl_insol</th>\n",
       "      <th>pl_eqt</th>\n",
       "      <th>st_dist</th>\n",
       "      <th>st_teff</th>\n",
       "      <th>st_logg</th>\n",
       "      <th>st_rad</th>\n",
       "    </tr>\n",
       "  </thead>\n",
       "  <tbody>\n",
       "    <tr>\n",
       "      <th>0</th>\n",
       "      <td>2459229.630</td>\n",
       "      <td>2.171348</td>\n",
       "      <td>2.017220</td>\n",
       "      <td>656.886099</td>\n",
       "      <td>5.818163</td>\n",
       "      <td>22601.948580</td>\n",
       "      <td>3127.204052</td>\n",
       "      <td>485.735</td>\n",
       "      <td>10249.0</td>\n",
       "      <td>4.19000</td>\n",
       "      <td>2.169860</td>\n",
       "    </tr>\n",
       "    <tr>\n",
       "      <th>4</th>\n",
       "      <td>2459987.047</td>\n",
       "      <td>3.573014</td>\n",
       "      <td>3.370000</td>\n",
       "      <td>755.000000</td>\n",
       "      <td>11.311300</td>\n",
       "      <td>54679.300000</td>\n",
       "      <td>4260.000000</td>\n",
       "      <td>356.437</td>\n",
       "      <td>9219.0</td>\n",
       "      <td>4.14000</td>\n",
       "      <td>2.150000</td>\n",
       "    </tr>\n",
       "    <tr>\n",
       "      <th>10</th>\n",
       "      <td>2458326.009</td>\n",
       "      <td>1.430370</td>\n",
       "      <td>1.616599</td>\n",
       "      <td>18960.712290</td>\n",
       "      <td>13.187450</td>\n",
       "      <td>1281.240825</td>\n",
       "      <td>1525.904809</td>\n",
       "      <td>375.310</td>\n",
       "      <td>5600.0</td>\n",
       "      <td>4.48851</td>\n",
       "      <td>0.890774</td>\n",
       "    </tr>\n",
       "    <tr>\n",
       "      <th>17</th>\n",
       "      <td>2459238.831</td>\n",
       "      <td>12.688942</td>\n",
       "      <td>7.920100</td>\n",
       "      <td>3232.852789</td>\n",
       "      <td>14.060834</td>\n",
       "      <td>425.159418</td>\n",
       "      <td>1158.131037</td>\n",
       "      <td>368.646</td>\n",
       "      <td>7601.0</td>\n",
       "      <td>4.31000</td>\n",
       "      <td>1.536410</td>\n",
       "    </tr>\n",
       "    <tr>\n",
       "      <th>18</th>\n",
       "      <td>2458518.965</td>\n",
       "      <td>1.104220</td>\n",
       "      <td>2.370000</td>\n",
       "      <td>14177.700000</td>\n",
       "      <td>21.044800</td>\n",
       "      <td>39459.300000</td>\n",
       "      <td>3926.000000</td>\n",
       "      <td>406.997</td>\n",
       "      <td>6995.2</td>\n",
       "      <td>4.07000</td>\n",
       "      <td>1.610000</td>\n",
       "    </tr>\n",
       "    <tr>\n",
       "      <th>...</th>\n",
       "      <td>...</td>\n",
       "      <td>...</td>\n",
       "      <td>...</td>\n",
       "      <td>...</td>\n",
       "      <td>...</td>\n",
       "      <td>...</td>\n",
       "      <td>...</td>\n",
       "      <td>...</td>\n",
       "      <td>...</td>\n",
       "      <td>...</td>\n",
       "      <td>...</td>\n",
       "    </tr>\n",
       "    <tr>\n",
       "      <th>7691</th>\n",
       "      <td>2458491.915</td>\n",
       "      <td>4.304380</td>\n",
       "      <td>3.037000</td>\n",
       "      <td>672.002000</td>\n",
       "      <td>13.756400</td>\n",
       "      <td>503.880000</td>\n",
       "      <td>1319.000000</td>\n",
       "      <td>785.176</td>\n",
       "      <td>6056.9</td>\n",
       "      <td>4.17000</td>\n",
       "      <td>4.820000</td>\n",
       "    </tr>\n",
       "    <tr>\n",
       "      <th>7697</th>\n",
       "      <td>2459229.900</td>\n",
       "      <td>2.396722</td>\n",
       "      <td>3.945317</td>\n",
       "      <td>384.898547</td>\n",
       "      <td>3.838449</td>\n",
       "      <td>15531.063620</td>\n",
       "      <td>2847.213599</td>\n",
       "      <td>543.152</td>\n",
       "      <td>10393.0</td>\n",
       "      <td>4.32000</td>\n",
       "      <td>1.877390</td>\n",
       "    </tr>\n",
       "    <tr>\n",
       "      <th>7700</th>\n",
       "      <td>2459230.149</td>\n",
       "      <td>8.413486</td>\n",
       "      <td>3.556833</td>\n",
       "      <td>17479.605330</td>\n",
       "      <td>20.510696</td>\n",
       "      <td>127.916421</td>\n",
       "      <td>857.731431</td>\n",
       "      <td>113.667</td>\n",
       "      <td>5786.0</td>\n",
       "      <td>4.52000</td>\n",
       "      <td>0.926261</td>\n",
       "    </tr>\n",
       "    <tr>\n",
       "      <th>7701</th>\n",
       "      <td>2459229.570</td>\n",
       "      <td>0.941436</td>\n",
       "      <td>1.360700</td>\n",
       "      <td>339.912662</td>\n",
       "      <td>4.529209</td>\n",
       "      <td>41562.587810</td>\n",
       "      <td>3641.626449</td>\n",
       "      <td>482.278</td>\n",
       "      <td>8322.0</td>\n",
       "      <td>4.01000</td>\n",
       "      <td>2.349860</td>\n",
       "    </tr>\n",
       "    <tr>\n",
       "      <th>7702</th>\n",
       "      <td>2459985.988</td>\n",
       "      <td>1.507896</td>\n",
       "      <td>2.759000</td>\n",
       "      <td>1839.000000</td>\n",
       "      <td>5.530910</td>\n",
       "      <td>9662.800000</td>\n",
       "      <td>2762.000000</td>\n",
       "      <td>180.020</td>\n",
       "      <td>6635.0</td>\n",
       "      <td>4.35000</td>\n",
       "      <td>1.300000</td>\n",
       "    </tr>\n",
       "  </tbody>\n",
       "</table>\n",
       "<p>2231 rows × 11 columns</p>\n",
       "</div>"
      ],
      "text/plain": [
       "       pl_tranmid  pl_orbper  pl_trandurh    pl_trandep    pl_rade  \\\n",
       "0     2459229.630   2.171348     2.017220    656.886099   5.818163   \n",
       "4     2459987.047   3.573014     3.370000    755.000000  11.311300   \n",
       "10    2458326.009   1.430370     1.616599  18960.712290  13.187450   \n",
       "17    2459238.831  12.688942     7.920100   3232.852789  14.060834   \n",
       "18    2458518.965   1.104220     2.370000  14177.700000  21.044800   \n",
       "...           ...        ...          ...           ...        ...   \n",
       "7691  2458491.915   4.304380     3.037000    672.002000  13.756400   \n",
       "7697  2459229.900   2.396722     3.945317    384.898547   3.838449   \n",
       "7700  2459230.149   8.413486     3.556833  17479.605330  20.510696   \n",
       "7701  2459229.570   0.941436     1.360700    339.912662   4.529209   \n",
       "7702  2459985.988   1.507896     2.759000   1839.000000   5.530910   \n",
       "\n",
       "          pl_insol       pl_eqt  st_dist  st_teff  st_logg    st_rad  \n",
       "0     22601.948580  3127.204052  485.735  10249.0  4.19000  2.169860  \n",
       "4     54679.300000  4260.000000  356.437   9219.0  4.14000  2.150000  \n",
       "10     1281.240825  1525.904809  375.310   5600.0  4.48851  0.890774  \n",
       "17      425.159418  1158.131037  368.646   7601.0  4.31000  1.536410  \n",
       "18    39459.300000  3926.000000  406.997   6995.2  4.07000  1.610000  \n",
       "...            ...          ...      ...      ...      ...       ...  \n",
       "7691    503.880000  1319.000000  785.176   6056.9  4.17000  4.820000  \n",
       "7697  15531.063620  2847.213599  543.152  10393.0  4.32000  1.877390  \n",
       "7700    127.916421   857.731431  113.667   5786.0  4.52000  0.926261  \n",
       "7701  41562.587810  3641.626449  482.278   8322.0  4.01000  2.349860  \n",
       "7702   9662.800000  2762.000000  180.020   6635.0  4.35000  1.300000  \n",
       "\n",
       "[2231 rows x 11 columns]"
      ]
     },
     "execution_count": 23,
     "metadata": {},
     "output_type": "execute_result"
    }
   ],
   "source": [
    "X=data_needed.drop(columns=['tfopwg_disp'],axis=0)\n",
    "X"
   ]
  },
  {
   "cell_type": "code",
   "execution_count": 24,
   "id": "84aa97a9",
   "metadata": {},
   "outputs": [
    {
     "data": {
      "application/vnd.microsoft.datawrangler.viewer.v0+json": {
       "columns": [
        {
         "name": "index",
         "rawType": "int64",
         "type": "integer"
        },
        {
         "name": "tfopwg_disp",
         "rawType": "object",
         "type": "string"
        }
       ],
       "ref": "26ceb651-0dcd-4bb1-bf7f-2c9a37b77fee",
       "rows": [
        [
         "0",
         "FP"
        ],
        [
         "4",
         "FP"
        ],
        [
         "10",
         "KP"
        ],
        [
         "17",
         "FP"
        ],
        [
         "18",
         "FP"
        ],
        [
         "19",
         "FP"
        ],
        [
         "21",
         "KP"
        ],
        [
         "23",
         "FP"
        ],
        [
         "24",
         "FA"
        ],
        [
         "25",
         "FP"
        ],
        [
         "28",
         "FP"
        ],
        [
         "32",
         "FP"
        ],
        [
         "34",
         "KP"
        ],
        [
         "35",
         "FP"
        ],
        [
         "36",
         "FP"
        ],
        [
         "39",
         "FP"
        ],
        [
         "42",
         "FP"
        ],
        [
         "45",
         "KP"
        ],
        [
         "47",
         "FP"
        ],
        [
         "49",
         "FP"
        ],
        [
         "51",
         "FP"
        ],
        [
         "52",
         "FP"
        ],
        [
         "53",
         "FP"
        ],
        [
         "54",
         "FP"
        ],
        [
         "55",
         "KP"
        ],
        [
         "56",
         "KP"
        ],
        [
         "57",
         "KP"
        ],
        [
         "58",
         "FA"
        ],
        [
         "59",
         "CP"
        ],
        [
         "61",
         "CP"
        ],
        [
         "62",
         "CP"
        ],
        [
         "67",
         "KP"
        ],
        [
         "70",
         "CP"
        ],
        [
         "72",
         "CP"
        ],
        [
         "73",
         "CP"
        ],
        [
         "76",
         "KP"
        ],
        [
         "78",
         "KP"
        ],
        [
         "79",
         "KP"
        ],
        [
         "81",
         "KP"
        ],
        [
         "82",
         "FP"
        ],
        [
         "83",
         "CP"
        ],
        [
         "85",
         "CP"
        ],
        [
         "86",
         "KP"
        ],
        [
         "88",
         "CP"
        ],
        [
         "90",
         "KP"
        ],
        [
         "95",
         "KP"
        ],
        [
         "98",
         "FP"
        ],
        [
         "99",
         "FA"
        ],
        [
         "100",
         "FP"
        ],
        [
         "101",
         "KP"
        ]
       ],
       "shape": {
        "columns": 1,
        "rows": 2231
       }
      },
      "text/plain": [
       "0       FP\n",
       "4       FP\n",
       "10      KP\n",
       "17      FP\n",
       "18      FP\n",
       "        ..\n",
       "7691    FP\n",
       "7697    FP\n",
       "7700    FP\n",
       "7701    FP\n",
       "7702    FP\n",
       "Name: tfopwg_disp, Length: 2231, dtype: object"
      ]
     },
     "execution_count": 24,
     "metadata": {},
     "output_type": "execute_result"
    }
   ],
   "source": [
    "Y=data_needed['tfopwg_disp']\n",
    "Y"
   ]
  },
  {
   "cell_type": "code",
   "execution_count": 25,
   "id": "b3f4adfc",
   "metadata": {},
   "outputs": [
    {
     "name": "stdout",
     "output_type": "stream",
     "text": [
      "      CP  FA  FP  KP\n",
      "0      0   0   1   0\n",
      "4      0   0   1   0\n",
      "10     0   0   0   1\n",
      "17     0   0   1   0\n",
      "18     0   0   1   0\n",
      "...   ..  ..  ..  ..\n",
      "7691   0   0   1   0\n",
      "7697   0   0   1   0\n",
      "7700   0   0   1   0\n",
      "7701   0   0   1   0\n",
      "7702   0   0   1   0\n",
      "\n",
      "[2231 rows x 4 columns]\n"
     ]
    }
   ],
   "source": [
    "y_dummies=pd.get_dummies(Y,dtype=int)\n",
    "print(y_dummies)"
   ]
  },
  {
   "cell_type": "code",
   "execution_count": 26,
   "id": "c7db4a70",
   "metadata": {},
   "outputs": [
    {
     "data": {
      "application/vnd.microsoft.datawrangler.viewer.v0+json": {
       "columns": [
        {
         "name": "index",
         "rawType": "int64",
         "type": "integer"
        },
        {
         "name": "pl_tranmid",
         "rawType": "float64",
         "type": "float"
        },
        {
         "name": "pl_orbper",
         "rawType": "float64",
         "type": "float"
        },
        {
         "name": "pl_trandurh",
         "rawType": "float64",
         "type": "float"
        },
        {
         "name": "pl_trandep",
         "rawType": "float64",
         "type": "float"
        },
        {
         "name": "pl_rade",
         "rawType": "float64",
         "type": "float"
        },
        {
         "name": "pl_insol",
         "rawType": "float64",
         "type": "float"
        },
        {
         "name": "pl_eqt",
         "rawType": "float64",
         "type": "float"
        },
        {
         "name": "st_dist",
         "rawType": "float64",
         "type": "float"
        },
        {
         "name": "st_teff",
         "rawType": "float64",
         "type": "float"
        },
        {
         "name": "st_logg",
         "rawType": "float64",
         "type": "float"
        },
        {
         "name": "st_rad",
         "rawType": "float64",
         "type": "float"
        }
       ],
       "ref": "bfb3fb14-3150-4e15-9897-d8c6c3be4fb7",
       "rows": [
        [
         "839",
         "2460298.678",
         "8.082354",
         "3.284",
         "559.0",
         "2.72432",
         "140.474",
         "959.0",
         "104.158",
         "5878.6",
         "4.28",
         "1.24"
        ],
        [
         "4172",
         "2459475.61",
         "2.7908285",
         "2.2599869",
         "10049.69388",
         "16.7559488",
         "1998.781152",
         "1705.340322",
         "320.639",
         "6635.91",
         "4.24728",
         "1.4707"
        ],
        [
         "7653",
         "2458439.355",
         "1.14288",
         "1.699",
         "2270.0",
         "7.08364",
         "3104.56",
         "2079.0",
         "211.593",
         "6706.0",
         "4.23",
         "1.51"
        ],
        [
         "7522",
         "2460063.008",
         "11.5509742",
         "3.571",
         "10842.0",
         "11.0252",
         "56.355",
         "763.0",
         "172.256",
         "5625.0",
         "4.49092",
         "1.06"
        ],
        [
         "3242",
         "2459501.093",
         "1.0590994",
         "0.9853402",
         "5155.297311",
         "10.6616565",
         "18843.61905",
         "2988.20803",
         "1696.26",
         "9332.0",
         "4.5",
         "1.42848"
        ]
       ],
       "shape": {
        "columns": 11,
        "rows": 5
       }
      },
      "text/html": [
       "<div>\n",
       "<style scoped>\n",
       "    .dataframe tbody tr th:only-of-type {\n",
       "        vertical-align: middle;\n",
       "    }\n",
       "\n",
       "    .dataframe tbody tr th {\n",
       "        vertical-align: top;\n",
       "    }\n",
       "\n",
       "    .dataframe thead th {\n",
       "        text-align: right;\n",
       "    }\n",
       "</style>\n",
       "<table border=\"1\" class=\"dataframe\">\n",
       "  <thead>\n",
       "    <tr style=\"text-align: right;\">\n",
       "      <th></th>\n",
       "      <th>pl_tranmid</th>\n",
       "      <th>pl_orbper</th>\n",
       "      <th>pl_trandurh</th>\n",
       "      <th>pl_trandep</th>\n",
       "      <th>pl_rade</th>\n",
       "      <th>pl_insol</th>\n",
       "      <th>pl_eqt</th>\n",
       "      <th>st_dist</th>\n",
       "      <th>st_teff</th>\n",
       "      <th>st_logg</th>\n",
       "      <th>st_rad</th>\n",
       "    </tr>\n",
       "  </thead>\n",
       "  <tbody>\n",
       "    <tr>\n",
       "      <th>839</th>\n",
       "      <td>2460298.678</td>\n",
       "      <td>8.082354</td>\n",
       "      <td>3.284000</td>\n",
       "      <td>559.000000</td>\n",
       "      <td>2.724320</td>\n",
       "      <td>140.474000</td>\n",
       "      <td>959.000000</td>\n",
       "      <td>104.158</td>\n",
       "      <td>5878.60</td>\n",
       "      <td>4.28000</td>\n",
       "      <td>1.24000</td>\n",
       "    </tr>\n",
       "    <tr>\n",
       "      <th>4172</th>\n",
       "      <td>2459475.610</td>\n",
       "      <td>2.790828</td>\n",
       "      <td>2.259987</td>\n",
       "      <td>10049.693880</td>\n",
       "      <td>16.755949</td>\n",
       "      <td>1998.781152</td>\n",
       "      <td>1705.340322</td>\n",
       "      <td>320.639</td>\n",
       "      <td>6635.91</td>\n",
       "      <td>4.24728</td>\n",
       "      <td>1.47070</td>\n",
       "    </tr>\n",
       "    <tr>\n",
       "      <th>7653</th>\n",
       "      <td>2458439.355</td>\n",
       "      <td>1.142880</td>\n",
       "      <td>1.699000</td>\n",
       "      <td>2270.000000</td>\n",
       "      <td>7.083640</td>\n",
       "      <td>3104.560000</td>\n",
       "      <td>2079.000000</td>\n",
       "      <td>211.593</td>\n",
       "      <td>6706.00</td>\n",
       "      <td>4.23000</td>\n",
       "      <td>1.51000</td>\n",
       "    </tr>\n",
       "    <tr>\n",
       "      <th>7522</th>\n",
       "      <td>2460063.008</td>\n",
       "      <td>11.550974</td>\n",
       "      <td>3.571000</td>\n",
       "      <td>10842.000000</td>\n",
       "      <td>11.025200</td>\n",
       "      <td>56.355000</td>\n",
       "      <td>763.000000</td>\n",
       "      <td>172.256</td>\n",
       "      <td>5625.00</td>\n",
       "      <td>4.49092</td>\n",
       "      <td>1.06000</td>\n",
       "    </tr>\n",
       "    <tr>\n",
       "      <th>3242</th>\n",
       "      <td>2459501.093</td>\n",
       "      <td>1.059099</td>\n",
       "      <td>0.985340</td>\n",
       "      <td>5155.297311</td>\n",
       "      <td>10.661656</td>\n",
       "      <td>18843.619050</td>\n",
       "      <td>2988.208030</td>\n",
       "      <td>1696.260</td>\n",
       "      <td>9332.00</td>\n",
       "      <td>4.50000</td>\n",
       "      <td>1.42848</td>\n",
       "    </tr>\n",
       "  </tbody>\n",
       "</table>\n",
       "</div>"
      ],
      "text/plain": [
       "       pl_tranmid  pl_orbper  pl_trandurh    pl_trandep    pl_rade  \\\n",
       "839   2460298.678   8.082354     3.284000    559.000000   2.724320   \n",
       "4172  2459475.610   2.790828     2.259987  10049.693880  16.755949   \n",
       "7653  2458439.355   1.142880     1.699000   2270.000000   7.083640   \n",
       "7522  2460063.008  11.550974     3.571000  10842.000000  11.025200   \n",
       "3242  2459501.093   1.059099     0.985340   5155.297311  10.661656   \n",
       "\n",
       "          pl_insol       pl_eqt   st_dist  st_teff  st_logg   st_rad  \n",
       "839     140.474000   959.000000   104.158  5878.60  4.28000  1.24000  \n",
       "4172   1998.781152  1705.340322   320.639  6635.91  4.24728  1.47070  \n",
       "7653   3104.560000  2079.000000   211.593  6706.00  4.23000  1.51000  \n",
       "7522     56.355000   763.000000   172.256  5625.00  4.49092  1.06000  \n",
       "3242  18843.619050  2988.208030  1696.260  9332.00  4.50000  1.42848  "
      ]
     },
     "execution_count": 26,
     "metadata": {},
     "output_type": "execute_result"
    }
   ],
   "source": [
    "train_x,test_x,train_y,test_y=train_test_split(X,y_dummies,test_size=0.2,random_state=3)\n",
    "train_x.head()"
   ]
  },
  {
   "cell_type": "code",
   "execution_count": 27,
   "id": "32827d69",
   "metadata": {},
   "outputs": [],
   "source": [
    "from sklearn.linear_model import LinearRegression\n",
    "from sklearn.ensemble import RandomForestRegressor\n",
    "from sklearn.metrics import mean_squared_error\n",
    "import statsmodels.api as sm"
   ]
  },
  {
   "cell_type": "code",
   "execution_count": 28,
   "id": "f7d4bf1f",
   "metadata": {},
   "outputs": [],
   "source": [
    "from sklearn.multioutput import MultiOutputRegressor"
   ]
  },
  {
   "cell_type": "code",
   "execution_count": 29,
   "id": "cf8ba255",
   "metadata": {},
   "outputs": [
    {
     "data": {
      "text/html": [
       "<style>#sk-container-id-1 {\n",
       "  /* Definition of color scheme common for light and dark mode */\n",
       "  --sklearn-color-text: #000;\n",
       "  --sklearn-color-text-muted: #666;\n",
       "  --sklearn-color-line: gray;\n",
       "  /* Definition of color scheme for unfitted estimators */\n",
       "  --sklearn-color-unfitted-level-0: #fff5e6;\n",
       "  --sklearn-color-unfitted-level-1: #f6e4d2;\n",
       "  --sklearn-color-unfitted-level-2: #ffe0b3;\n",
       "  --sklearn-color-unfitted-level-3: chocolate;\n",
       "  /* Definition of color scheme for fitted estimators */\n",
       "  --sklearn-color-fitted-level-0: #f0f8ff;\n",
       "  --sklearn-color-fitted-level-1: #d4ebff;\n",
       "  --sklearn-color-fitted-level-2: #b3dbfd;\n",
       "  --sklearn-color-fitted-level-3: cornflowerblue;\n",
       "\n",
       "  /* Specific color for light theme */\n",
       "  --sklearn-color-text-on-default-background: var(--sg-text-color, var(--theme-code-foreground, var(--jp-content-font-color1, black)));\n",
       "  --sklearn-color-background: var(--sg-background-color, var(--theme-background, var(--jp-layout-color0, white)));\n",
       "  --sklearn-color-border-box: var(--sg-text-color, var(--theme-code-foreground, var(--jp-content-font-color1, black)));\n",
       "  --sklearn-color-icon: #696969;\n",
       "\n",
       "  @media (prefers-color-scheme: dark) {\n",
       "    /* Redefinition of color scheme for dark theme */\n",
       "    --sklearn-color-text-on-default-background: var(--sg-text-color, var(--theme-code-foreground, var(--jp-content-font-color1, white)));\n",
       "    --sklearn-color-background: var(--sg-background-color, var(--theme-background, var(--jp-layout-color0, #111)));\n",
       "    --sklearn-color-border-box: var(--sg-text-color, var(--theme-code-foreground, var(--jp-content-font-color1, white)));\n",
       "    --sklearn-color-icon: #878787;\n",
       "  }\n",
       "}\n",
       "\n",
       "#sk-container-id-1 {\n",
       "  color: var(--sklearn-color-text);\n",
       "}\n",
       "\n",
       "#sk-container-id-1 pre {\n",
       "  padding: 0;\n",
       "}\n",
       "\n",
       "#sk-container-id-1 input.sk-hidden--visually {\n",
       "  border: 0;\n",
       "  clip: rect(1px 1px 1px 1px);\n",
       "  clip: rect(1px, 1px, 1px, 1px);\n",
       "  height: 1px;\n",
       "  margin: -1px;\n",
       "  overflow: hidden;\n",
       "  padding: 0;\n",
       "  position: absolute;\n",
       "  width: 1px;\n",
       "}\n",
       "\n",
       "#sk-container-id-1 div.sk-dashed-wrapped {\n",
       "  border: 1px dashed var(--sklearn-color-line);\n",
       "  margin: 0 0.4em 0.5em 0.4em;\n",
       "  box-sizing: border-box;\n",
       "  padding-bottom: 0.4em;\n",
       "  background-color: var(--sklearn-color-background);\n",
       "}\n",
       "\n",
       "#sk-container-id-1 div.sk-container {\n",
       "  /* jupyter's `normalize.less` sets `[hidden] { display: none; }`\n",
       "     but bootstrap.min.css set `[hidden] { display: none !important; }`\n",
       "     so we also need the `!important` here to be able to override the\n",
       "     default hidden behavior on the sphinx rendered scikit-learn.org.\n",
       "     See: https://github.com/scikit-learn/scikit-learn/issues/21755 */\n",
       "  display: inline-block !important;\n",
       "  position: relative;\n",
       "}\n",
       "\n",
       "#sk-container-id-1 div.sk-text-repr-fallback {\n",
       "  display: none;\n",
       "}\n",
       "\n",
       "div.sk-parallel-item,\n",
       "div.sk-serial,\n",
       "div.sk-item {\n",
       "  /* draw centered vertical line to link estimators */\n",
       "  background-image: linear-gradient(var(--sklearn-color-text-on-default-background), var(--sklearn-color-text-on-default-background));\n",
       "  background-size: 2px 100%;\n",
       "  background-repeat: no-repeat;\n",
       "  background-position: center center;\n",
       "}\n",
       "\n",
       "/* Parallel-specific style estimator block */\n",
       "\n",
       "#sk-container-id-1 div.sk-parallel-item::after {\n",
       "  content: \"\";\n",
       "  width: 100%;\n",
       "  border-bottom: 2px solid var(--sklearn-color-text-on-default-background);\n",
       "  flex-grow: 1;\n",
       "}\n",
       "\n",
       "#sk-container-id-1 div.sk-parallel {\n",
       "  display: flex;\n",
       "  align-items: stretch;\n",
       "  justify-content: center;\n",
       "  background-color: var(--sklearn-color-background);\n",
       "  position: relative;\n",
       "}\n",
       "\n",
       "#sk-container-id-1 div.sk-parallel-item {\n",
       "  display: flex;\n",
       "  flex-direction: column;\n",
       "}\n",
       "\n",
       "#sk-container-id-1 div.sk-parallel-item:first-child::after {\n",
       "  align-self: flex-end;\n",
       "  width: 50%;\n",
       "}\n",
       "\n",
       "#sk-container-id-1 div.sk-parallel-item:last-child::after {\n",
       "  align-self: flex-start;\n",
       "  width: 50%;\n",
       "}\n",
       "\n",
       "#sk-container-id-1 div.sk-parallel-item:only-child::after {\n",
       "  width: 0;\n",
       "}\n",
       "\n",
       "/* Serial-specific style estimator block */\n",
       "\n",
       "#sk-container-id-1 div.sk-serial {\n",
       "  display: flex;\n",
       "  flex-direction: column;\n",
       "  align-items: center;\n",
       "  background-color: var(--sklearn-color-background);\n",
       "  padding-right: 1em;\n",
       "  padding-left: 1em;\n",
       "}\n",
       "\n",
       "\n",
       "/* Toggleable style: style used for estimator/Pipeline/ColumnTransformer box that is\n",
       "clickable and can be expanded/collapsed.\n",
       "- Pipeline and ColumnTransformer use this feature and define the default style\n",
       "- Estimators will overwrite some part of the style using the `sk-estimator` class\n",
       "*/\n",
       "\n",
       "/* Pipeline and ColumnTransformer style (default) */\n",
       "\n",
       "#sk-container-id-1 div.sk-toggleable {\n",
       "  /* Default theme specific background. It is overwritten whether we have a\n",
       "  specific estimator or a Pipeline/ColumnTransformer */\n",
       "  background-color: var(--sklearn-color-background);\n",
       "}\n",
       "\n",
       "/* Toggleable label */\n",
       "#sk-container-id-1 label.sk-toggleable__label {\n",
       "  cursor: pointer;\n",
       "  display: flex;\n",
       "  width: 100%;\n",
       "  margin-bottom: 0;\n",
       "  padding: 0.5em;\n",
       "  box-sizing: border-box;\n",
       "  text-align: center;\n",
       "  align-items: start;\n",
       "  justify-content: space-between;\n",
       "  gap: 0.5em;\n",
       "}\n",
       "\n",
       "#sk-container-id-1 label.sk-toggleable__label .caption {\n",
       "  font-size: 0.6rem;\n",
       "  font-weight: lighter;\n",
       "  color: var(--sklearn-color-text-muted);\n",
       "}\n",
       "\n",
       "#sk-container-id-1 label.sk-toggleable__label-arrow:before {\n",
       "  /* Arrow on the left of the label */\n",
       "  content: \"▸\";\n",
       "  float: left;\n",
       "  margin-right: 0.25em;\n",
       "  color: var(--sklearn-color-icon);\n",
       "}\n",
       "\n",
       "#sk-container-id-1 label.sk-toggleable__label-arrow:hover:before {\n",
       "  color: var(--sklearn-color-text);\n",
       "}\n",
       "\n",
       "/* Toggleable content - dropdown */\n",
       "\n",
       "#sk-container-id-1 div.sk-toggleable__content {\n",
       "  max-height: 0;\n",
       "  max-width: 0;\n",
       "  overflow: hidden;\n",
       "  text-align: left;\n",
       "  /* unfitted */\n",
       "  background-color: var(--sklearn-color-unfitted-level-0);\n",
       "}\n",
       "\n",
       "#sk-container-id-1 div.sk-toggleable__content.fitted {\n",
       "  /* fitted */\n",
       "  background-color: var(--sklearn-color-fitted-level-0);\n",
       "}\n",
       "\n",
       "#sk-container-id-1 div.sk-toggleable__content pre {\n",
       "  margin: 0.2em;\n",
       "  border-radius: 0.25em;\n",
       "  color: var(--sklearn-color-text);\n",
       "  /* unfitted */\n",
       "  background-color: var(--sklearn-color-unfitted-level-0);\n",
       "}\n",
       "\n",
       "#sk-container-id-1 div.sk-toggleable__content.fitted pre {\n",
       "  /* unfitted */\n",
       "  background-color: var(--sklearn-color-fitted-level-0);\n",
       "}\n",
       "\n",
       "#sk-container-id-1 input.sk-toggleable__control:checked~div.sk-toggleable__content {\n",
       "  /* Expand drop-down */\n",
       "  max-height: 200px;\n",
       "  max-width: 100%;\n",
       "  overflow: auto;\n",
       "}\n",
       "\n",
       "#sk-container-id-1 input.sk-toggleable__control:checked~label.sk-toggleable__label-arrow:before {\n",
       "  content: \"▾\";\n",
       "}\n",
       "\n",
       "/* Pipeline/ColumnTransformer-specific style */\n",
       "\n",
       "#sk-container-id-1 div.sk-label input.sk-toggleable__control:checked~label.sk-toggleable__label {\n",
       "  color: var(--sklearn-color-text);\n",
       "  background-color: var(--sklearn-color-unfitted-level-2);\n",
       "}\n",
       "\n",
       "#sk-container-id-1 div.sk-label.fitted input.sk-toggleable__control:checked~label.sk-toggleable__label {\n",
       "  background-color: var(--sklearn-color-fitted-level-2);\n",
       "}\n",
       "\n",
       "/* Estimator-specific style */\n",
       "\n",
       "/* Colorize estimator box */\n",
       "#sk-container-id-1 div.sk-estimator input.sk-toggleable__control:checked~label.sk-toggleable__label {\n",
       "  /* unfitted */\n",
       "  background-color: var(--sklearn-color-unfitted-level-2);\n",
       "}\n",
       "\n",
       "#sk-container-id-1 div.sk-estimator.fitted input.sk-toggleable__control:checked~label.sk-toggleable__label {\n",
       "  /* fitted */\n",
       "  background-color: var(--sklearn-color-fitted-level-2);\n",
       "}\n",
       "\n",
       "#sk-container-id-1 div.sk-label label.sk-toggleable__label,\n",
       "#sk-container-id-1 div.sk-label label {\n",
       "  /* The background is the default theme color */\n",
       "  color: var(--sklearn-color-text-on-default-background);\n",
       "}\n",
       "\n",
       "/* On hover, darken the color of the background */\n",
       "#sk-container-id-1 div.sk-label:hover label.sk-toggleable__label {\n",
       "  color: var(--sklearn-color-text);\n",
       "  background-color: var(--sklearn-color-unfitted-level-2);\n",
       "}\n",
       "\n",
       "/* Label box, darken color on hover, fitted */\n",
       "#sk-container-id-1 div.sk-label.fitted:hover label.sk-toggleable__label.fitted {\n",
       "  color: var(--sklearn-color-text);\n",
       "  background-color: var(--sklearn-color-fitted-level-2);\n",
       "}\n",
       "\n",
       "/* Estimator label */\n",
       "\n",
       "#sk-container-id-1 div.sk-label label {\n",
       "  font-family: monospace;\n",
       "  font-weight: bold;\n",
       "  display: inline-block;\n",
       "  line-height: 1.2em;\n",
       "}\n",
       "\n",
       "#sk-container-id-1 div.sk-label-container {\n",
       "  text-align: center;\n",
       "}\n",
       "\n",
       "/* Estimator-specific */\n",
       "#sk-container-id-1 div.sk-estimator {\n",
       "  font-family: monospace;\n",
       "  border: 1px dotted var(--sklearn-color-border-box);\n",
       "  border-radius: 0.25em;\n",
       "  box-sizing: border-box;\n",
       "  margin-bottom: 0.5em;\n",
       "  /* unfitted */\n",
       "  background-color: var(--sklearn-color-unfitted-level-0);\n",
       "}\n",
       "\n",
       "#sk-container-id-1 div.sk-estimator.fitted {\n",
       "  /* fitted */\n",
       "  background-color: var(--sklearn-color-fitted-level-0);\n",
       "}\n",
       "\n",
       "/* on hover */\n",
       "#sk-container-id-1 div.sk-estimator:hover {\n",
       "  /* unfitted */\n",
       "  background-color: var(--sklearn-color-unfitted-level-2);\n",
       "}\n",
       "\n",
       "#sk-container-id-1 div.sk-estimator.fitted:hover {\n",
       "  /* fitted */\n",
       "  background-color: var(--sklearn-color-fitted-level-2);\n",
       "}\n",
       "\n",
       "/* Specification for estimator info (e.g. \"i\" and \"?\") */\n",
       "\n",
       "/* Common style for \"i\" and \"?\" */\n",
       "\n",
       ".sk-estimator-doc-link,\n",
       "a:link.sk-estimator-doc-link,\n",
       "a:visited.sk-estimator-doc-link {\n",
       "  float: right;\n",
       "  font-size: smaller;\n",
       "  line-height: 1em;\n",
       "  font-family: monospace;\n",
       "  background-color: var(--sklearn-color-background);\n",
       "  border-radius: 1em;\n",
       "  height: 1em;\n",
       "  width: 1em;\n",
       "  text-decoration: none !important;\n",
       "  margin-left: 0.5em;\n",
       "  text-align: center;\n",
       "  /* unfitted */\n",
       "  border: var(--sklearn-color-unfitted-level-1) 1pt solid;\n",
       "  color: var(--sklearn-color-unfitted-level-1);\n",
       "}\n",
       "\n",
       ".sk-estimator-doc-link.fitted,\n",
       "a:link.sk-estimator-doc-link.fitted,\n",
       "a:visited.sk-estimator-doc-link.fitted {\n",
       "  /* fitted */\n",
       "  border: var(--sklearn-color-fitted-level-1) 1pt solid;\n",
       "  color: var(--sklearn-color-fitted-level-1);\n",
       "}\n",
       "\n",
       "/* On hover */\n",
       "div.sk-estimator:hover .sk-estimator-doc-link:hover,\n",
       ".sk-estimator-doc-link:hover,\n",
       "div.sk-label-container:hover .sk-estimator-doc-link:hover,\n",
       ".sk-estimator-doc-link:hover {\n",
       "  /* unfitted */\n",
       "  background-color: var(--sklearn-color-unfitted-level-3);\n",
       "  color: var(--sklearn-color-background);\n",
       "  text-decoration: none;\n",
       "}\n",
       "\n",
       "div.sk-estimator.fitted:hover .sk-estimator-doc-link.fitted:hover,\n",
       ".sk-estimator-doc-link.fitted:hover,\n",
       "div.sk-label-container:hover .sk-estimator-doc-link.fitted:hover,\n",
       ".sk-estimator-doc-link.fitted:hover {\n",
       "  /* fitted */\n",
       "  background-color: var(--sklearn-color-fitted-level-3);\n",
       "  color: var(--sklearn-color-background);\n",
       "  text-decoration: none;\n",
       "}\n",
       "\n",
       "/* Span, style for the box shown on hovering the info icon */\n",
       ".sk-estimator-doc-link span {\n",
       "  display: none;\n",
       "  z-index: 9999;\n",
       "  position: relative;\n",
       "  font-weight: normal;\n",
       "  right: .2ex;\n",
       "  padding: .5ex;\n",
       "  margin: .5ex;\n",
       "  width: min-content;\n",
       "  min-width: 20ex;\n",
       "  max-width: 50ex;\n",
       "  color: var(--sklearn-color-text);\n",
       "  box-shadow: 2pt 2pt 4pt #999;\n",
       "  /* unfitted */\n",
       "  background: var(--sklearn-color-unfitted-level-0);\n",
       "  border: .5pt solid var(--sklearn-color-unfitted-level-3);\n",
       "}\n",
       "\n",
       ".sk-estimator-doc-link.fitted span {\n",
       "  /* fitted */\n",
       "  background: var(--sklearn-color-fitted-level-0);\n",
       "  border: var(--sklearn-color-fitted-level-3);\n",
       "}\n",
       "\n",
       ".sk-estimator-doc-link:hover span {\n",
       "  display: block;\n",
       "}\n",
       "\n",
       "/* \"?\"-specific style due to the `<a>` HTML tag */\n",
       "\n",
       "#sk-container-id-1 a.estimator_doc_link {\n",
       "  float: right;\n",
       "  font-size: 1rem;\n",
       "  line-height: 1em;\n",
       "  font-family: monospace;\n",
       "  background-color: var(--sklearn-color-background);\n",
       "  border-radius: 1rem;\n",
       "  height: 1rem;\n",
       "  width: 1rem;\n",
       "  text-decoration: none;\n",
       "  /* unfitted */\n",
       "  color: var(--sklearn-color-unfitted-level-1);\n",
       "  border: var(--sklearn-color-unfitted-level-1) 1pt solid;\n",
       "}\n",
       "\n",
       "#sk-container-id-1 a.estimator_doc_link.fitted {\n",
       "  /* fitted */\n",
       "  border: var(--sklearn-color-fitted-level-1) 1pt solid;\n",
       "  color: var(--sklearn-color-fitted-level-1);\n",
       "}\n",
       "\n",
       "/* On hover */\n",
       "#sk-container-id-1 a.estimator_doc_link:hover {\n",
       "  /* unfitted */\n",
       "  background-color: var(--sklearn-color-unfitted-level-3);\n",
       "  color: var(--sklearn-color-background);\n",
       "  text-decoration: none;\n",
       "}\n",
       "\n",
       "#sk-container-id-1 a.estimator_doc_link.fitted:hover {\n",
       "  /* fitted */\n",
       "  background-color: var(--sklearn-color-fitted-level-3);\n",
       "}\n",
       "</style><div id=\"sk-container-id-1\" class=\"sk-top-container\"><div class=\"sk-text-repr-fallback\"><pre>MultiOutputRegressor(estimator=LinearRegression())</pre><b>In a Jupyter environment, please rerun this cell to show the HTML representation or trust the notebook. <br />On GitHub, the HTML representation is unable to render, please try loading this page with nbviewer.org.</b></div><div class=\"sk-container\" hidden><div class=\"sk-item sk-dashed-wrapped\"><div class=\"sk-label-container\"><div class=\"sk-label fitted sk-toggleable\"><input class=\"sk-toggleable__control sk-hidden--visually\" id=\"sk-estimator-id-1\" type=\"checkbox\" ><label for=\"sk-estimator-id-1\" class=\"sk-toggleable__label fitted sk-toggleable__label-arrow\"><div><div>MultiOutputRegressor</div></div><div><a class=\"sk-estimator-doc-link fitted\" rel=\"noreferrer\" target=\"_blank\" href=\"https://scikit-learn.org/1.6/modules/generated/sklearn.multioutput.MultiOutputRegressor.html\">?<span>Documentation for MultiOutputRegressor</span></a><span class=\"sk-estimator-doc-link fitted\">i<span>Fitted</span></span></div></label><div class=\"sk-toggleable__content fitted\"><pre>MultiOutputRegressor(estimator=LinearRegression())</pre></div> </div></div><div class=\"sk-parallel\"><div class=\"sk-parallel-item\"><div class=\"sk-item\"><div class=\"sk-label-container\"><div class=\"sk-label fitted sk-toggleable\"><input class=\"sk-toggleable__control sk-hidden--visually\" id=\"sk-estimator-id-2\" type=\"checkbox\" ><label for=\"sk-estimator-id-2\" class=\"sk-toggleable__label fitted sk-toggleable__label-arrow\"><div><div>estimator: LinearRegression</div></div></label><div class=\"sk-toggleable__content fitted\"><pre>LinearRegression()</pre></div> </div></div><div class=\"sk-serial\"><div class=\"sk-item\"><div class=\"sk-estimator fitted sk-toggleable\"><input class=\"sk-toggleable__control sk-hidden--visually\" id=\"sk-estimator-id-3\" type=\"checkbox\" ><label for=\"sk-estimator-id-3\" class=\"sk-toggleable__label fitted sk-toggleable__label-arrow\"><div><div>LinearRegression</div></div><div><a class=\"sk-estimator-doc-link fitted\" rel=\"noreferrer\" target=\"_blank\" href=\"https://scikit-learn.org/1.6/modules/generated/sklearn.linear_model.LinearRegression.html\">?<span>Documentation for LinearRegression</span></a></div></label><div class=\"sk-toggleable__content fitted\"><pre>LinearRegression()</pre></div> </div></div></div></div></div></div></div></div></div>"
      ],
      "text/plain": [
       "MultiOutputRegressor(estimator=LinearRegression())"
      ]
     },
     "execution_count": 29,
     "metadata": {},
     "output_type": "execute_result"
    }
   ],
   "source": [
    "LR_model=MultiOutputRegressor(LinearRegression())\n",
    "LR_model.fit(train_x,train_y)"
   ]
  },
  {
   "cell_type": "code",
   "execution_count": 30,
   "id": "31746075",
   "metadata": {},
   "outputs": [],
   "source": [
    "y_predicted_LR=LR_model.predict(test_x)"
   ]
  },
  {
   "cell_type": "code",
   "execution_count": 31,
   "id": "f59a1da6",
   "metadata": {},
   "outputs": [],
   "source": [
    "from sklearn.metrics import mean_squared_error,r2_score\n",
    "mse=mean_squared_error(test_y,y_predicted_LR)\n",
    "\n",
    "r2=r2_score(test_y,y_predicted_LR)"
   ]
  },
  {
   "cell_type": "code",
   "execution_count": 32,
   "id": "8cf06161",
   "metadata": {},
   "outputs": [
    {
     "name": "stdout",
     "output_type": "stream",
     "text": [
      "0.1472568034469281 0.08617933730768193\n"
     ]
    }
   ],
   "source": [
    "print(mse,r2)"
   ]
  },
  {
   "cell_type": "code",
   "execution_count": 35,
   "id": "60bfd890",
   "metadata": {},
   "outputs": [],
   "source": [
    "RF=RandomForestClassifier(n_estimators=220,max_depth=87)"
   ]
  },
  {
   "cell_type": "code",
   "execution_count": 34,
   "id": "4284bbec",
   "metadata": {},
   "outputs": [],
   "source": [
    "from sklearn.ensemble import RandomForestClassifier\n",
    "\n",
    "from sklearn.metrics import mean_squared_error\n",
    "from sklearn.model_selection import RandomizedSearchCV"
   ]
  },
  {
   "cell_type": "code",
   "execution_count": 36,
   "id": "0a4281a8",
   "metadata": {},
   "outputs": [],
   "source": [
    "model_rf1=RF.fit(train_x,train_y)\n",
    "y_predicted_RF=model_rf1.predict(test_x)\n"
   ]
  },
  {
   "cell_type": "code",
   "execution_count": 37,
   "id": "fce2469c",
   "metadata": {},
   "outputs": [],
   "source": [
    "from sklearn.metrics import classification_report, confusion_matrix, accuracy_score\n",
    "y_pred_proba_rf = model_rf1.predict_proba(test_x)  # Probability scores"
   ]
  },
  {
   "cell_type": "code",
   "execution_count": 38,
   "id": "7a267cb3",
   "metadata": {},
   "outputs": [
    {
     "name": "stdout",
     "output_type": "stream",
     "text": [
      "Accuracy: 0.6219\n",
      "\n",
      "Classification Report:\n",
      "              precision    recall  f1-score   support\n",
      "\n",
      "           0       0.73      0.50      0.60       129\n",
      "           1       1.00      0.05      0.10        19\n",
      "           2       0.80      0.77      0.79       203\n",
      "           3       0.67      0.58      0.62        96\n",
      "\n",
      "   micro avg       0.76      0.62      0.68       447\n",
      "   macro avg       0.80      0.48      0.53       447\n",
      "weighted avg       0.76      0.62      0.67       447\n",
      " samples avg       0.62      0.62      0.62       447\n",
      "\n"
     ]
    },
    {
     "name": "stderr",
     "output_type": "stream",
     "text": [
      "c:\\Users\\purva\\anaconda3\\Lib\\site-packages\\sklearn\\metrics\\_classification.py:1565: UndefinedMetricWarning: Precision is ill-defined and being set to 0.0 in samples with no predicted labels. Use `zero_division` parameter to control this behavior.\n",
      "  _warn_prf(average, modifier, f\"{metric.capitalize()} is\", len(result))\n"
     ]
    }
   ],
   "source": [
    "# 1. Accuracy\n",
    "accuracy = accuracy_score(test_y, y_predicted_RF)\n",
    "print(f\"Accuracy: {accuracy:.4f}\")\n",
    "\n",
    "# 2. Detailed classification report\n",
    "print(\"\\nClassification Report:\")\n",
    "print(classification_report(test_y, y_predicted_RF))\n"
   ]
  },
  {
   "cell_type": "code",
   "execution_count": 39,
   "id": "d3aac5f5",
   "metadata": {},
   "outputs": [
    {
     "name": "stdout",
     "output_type": "stream",
     "text": [
      "Fitting 5 folds for each of 324 candidates, totalling 1620 fits\n"
     ]
    },
    {
     "name": "stderr",
     "output_type": "stream",
     "text": [
      "c:\\Users\\purva\\anaconda3\\Lib\\site-packages\\sklearn\\model_selection\\_validation.py:528: FitFailedWarning: \n",
      "540 fits failed out of a total of 1620.\n",
      "The score on these train-test partitions for these parameters will be set to nan.\n",
      "If these failures are not expected, you can try to debug them by setting error_score='raise'.\n",
      "\n",
      "Below are more details about the failures:\n",
      "--------------------------------------------------------------------------------\n",
      "343 fits failed with the following error:\n",
      "Traceback (most recent call last):\n",
      "  File \"c:\\Users\\purva\\anaconda3\\Lib\\site-packages\\sklearn\\model_selection\\_validation.py\", line 866, in _fit_and_score\n",
      "    estimator.fit(X_train, y_train, **fit_params)\n",
      "    ~~~~~~~~~~~~~^^^^^^^^^^^^^^^^^^^^^^^^^^^^^^^^\n",
      "  File \"c:\\Users\\purva\\anaconda3\\Lib\\site-packages\\sklearn\\base.py\", line 1382, in wrapper\n",
      "    estimator._validate_params()\n",
      "    ~~~~~~~~~~~~~~~~~~~~~~~~~~^^\n",
      "  File \"c:\\Users\\purva\\anaconda3\\Lib\\site-packages\\sklearn\\base.py\", line 436, in _validate_params\n",
      "    validate_parameter_constraints(\n",
      "    ~~~~~~~~~~~~~~~~~~~~~~~~~~~~~~^\n",
      "        self._parameter_constraints,\n",
      "        ^^^^^^^^^^^^^^^^^^^^^^^^^^^^\n",
      "        self.get_params(deep=False),\n",
      "        ^^^^^^^^^^^^^^^^^^^^^^^^^^^^\n",
      "        caller_name=self.__class__.__name__,\n",
      "        ^^^^^^^^^^^^^^^^^^^^^^^^^^^^^^^^^^^^\n",
      "    )\n",
      "    ^\n",
      "  File \"c:\\Users\\purva\\anaconda3\\Lib\\site-packages\\sklearn\\utils\\_param_validation.py\", line 98, in validate_parameter_constraints\n",
      "    raise InvalidParameterError(\n",
      "    ...<2 lines>...\n",
      "    )\n",
      "sklearn.utils._param_validation.InvalidParameterError: The 'max_features' parameter of RandomForestClassifier must be an int in the range [1, inf), a float in the range (0.0, 1.0], a str among {'sqrt', 'log2'} or None. Got 'auto' instead.\n",
      "\n",
      "--------------------------------------------------------------------------------\n",
      "197 fits failed with the following error:\n",
      "Traceback (most recent call last):\n",
      "  File \"c:\\Users\\purva\\anaconda3\\Lib\\site-packages\\sklearn\\model_selection\\_validation.py\", line 866, in _fit_and_score\n",
      "    estimator.fit(X_train, y_train, **fit_params)\n",
      "    ~~~~~~~~~~~~~^^^^^^^^^^^^^^^^^^^^^^^^^^^^^^^^\n",
      "  File \"c:\\Users\\purva\\anaconda3\\Lib\\site-packages\\sklearn\\base.py\", line 1382, in wrapper\n",
      "    estimator._validate_params()\n",
      "    ~~~~~~~~~~~~~~~~~~~~~~~~~~^^\n",
      "  File \"c:\\Users\\purva\\anaconda3\\Lib\\site-packages\\sklearn\\base.py\", line 436, in _validate_params\n",
      "    validate_parameter_constraints(\n",
      "    ~~~~~~~~~~~~~~~~~~~~~~~~~~~~~~^\n",
      "        self._parameter_constraints,\n",
      "        ^^^^^^^^^^^^^^^^^^^^^^^^^^^^\n",
      "        self.get_params(deep=False),\n",
      "        ^^^^^^^^^^^^^^^^^^^^^^^^^^^^\n",
      "        caller_name=self.__class__.__name__,\n",
      "        ^^^^^^^^^^^^^^^^^^^^^^^^^^^^^^^^^^^^\n",
      "    )\n",
      "    ^\n",
      "  File \"c:\\Users\\purva\\anaconda3\\Lib\\site-packages\\sklearn\\utils\\_param_validation.py\", line 98, in validate_parameter_constraints\n",
      "    raise InvalidParameterError(\n",
      "    ...<2 lines>...\n",
      "    )\n",
      "sklearn.utils._param_validation.InvalidParameterError: The 'max_features' parameter of RandomForestClassifier must be an int in the range [1, inf), a float in the range (0.0, 1.0], a str among {'log2', 'sqrt'} or None. Got 'auto' instead.\n",
      "\n",
      "  warnings.warn(some_fits_failed_message, FitFailedWarning)\n",
      "c:\\Users\\purva\\anaconda3\\Lib\\site-packages\\sklearn\\model_selection\\_search.py:1108: UserWarning: One or more of the test scores are non-finite: [       nan        nan        nan        nan        nan        nan\n",
      "        nan        nan        nan        nan        nan        nan\n",
      "        nan        nan        nan        nan        nan        nan\n",
      "        nan        nan        nan        nan        nan        nan\n",
      "        nan        nan        nan 0.64295314 0.64463381 0.64406729\n",
      " 0.63789696 0.63789853 0.64126302 0.6351037  0.63734775 0.63790482\n",
      " 0.63735562 0.64406572 0.64238662 0.6323073  0.63118056 0.64182639\n",
      " 0.63062349 0.63286281 0.63622887 0.62725899 0.62277563 0.62389293\n",
      " 0.62725899 0.62277563 0.62389293 0.63566865 0.63173449 0.62725899\n",
      " 0.64295314 0.64463381 0.64406729 0.63789696 0.63789853 0.64126302\n",
      " 0.6351037  0.63734775 0.63790482 0.63735562 0.64406572 0.64238662\n",
      " 0.6323073  0.63118056 0.64182639 0.63062349 0.63286281 0.63622887\n",
      " 0.62725899 0.62277563 0.62389293 0.62725899 0.62277563 0.62389293\n",
      " 0.63566865 0.63173449 0.62725899        nan        nan        nan\n",
      "        nan        nan        nan        nan        nan        nan\n",
      "        nan        nan        nan        nan        nan        nan\n",
      "        nan        nan        nan        nan        nan        nan\n",
      "        nan        nan        nan        nan        nan        nan\n",
      " 0.6261291  0.64182954 0.64574954 0.63622573 0.63902999 0.63958707\n",
      " 0.64183426 0.64183269 0.63847134 0.63677966 0.64351021 0.6390237\n",
      " 0.63454191 0.6379064  0.64070752 0.63511315 0.63566865 0.63790325\n",
      " 0.62669562 0.62837787 0.63117427 0.62669562 0.62837787 0.63117427\n",
      " 0.63117741 0.63398326 0.62949832 0.6261291  0.64182954 0.64574954\n",
      " 0.63622573 0.63902999 0.63958707 0.64183426 0.64183269 0.63847134\n",
      " 0.63677966 0.64351021 0.6390237  0.63454191 0.6379064  0.64070752\n",
      " 0.63511315 0.63566865 0.63790325 0.62669562 0.62837787 0.63117427\n",
      " 0.62669562 0.62837787 0.63117427 0.63117741 0.63398326 0.62949832\n",
      "        nan        nan        nan        nan        nan        nan\n",
      "        nan        nan        nan        nan        nan        nan\n",
      "        nan        nan        nan        nan        nan        nan\n",
      "        nan        nan        nan        nan        nan        nan\n",
      "        nan        nan        nan 0.64295314 0.64351651 0.64238662\n",
      " 0.63677808 0.6379001  0.64014257 0.63510528 0.63566865 0.63622415\n",
      " 0.63567494 0.64294527 0.64350707 0.63399112 0.63398483 0.64126617\n",
      " 0.63062349 0.63286281 0.63622887 0.62725899 0.62277563 0.62389293\n",
      " 0.62725899 0.62277563 0.62389293 0.63566865 0.63173449 0.62725899\n",
      " 0.64295314 0.64351651 0.64238662 0.63677808 0.6379001  0.64014257\n",
      " 0.63510528 0.63566865 0.63622415 0.63567494 0.64294527 0.64350707\n",
      " 0.63399112 0.63398483 0.64126617 0.63062349 0.63286281 0.63622887\n",
      " 0.62725899 0.62277563 0.62389293 0.62725899 0.62277563 0.62389293\n",
      " 0.63566865 0.63173449 0.62725899        nan        nan        nan\n",
      "        nan        nan        nan        nan        nan        nan\n",
      "        nan        nan        nan        nan        nan        nan\n",
      "        nan        nan        nan        nan        nan        nan\n",
      "        nan        nan        nan        nan        nan        nan\n",
      " 0.64295314 0.64463381 0.64406729 0.63789696 0.63789853 0.64126302\n",
      " 0.6351037  0.63734775 0.63790482 0.63735562 0.64406572 0.64238662\n",
      " 0.6323073  0.63118056 0.64182639 0.63062349 0.63286281 0.63622887\n",
      " 0.62725899 0.62277563 0.62389293 0.62725899 0.62277563 0.62389293\n",
      " 0.63566865 0.63173449 0.62725899 0.64295314 0.64463381 0.64406729\n",
      " 0.63789696 0.63789853 0.64126302 0.6351037  0.63734775 0.63790482\n",
      " 0.63735562 0.64406572 0.64238662 0.6323073  0.63118056 0.64182639\n",
      " 0.63062349 0.63286281 0.63622887 0.62725899 0.62277563 0.62389293\n",
      " 0.62725899 0.62277563 0.62389293 0.63566865 0.63173449 0.62725899]\n",
      "  warnings.warn(\n"
     ]
    },
    {
     "name": "stdout",
     "output_type": "stream",
     "text": [
      "Best parameters found:  {'max_depth': 10, 'max_features': 'sqrt', 'min_samples_leaf': 1, 'min_samples_split': 2, 'n_estimators': 200}\n",
      "Best cross-validation score:  0.645749535769364\n"
     ]
    }
   ],
   "source": [
    "from sklearn.ensemble import RandomForestClassifier\n",
    "from sklearn.model_selection import GridSearchCV, train_test_split\n",
    "from sklearn.metrics import classification_report, accuracy_score\n",
    "import numpy as np\n",
    "\n",
    "# Define parameter grid\n",
    "param_grid = {\n",
    "    'n_estimators': [50, 100, 200],\n",
    "    'max_depth': [None, 10, 20, 30],\n",
    "    'min_samples_split': [2, 5, 10],\n",
    "    'min_samples_leaf': [1, 2, 4],\n",
    "    'max_features': ['auto', 'sqrt', 'log2']\n",
    "}\n",
    "\n",
    "# Initialize Random Forest\n",
    "rf = RandomForestClassifier(random_state=42)\n",
    "\n",
    "# Perform Grid Search\n",
    "grid_search = GridSearchCV(\n",
    "    estimator=rf,\n",
    "    param_grid=param_grid,\n",
    "    cv=5,                    # 5-fold cross-validation\n",
    "    scoring='accuracy',       # Metric to optimize\n",
    "    n_jobs=-1,               # Use all available cores\n",
    "    verbose=1                # Show progress\n",
    ")\n",
    "\n",
    "# Fit grid search\n",
    "grid_search.fit(train_x, train_y)\n",
    "\n",
    "# Best parameters and score\n",
    "print(\"Best parameters found: \", grid_search.best_params_)\n",
    "print(\"Best cross-validation score: \", grid_search.best_score_)"
   ]
  },
  {
   "cell_type": "code",
   "execution_count": null,
   "id": "7220f111",
   "metadata": {},
   "outputs": [
    {
     "name": "stdout",
     "output_type": "stream",
     "text": [
      "Test Accuracy with Best Model: 0.6488\n",
      "\n",
      "Classification Report:\n",
      "              precision    recall  f1-score   support\n",
      "\n",
      "           0       0.76      0.52      0.62       129\n",
      "           1       1.00      0.05      0.10        19\n",
      "           2       0.83      0.79      0.81       203\n",
      "           3       0.69      0.64      0.66        96\n",
      "\n",
      "   micro avg       0.78      0.65      0.71       447\n",
      "   macro avg       0.82      0.50      0.55       447\n",
      "weighted avg       0.78      0.65      0.69       447\n",
      " samples avg       0.65      0.65      0.65       447\n",
      "\n",
      "Improvement: 0.0000\n"
     ]
    },
    {
     "name": "stderr",
     "output_type": "stream",
     "text": [
      "c:\\Users\\purva\\anaconda3\\Lib\\site-packages\\sklearn\\metrics\\_classification.py:1565: UndefinedMetricWarning: Precision is ill-defined and being set to 0.0 in samples with no predicted labels. Use `zero_division` parameter to control this behavior.\n",
      "  _warn_prf(average, modifier, f\"{metric.capitalize()} is\", len(result))\n"
     ]
    }
   ],
   "source": [
    "# Get the best model\n",
    "best_rf = grid_search.best_estimator_\n",
    "\n",
    "# Make predictions with best model\n",
    "y_pred_best_rf = best_rf.predict(test_x)\n",
    "y_pred_proba_best_rf = best_rf.predict_proba(test_x)\n",
    "\n",
    "# Evaluate on test set\n",
    "test_accuracy_best = accuracy_score(test_y, y_pred_best_rf)\n",
    "print(f\"Test Accuracy with Best Model: {test_accuracy_best:.4f}\")\n",
    "print(\"\\nClassification Report:\")\n",
    "print(classification_report(test_y, y_pred_best_rf))\n",
    "\n",
    "\n",
    "print(f\"Improvement: {test_accuracy_best - accuracy:.4f}\")"
   ]
  },
  {
   "cell_type": "code",
   "execution_count": null,
   "id": "23f77555",
   "metadata": {},
   "outputs": [],
   "source": []
  }
 ],
 "metadata": {
  "kernelspec": {
   "display_name": "base",
   "language": "python",
   "name": "python3"
  },
  "language_info": {
   "codemirror_mode": {
    "name": "ipython",
    "version": 3
   },
   "file_extension": ".py",
   "mimetype": "text/x-python",
   "name": "python",
   "nbconvert_exporter": "python",
   "pygments_lexer": "ipython3",
   "version": "3.13.5"
  }
 },
 "nbformat": 4,
 "nbformat_minor": 5
}
